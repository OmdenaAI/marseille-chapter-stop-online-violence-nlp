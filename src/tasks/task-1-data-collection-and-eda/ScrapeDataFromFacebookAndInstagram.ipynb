{
  "nbformat": 4,
  "nbformat_minor": 0,
  "metadata": {
    "colab": {
      "provenance": []
    },
    "kernelspec": {
      "name": "python3",
      "display_name": "Python 3"
    },
    "language_info": {
      "name": "python"
    }
  },
  "cells": [
    {
      "cell_type": "markdown",
      "source": [
        "### Using snscrape and facebook_scraper"
      ],
      "metadata": {
        "id": "xN83bpZJAMM9"
      }
    },
    {
      "cell_type": "markdown",
      "source": [
        "#### install facebookscraper and snscrape libraries"
      ],
      "metadata": {
        "id": "vZj2g9zCA7v4"
      }
    },
    {
      "cell_type": "code",
      "execution_count": null,
      "metadata": {
        "id": "T54pXCOoALed"
      },
      "outputs": [],
      "source": [
        "import csv\n",
        "import facebook_scraper\n",
        "import subprocess\n",
        "\n",
        "class CommentScraper:\n",
        "    def __init__(self):\n",
        "        # Set the output file\n",
        "        self.OUTPUT_FILE = \"abusive_comments.csv\"\n",
        "\n",
        "    def scrape_instagram_comments(self, account):\n",
        "        \"\"\"Scrape the comments from an Instagram account\"\"\"\n",
        "\n",
        "        # Use the snscrape tool to scrape the comments from the target account\n",
        "        result = subprocess.run(\n",
        "            [\"snscrape\", \"instagram-user\", account, \"--comments\"],\n",
        "            stdout=subprocess.PIPE,\n",
        "            stderr=subprocess.PIPE,\n",
        "            universal_newlines=True,\n",
        "        )\n",
        "\n",
        "        # Open the output file in append mode\n",
        "        with open(self.OUTPUT_FILE, \"a\", newline=\"\") as csvfile:\n",
        "            # Create a CSV writer\n",
        "            writer = csv.writer(csvfile, delimiter=\",\")\n",
        "\n",
        "            # Parse the output of the snscrape tool\n",
        "            for line in result.stdout.split(\"\\n\"):\n",
        "                # Skip empty lines\n",
        "                if not line:\n",
        "                    continue\n",
        "\n",
        "                # Split the line into columns\n",
        "                post_id, comment = line.split(\"\\t\")\n",
        "\n",
        "                # Check if the comment is abusive\n",
        "                if \"abusive\" in comment.lower():\n",
        "                    # Write each abusive comment to a row in the CSV file\n",
        "                    writer.writerow([account, post_id, comment])\n",
        "\n",
        "    def scrape_facebook_comments(self, account):\n",
        "        \"\"\"Scrape the comments from a Facebook account\"\"\"\n",
        "\n",
        "        # Use the facebook-scraper library to scrape the posts from the target account\n",
        "        posts = facebook_scraper.get_posts(account, pages=1)\n",
        "\n",
        "        # Open the output file in append mode\n",
        "        with open(self.OUTPUT_FILE, \"a\", newline=\"\") as csvfile:\n",
        "            # Create a CSV writer\n",
        "            writer = csv.writer(csvfile, delimiter=\",\")\n",
        "\n",
        "            # Iterate through the posts and extract the abusive comments\n",
        "            for post in posts:\n",
        "                comments = post[\"comments\"]\n",
        "                for comment in comments:\n",
        "                    if \"abusive\" in comment[\"text\"].lower():\n",
        "                        # Write each abusive comment to a row in the CSV file\n",
        "                        writer.writerow([account, post[\"post_id\"], comment[\"text\"]])\n",
        "# Create an instance of the CommentScraper class\n",
        "scraper = CommentScraper()\n",
        "\n",
        "# Scrape the comments from each target account\n",
        "for account in ACCOUNTS:\n",
        "    if account.startswith(\"instagram\"):\n",
        "        scraper.scrape_instagram_comments(account)\n",
        "    elif account.startswith(\"facebook\"):\n",
        "        scraper.scrape_facebook_comments(account)\n"
      ]
    },
    {
      "cell_type": "markdown",
      "source": [
        "# One Downside with this approach is that we cannot use it for multiple users. It is just like hard coding."
      ],
      "metadata": {
        "id": "xoL_EqLDBQyO"
      }
    },
    {
      "cell_type": "markdown",
      "source": [
        "#### One more approach I think we can try"
      ],
      "metadata": {
        "id": "Bk_z3lIBBeU6"
      }
    },
    {
      "cell_type": "markdown",
      "source": [
        "### Facebook GraphAPI and Instagram API"
      ],
      "metadata": {
        "id": "uOnHfp2IAgTH"
      }
    },
    {
      "cell_type": "markdown",
      "source": [
        "#### I will figure out facebook graph api and instagram api as we need to scrape data from every users."
      ],
      "metadata": {
        "id": "_fmKm7YjBCBs"
      }
    },
    {
      "cell_type": "code",
      "source": [
        "# Import necessary libraries\n",
        "import csv\n",
        "import nltk\n",
        "from nltk.sentiment.vader import SentimentIntensityAnalyzer\n",
        "import facebook\n",
        "import instagram\n",
        "\n",
        "# Set up SentimentIntensityAnalyzer\n",
        "nltk.download('vader_lexicon')\n",
        "analyzer = SentimentIntensityAnalyzer()\n",
        "\n",
        "# Define a list of abusive words to check for\n",
        "abusive_words = ['hate', 'bigot', 'ignorant', 'stupid', 'idiot']\n",
        "\n",
        "# Authenticate with Facebook and Instagram API\n",
        "fb_access_token = \"XXX\"\n",
        "fb_api = facebook.GraphAPI(access_token=fb_access_token)\n",
        "insta_client_id = \"XXX\"\n",
        "insta_client_secret = \"XXX\"\n",
        "insta_access_token = \"XXX\"\n",
        "insta_api = instagram.client(client_id=insta_client_id, client_secret=insta_client_secret, access_token=insta_access_token)\n",
        "\n",
        "# Get comments from Facebook and Instagram\n",
        "fb_comments = fb_api.get_object(\"me/comments\")\n",
        "insta_comments = insta_api.media_comments(\"media-id\")\n",
        "\n",
        "# Open a CSV file for writing\n",
        "with open(\"abusive_comments.csv\", \"w\") as csv_file:\n",
        "  writer = csv.writer(csv_file)\n",
        "\n",
        "  # Check each comment for abusive words\n",
        "  for comment in fb_comments + insta_comments:\n",
        "    scores = analyzer.polarity_scores(comment)\n",
        "    for word in comment.split():\n",
        "      if word in abusive_words:\n",
        "        # Write the abusive comment to the CSV file\n",
        "        writer.writerow([comment])\n",
        "        break\n"
      ],
      "metadata": {
        "id": "5b7p3Nb6Afwu"
      },
      "execution_count": null,
      "outputs": []
    }
  ]
}