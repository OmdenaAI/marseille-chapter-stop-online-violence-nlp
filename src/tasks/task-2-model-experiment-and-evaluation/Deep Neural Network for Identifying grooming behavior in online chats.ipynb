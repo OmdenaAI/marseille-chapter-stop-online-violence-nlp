{
  "nbformat": 4,
  "nbformat_minor": 0,
  "metadata": {
    "colab": {
      "provenance": [],
      "collapsed_sections": [
        "GQo-u8bQVvHX",
        "8ULjFfcV8BRe"
      ]
    },
    "kernelspec": {
      "name": "python3",
      "display_name": "Python 3"
    },
    "language_info": {
      "name": "python"
    }
  },
  "cells": [
    {
      "cell_type": "markdown",
      "source": [
        "### Imports"
      ],
      "metadata": {
        "id": "GQo-u8bQVvHX"
      }
    },
    {
      "cell_type": "code",
      "source": [
        "import pandas as pd\n",
        "import numpy as np\n",
        "import matplotlib.pyplot as plt\n",
        "import string\n",
        "import os\n",
        "import re\n",
        "from collections import Counter\n",
        "import nltk\n",
        "nltk.download('stopwords')\n",
        "nltk.download('punkt')\n",
        "from nltk.corpus import stopwords\n",
        "from nltk.tokenize import word_tokenize\n",
        "from nltk.stem import WordNetLemmatizer \n",
        "lemmatizer = WordNetLemmatizer()\n",
        "\n",
        "from keras.preprocessing.text import Tokenizer\n",
        "from nltk import WordNetLemmatizer\n",
        "from nltk.tokenize import RegexpTokenizer\n",
        "nltk.download('wordnet')\n",
        "nltk.download('omw-1.4')\n"
      ],
      "metadata": {
        "id": "f_Jri3IsHprR",
        "colab": {
          "base_uri": "https://localhost:8080/"
        },
        "outputId": "06135c74-dcda-4778-96a8-5b9b7ee12baa"
      },
      "execution_count": 216,
      "outputs": [
        {
          "output_type": "stream",
          "name": "stderr",
          "text": [
            "[nltk_data] Downloading package stopwords to /root/nltk_data...\n",
            "[nltk_data]   Package stopwords is already up-to-date!\n",
            "[nltk_data] Downloading package punkt to /root/nltk_data...\n",
            "[nltk_data]   Package punkt is already up-to-date!\n",
            "[nltk_data] Downloading package wordnet to /root/nltk_data...\n",
            "[nltk_data]   Package wordnet is already up-to-date!\n",
            "[nltk_data] Downloading package omw-1.4 to /root/nltk_data...\n",
            "[nltk_data]   Package omw-1.4 is already up-to-date!\n"
          ]
        },
        {
          "output_type": "execute_result",
          "data": {
            "text/plain": [
              "True"
            ]
          },
          "metadata": {},
          "execution_count": 216
        }
      ]
    },
    {
      "cell_type": "markdown",
      "source": [
        "### data preparation"
      ],
      "metadata": {
        "id": "8ULjFfcV8BRe"
      }
    },
    {
      "cell_type": "code",
      "source": [
        "dir_data1 = '/content/Posts containing hate _ instagram - Sheet1.csv'\n",
        "dir_data2 = '/content/Twitter_Instagram_Annotated1.csv'\n",
        "dir_data3 = '/content/Twitter_data_annotated_Lamia.csv'\n",
        "dir_data4 = '/content/labeled_tweet_data.csv'\n",
        "dir_data5 = '/content/twitter_homophobia.csv'"
      ],
      "metadata": {
        "id": "bivthpgZy7l6"
      },
      "execution_count": 193,
      "outputs": []
    },
    {
      "cell_type": "code",
      "source": [
        "#Import the data \n",
        "data1 = pd.read_csv(dir_data1)\n",
        "data2 = pd.read_csv(dir_data2)\n",
        "data3 = pd.read_csv(dir_data3)\n",
        "data4 = pd.read_csv(dir_data4)\n",
        "data5 = pd.read_csv(dir_data5)"
      ],
      "metadata": {
        "id": "1Saa1iU6zYrZ"
      },
      "execution_count": null,
      "outputs": []
    },
    {
      "cell_type": "code",
      "source": [
        "data1.head(5)"
      ],
      "metadata": {
        "id": "CMaQtVzMzlYg"
      },
      "execution_count": null,
      "outputs": []
    },
    {
      "cell_type": "code",
      "source": [
        "data1 = data1.drop(columns=['Post', 'Type'])"
      ],
      "metadata": {
        "id": "rd8NjjA50VHX"
      },
      "execution_count": null,
      "outputs": []
    },
    {
      "cell_type": "code",
      "source": [
        "data1.rename(columns = {'Sentence':'Text'}, inplace = True)"
      ],
      "metadata": {
        "id": "xtcYqcwk234z"
      },
      "execution_count": null,
      "outputs": []
    },
    {
      "cell_type": "code",
      "source": [
        "data2.head(5)"
      ],
      "metadata": {
        "id": "_AvS0Pu-zxvC"
      },
      "execution_count": null,
      "outputs": []
    },
    {
      "cell_type": "code",
      "source": [
        "data2 = data2.drop(columns=['ID'])"
      ],
      "metadata": {
        "id": "2xG9Wu996NOv"
      },
      "execution_count": null,
      "outputs": []
    },
    {
      "cell_type": "code",
      "source": [
        "data3.head(5)"
      ],
      "metadata": {
        "id": "EsMcix6Cz1Hx"
      },
      "execution_count": null,
      "outputs": []
    },
    {
      "cell_type": "code",
      "source": [
        "data3 = data3.drop(columns=['id', 'created_at','user_id'])"
      ],
      "metadata": {
        "id": "xfoGGVWo1PFj"
      },
      "execution_count": null,
      "outputs": []
    },
    {
      "cell_type": "code",
      "source": [
        "data3.rename(columns = {'text':'Text'}, inplace = True)"
      ],
      "metadata": {
        "id": "x27FS-9N2_Jh"
      },
      "execution_count": null,
      "outputs": []
    },
    {
      "cell_type": "code",
      "source": [
        "data3.head(5)"
      ],
      "metadata": {
        "id": "QUb9vvm31Ygs"
      },
      "execution_count": null,
      "outputs": []
    },
    {
      "cell_type": "code",
      "source": [
        "data4.head(5)"
      ],
      "metadata": {
        "id": "nr7D5W2uz6sy"
      },
      "execution_count": null,
      "outputs": []
    },
    {
      "cell_type": "code",
      "source": [
        "data4 = data4.drop(columns=['Line', 'created_at','user_id','label','label2','to be removed'])"
      ],
      "metadata": {
        "id": "rOoEgjTt1hKn"
      },
      "execution_count": null,
      "outputs": []
    },
    {
      "cell_type": "code",
      "source": [
        "data4.rename(columns = {'merged_labels':'Label','text':'Text'}, inplace = True)"
      ],
      "metadata": {
        "id": "dMzrqA_M3LQ8"
      },
      "execution_count": null,
      "outputs": []
    },
    {
      "cell_type": "code",
      "source": [
        "data5.head(5)"
      ],
      "metadata": {
        "id": "IBPLpDNZz9b4"
      },
      "execution_count": null,
      "outputs": []
    },
    {
      "cell_type": "code",
      "source": [
        "data5 = data5.drop(columns=['id', 'created_at','user_id','Comments'])"
      ],
      "metadata": {
        "id": "wkwfsisG2QdH"
      },
      "execution_count": null,
      "outputs": []
    },
    {
      "cell_type": "code",
      "source": [
        "data5.head(5)"
      ],
      "metadata": {
        "id": "S6ipW8K02cLh"
      },
      "execution_count": null,
      "outputs": []
    },
    {
      "cell_type": "code",
      "source": [
        "data5.rename(columns = {'label':'Label','text':'Text'}, inplace = True)"
      ],
      "metadata": {
        "id": "Fr23AGl43Zkl"
      },
      "execution_count": null,
      "outputs": []
    },
    {
      "cell_type": "code",
      "source": [
        "data5.head(5)"
      ],
      "metadata": {
        "id": "Dhp5GN2-6BDs"
      },
      "execution_count": null,
      "outputs": []
    },
    {
      "cell_type": "code",
      "source": [
        "data = pd.concat([data1, data2,data3,data4,data5], axis=0)"
      ],
      "metadata": {
        "id": "LebZWEmA60CG"
      },
      "execution_count": null,
      "outputs": []
    },
    {
      "cell_type": "code",
      "source": [
        "data.to_csv('Annotated_data.csv', index=False)"
      ],
      "metadata": {
        "id": "RJoEumLD7pxv"
      },
      "execution_count": null,
      "outputs": []
    },
    {
      "cell_type": "markdown",
      "source": [
        "### Data preprocessing"
      ],
      "metadata": {
        "id": "ypk4hhKT8KfV"
      }
    },
    {
      "cell_type": "code",
      "source": [
        "dir_data = '/content/Annotated_data.csv'\n",
        "#Import the data \n",
        "data = pd.read_csv(dir_data, header= None)\n",
        "n_data=open(\"Data.txt\",'w')\n",
        "dir_clas =open(\"Classes.txt\",'w')"
      ],
      "metadata": {
        "id": "HLjYV3dP4jKn"
      },
      "execution_count": 217,
      "outputs": []
    },
    {
      "cell_type": "markdown",
      "source": [
        "#### Functions for the preprocessing"
      ],
      "metadata": {
        "id": "eKjDg5EXBoB1"
      }
    },
    {
      "cell_type": "code",
      "source": [
        "def remove_emojis(data):\n",
        "    \n",
        "    emoj = re.compile(\"[\"\n",
        "        u\"\\U0001F600-\\U0001F64F\"  # emoticons \n",
        "        u\"\\U0001F300-\\U0001F5FF\"  # symbols & pictographs\n",
        "        u\"\\U0001F680-\\U0001F6FF\"  # transport & map symbols\n",
        "        u\"\\U0001F1E0-\\U0001F1FF\"  # flags (iOS)\n",
        "        u\"\\U00002500-\\U00002BEF\"  # chinese char\n",
        "        u\"\\U00002702-\\U000027B0\"  # ✂ ➰\n",
        "        u\"\\U00002702-\\U000027B0\"\n",
        "        u\"\\U000024C2-\\U0001F251\"\n",
        "        u\"\\U0001f926-\\U0001f937\"\n",
        "        u\"\\U00010000-\\U0010ffff\"\n",
        "        u\"\\u2640-\\u2642\" \n",
        "        u\"\\u2600-\\u2B55\"\n",
        "        u\"\\u200d\"\n",
        "        u\"\\u23cf\"\n",
        "        u\"\\u23e9\"\n",
        "        u\"\\u231a\"\n",
        "        u\"\\ufe0f\"  # dingbats\n",
        "        u\"\\u3030\"\n",
        "                      \"]+\", re.UNICODE)\n",
        "    return re.sub(emoj, '', data)\n",
        "\n",
        "###################################################################\n",
        "\n",
        "def remove_small_char(data):\n",
        "  nltk_tokens = nltk.word_tokenize(data)\n",
        "\n",
        "  for i in range(len(nltk_tokens)):\n",
        "      if len(nltk_tokens[i]) < 3:\n",
        "        nltk_tokens[i] = \"\"\n",
        "  return \" \".join(nltk_tokens)\n",
        "\n",
        "###################################################################\n",
        "\n",
        "def Lower_casing(data):\n",
        "  data_lower = [word.lower() for word in data.split()]\n",
        "  return ' '.join(data_lower)\n",
        "\n",
        "###################################################################\n",
        "def Punctuation_Removal(data):\n",
        "  punc = '''+=!()-¯·[]{};:’'\"\\,<>./?‰@#$€¦%^&*_~«»´…ðÿž˜§ïª™'''\n",
        "  for ele in data:\n",
        "    if ele in punc:\n",
        "      data = data.replace(ele, \" \")\n",
        "  return data\n",
        "\n",
        "###################################################################\n",
        "\n",
        "\n",
        "days = ['lundi','mardi','mercredi','jeudi','vendredi','samedi','dimanche']\n",
        "months = [\"janvier\", \"février\", \"mars\", \"avril\", \"mai\", \"juin\", \"juillet\", \"août\", \"septembre\", \"octobre\", \"novembre\", \"décembre\"]\n",
        "\n",
        "final_stopwords_list = set(stopwords.words('french'))\n",
        "\n",
        "def stopwords_removal(data):\n",
        "  filtered_sentence = [w for w in data.split() if not w.lower() in final_stopwords_list]\n",
        "  filtered_sentence = []\n",
        "  for w in data.split():\n",
        "    if w not in final_stopwords_list: \n",
        "      filtered_sentence.append(w)\n",
        "  return \" \".join(filtered_sentence)\n",
        "\n",
        "###################################################################\n",
        "def Number_removal(data):\n",
        "  return re.sub(r'\\d+', '', data)\n"
      ],
      "metadata": {
        "id": "LFspoMvhc4V0"
      },
      "execution_count": 218,
      "outputs": []
    },
    {
      "cell_type": "markdown",
      "source": [
        "#### The global preprocessing function"
      ],
      "metadata": {
        "id": "usYTkOntBxoW"
      }
    },
    {
      "cell_type": "code",
      "source": [
        "import math\n",
        "def Preprocessing(data):\n",
        "  tokenizer = RegexpTokenizer(r'\\w+')\n",
        "  lemmatizer = WordNetLemmatizer()\n",
        "  for frase in range (1,len(data)):\n",
        "    data_line = data[0][frase]\n",
        "    \n",
        "    print(data_line)\n",
        "    data_line = re.sub(r'https?:\\/\\/\\S*', '', data_line, flags=re.MULTILINE) # remove links\n",
        "    data_line = re.sub(r'#\\S*', '', data_line, flags=re.MULTILINE) #remove taggs \n",
        "    data_line = re.sub(r'@\\S*', '', data_line, flags=re.MULTILINE) # remove @\n",
        "    data_line = remove_emojis(data_line) # remove emojis\n",
        "    data_line = Lower_casing(data_line) # lower casing\n",
        "    data_line = Punctuation_Removal(data_line) # remove punctuation\n",
        "    data_line = Number_removal(data_line) #remove numbers\n",
        "    data_line = stopwords_removal(data_line) # remove stopwords\n",
        "\n",
        "    text_tokenized = tokenizer.tokenize(data_line)\n",
        "    text_lemmatized = [lemmatizer.lemmatize(token) for token in text_tokenized]\n",
        "    \n",
        "    data_line = remove_small_char(data_line)\n",
        "    data_line = \" \".join(data_line.split()) #remove duplicated spaces\n",
        "\n",
        "\n",
        "    if (data_line is not float) and (data_line.strip() != \"\") and (data_line is not np.nan) and (data_line !='nan'): # Check if a line is Empty\n",
        "      class_line = data[1][frase]\n",
        "      \n",
        "      if(type(class_line)!=float and class_line not in ['Denigration','denigration','Harassment','harassment','Insult','insult','Shaming', 'shaming', 'Remove'] ):\n",
        "        class_line = class_line.split(',')[0]\n",
        "        if (class_line in ['Sexism ', 'Sexual Harassment','sexism', 'sexism ','sexual harassment'] ):\n",
        "          class_line = 'Sexism'\n",
        "        elif class_line in ['Bullying ','bullying ','bullying']:\n",
        "          class_line = 'Bullying'\n",
        "        #elif class_line in ['denigration']:\n",
        "          #class_line = 'Denigration'\n",
        "        elif class_line in ['Hate speech', 'Hate speech ','hate speech ', 'hate sppech', 'Hate_Speech','hate', 'hate speech']:\n",
        "          class_line = 'Hate Speech'\n",
        "        #elif class_line in['harassment']:\n",
        "          #class_line = 'Harassment'\n",
        "        elif class_line in ['none', 'none ', 'nonev','no']:\n",
        "          class_line = 'None'\n",
        "        elif class_line in ['racism', 'racism ','Racism ']:\n",
        "          class_line = 'Racism'\n",
        "        #elif class_line in ['insult']:\n",
        "          #class_line = 'Insult''''\n",
        "        elif class_line in ['homophobia']:\n",
        "          class_line = 'Homophobia'\n",
        "        \n",
        "\n",
        "\n",
        "        n_data.write(data_line)\n",
        "        n_data.write(os.linesep)\n",
        "        \n",
        "        dir_clas.write(class_line)\n",
        "        dir_clas.write(os.linesep)\n",
        "    \n",
        "       \n",
        "  dir_clas.close()\n",
        "  n_data.close()"
      ],
      "metadata": {
        "id": "pW7hh-F_N82g"
      },
      "execution_count": 219,
      "outputs": []
    },
    {
      "cell_type": "code",
      "source": [
        "Preprocessing(data)"
      ],
      "metadata": {
        "id": "8S30F99FBdzH"
      },
      "execution_count": null,
      "outputs": []
    },
    {
      "cell_type": "markdown",
      "source": [
        "### Modeling"
      ],
      "metadata": {
        "id": "GWPHZvqnUMbe"
      }
    },
    {
      "cell_type": "code",
      "execution_count": 221,
      "metadata": {
        "id": "ojJ--eNvJvOV"
      },
      "outputs": [],
      "source": [
        "import numpy as np\n",
        "import matplotlib.pyplot as plt\n",
        "import os\n",
        "import datetime\n",
        "from collections import Counter\n",
        "from sklearn.feature_extraction.text import CountVectorizer\n",
        "from sklearn.feature_extraction.text import HashingVectorizer\n",
        "from sklearn.feature_extraction.text import TfidfVectorizer\n",
        "from sklearn import preprocessing\n",
        "from sklearn import svm\n",
        "from sklearn.model_selection import train_test_split\n",
        "from sklearn.multiclass import OneVsRestClassifier\n",
        "from sklearn.metrics import confusion_matrix, classification_report\n",
        "from imblearn.over_sampling import RandomOverSampler\n",
        "from imblearn.over_sampling import SMOTE\n",
        "from imblearn.under_sampling import EditedNearestNeighbours\n",
        "import pandas as pd\n",
        "import seaborn as sn\n",
        "import tensorflow as tf\n",
        "import tensorflow.compat.v1 as tf\n",
        "from tensorflow import keras\n",
        "from keras.optimizers import SGD\n",
        "from keras.optimizers import Adam\n",
        "from keras import optimizers\n",
        "from keras.models import Sequential\n",
        "from keras.layers import Dense, Dropout, Activation"
      ]
    },
    {
      "cell_type": "code",
      "source": [
        "#Data and clas import\n",
        "dir_data = 'Data.txt'\n",
        "dir_clas = 'Classes.txt'\n",
        "data = pd.read_csv(dir_data, header=None)\n",
        "clas = pd.read_csv(dir_clas, header=None)"
      ],
      "metadata": {
        "id": "5DKznoz3OkYG"
      },
      "execution_count": 222,
      "outputs": []
    },
    {
      "cell_type": "code",
      "source": [
        "data.shape, clas.shape"
      ],
      "metadata": {
        "colab": {
          "base_uri": "https://localhost:8080/"
        },
        "id": "iRaN3X7DC6mg",
        "outputId": "a19f781e-14ce-4bc9-805f-d4aadd0797ba"
      },
      "execution_count": 223,
      "outputs": [
        {
          "output_type": "execute_result",
          "data": {
            "text/plain": [
              "((13032, 1), (13032, 1))"
            ]
          },
          "metadata": {},
          "execution_count": 223
        }
      ]
    },
    {
      "cell_type": "code",
      "source": [
        "#Training and test data\n",
        "test_size=0.10\n",
        "\n",
        "x_,x_test,y_,y_test = train_test_split(data, clas, test_size=test_size)\n",
        "x_train,x_val,y_train,y_val = train_test_split(x_, y_, test_size=test_size)\n",
        "        \n",
        "print('Train set : ', len(y_train))\n",
        "print('validation set : ', len(y_val))\n",
        "print('Test set : ', len(y_test))\n",
        "print()\n",
        "\n"
      ],
      "metadata": {
        "id": "2mRk3lHLOv4T",
        "colab": {
          "base_uri": "https://localhost:8080/"
        },
        "outputId": "fce3d2aa-e5ab-4b9b-c495-bcb637496e37"
      },
      "execution_count": 224,
      "outputs": [
        {
          "output_type": "stream",
          "name": "stdout",
          "text": [
            "Train set :  10555\n",
            "validation set :  1173\n",
            "Test set :  1304\n",
            "\n"
          ]
        }
      ]
    },
    {
      "cell_type": "code",
      "source": [
        "np.unique(y_train)"
      ],
      "metadata": {
        "colab": {
          "base_uri": "https://localhost:8080/"
        },
        "id": "yUfZiMrYHtih",
        "outputId": "7a1e8989-3ea3-455a-9ec0-a2bf9a06a69c"
      },
      "execution_count": 225,
      "outputs": [
        {
          "output_type": "execute_result",
          "data": {
            "text/plain": [
              "array(['Bullying', 'Hate Speech', 'Homophobia', 'None', 'Racism',\n",
              "       'Sexism'], dtype=object)"
            ]
          },
          "metadata": {},
          "execution_count": 225
        }
      ]
    },
    {
      "cell_type": "code",
      "source": [
        "clas.value_counts()\n"
      ],
      "metadata": {
        "colab": {
          "base_uri": "https://localhost:8080/"
        },
        "id": "7H5OAq9iSUJP",
        "outputId": "a98d1ef0-136d-4e6c-c693-b3440bc35618"
      },
      "execution_count": 226,
      "outputs": [
        {
          "output_type": "execute_result",
          "data": {
            "text/plain": [
              "None           7941\n",
              "Homophobia     2330\n",
              "Bullying        966\n",
              "Hate Speech     883\n",
              "Racism          505\n",
              "Sexism          407\n",
              "dtype: int64"
            ]
          },
          "metadata": {},
          "execution_count": 226
        }
      ]
    },
    {
      "cell_type": "markdown",
      "source": [
        "#### Neural Network"
      ],
      "metadata": {
        "id": "8R5KXzdNh3YR"
      }
    },
    {
      "cell_type": "code",
      "source": [
        "#Matrix converted\n",
        "ngram_range=(1,2)\n",
        "min_df=50\n",
        "\n",
        "#vectorizer = c(analyzer='word',min_df=min_df,ngram_range=ngram_range)\n",
        "#vectorizer = HashingVectorizer(n_features=350,analyzer='word',ngram_range=ngram_range)\n",
        "vectorizer = TfidfVectorizer(analyzer='word',min_df=min_df,ngram_range=ngram_range)\n",
        "\n",
        "X_train = vectorizer.fit_transform(x_train[0][:])\n",
        "X_train=X_train.toarray()\n",
        "min_max_scaler = preprocessing.MinMaxScaler()\n",
        "x1 = min_max_scaler.fit_transform(X_train)\n"
      ],
      "metadata": {
        "id": "p0bFo1tAOyN_"
      },
      "execution_count": 227,
      "outputs": []
    },
    {
      "cell_type": "code",
      "source": [
        "#Sampling Metod\n",
        "\n",
        "metodoTraining = SMOTE(n_jobs=7)\n",
        "x1, y1 = metodoTraining.fit_resample(x1, y_train[0][:]) \n",
        "\n",
        "\n",
        "X_test=vectorizer.transform(x_test[0][:])\n",
        "X_test=X_test.toarray()\n",
        "x2 = min_max_scaler.transform(X_test)\n",
        "y2 = np.array(y_test[0][:])\n",
        "\n",
        "\n",
        "X_val=vectorizer.transform(x_val[0][:])\n",
        "X_val=X_val.toarray()\n",
        "x3 = min_max_scaler.transform(X_val)\n",
        "y3 = np.array(y_val[0][:])\n"
      ],
      "metadata": {
        "id": "VUh81r_AO20i"
      },
      "execution_count": 228,
      "outputs": []
    },
    {
      "cell_type": "code",
      "source": [
        "y1.value_counts()"
      ],
      "metadata": {
        "colab": {
          "base_uri": "https://localhost:8080/"
        },
        "id": "etLWdZPTL97Y",
        "outputId": "64775293-d0de-4517-b95f-2786ca74ef73"
      },
      "execution_count": 229,
      "outputs": [
        {
          "output_type": "execute_result",
          "data": {
            "text/plain": [
              "None           6471\n",
              "Homophobia     6471\n",
              "Hate Speech    6471\n",
              "Sexism         6471\n",
              "Bullying       6471\n",
              "Racism         6471\n",
              "Name: 0, dtype: int64"
            ]
          },
          "metadata": {},
          "execution_count": 229
        }
      ]
    },
    {
      "cell_type": "code",
      "source": [
        "#Encode labels from text to integers.\n",
        "from sklearn import preprocessing\n",
        "le = preprocessing.LabelEncoder()\n",
        "le.fit(y1)\n",
        "y1 = le.transform(y1)\n",
        "le.fit(y2)\n",
        "y2 = le.transform(y2)\n",
        "le.fit(y3)\n",
        "y3 = le.transform(y3)\n"
      ],
      "metadata": {
        "id": "K7RiKhqFIvLy"
      },
      "execution_count": 230,
      "outputs": []
    },
    {
      "cell_type": "code",
      "source": [
        "#NeuralNetwork\n",
        "epochs=20\n",
        "batch_size=32\n",
        "tf.keras.backend.clear_session()\n",
        "\n",
        "callbacks = [tf.keras.callbacks.ReduceLROnPlateau(monitor = 'val_accuracy', factor = 0.3, patience = 2, mode='auto'),\n",
        "             tf.keras.callbacks.EarlyStopping(patience = 5, monitor = 'val_accuracy', mode = 'max', restore_best_weights=True),\n",
        "             tf.keras.callbacks.ModelCheckpoint(\"/content/bestmodel.hdf5\", monitor='val_accuracy', save_best_only=True,mode='max', save_freq='epoch')]\n",
        "#-----------------------------------------------------------------------------------------------\n",
        "#Model generation\n",
        "model = Sequential()\n",
        "model.add(Dense(2048,input_shape=(x1.shape[1],),activation='relu'))\n",
        "model.add(Dense(1024,activation='relu'))\n",
        "model.add(Dense(512,activation='relu'))\n",
        "model.add(Dense(256,activation='relu'))\n",
        "model.add(Dense(128,activation='relu'))\n",
        "model.add(Dense(64,activation='relu'))\n",
        "model.add(Dense(32,activation='relu'))\n",
        "model.add(Dense(16,activation='relu'))\n",
        "model.add(Dense(6,activation='softmax'))\n",
        "adam=optimizers.Adam(learning_rate=.001)\n",
        "model.compile(optimizer=adam, loss='sparse_categorical_crossentropy', metrics=['accuracy'])\n",
        "snn=model.fit(x1,y1,validation_data=(x3,y3),batch_size=batch_size,epochs=epochs,shuffle=True,callbacks=callbacks)\n"
      ],
      "metadata": {
        "id": "NsNDPEOhO7Nv",
        "colab": {
          "base_uri": "https://localhost:8080/"
        },
        "outputId": "6051e4c9-4fc0-40e7-bf4f-31d8c14faf3f"
      },
      "execution_count": 231,
      "outputs": [
        {
          "output_type": "stream",
          "name": "stdout",
          "text": [
            "Epoch 1/20\n",
            "1214/1214 [==============================] - 57s 46ms/step - loss: 0.9372 - accuracy: 0.6505 - val_loss: 0.8870 - val_accuracy: 0.6718 - lr: 0.0010\n",
            "Epoch 2/20\n",
            "1214/1214 [==============================] - 51s 42ms/step - loss: 0.5080 - accuracy: 0.8214 - val_loss: 0.7842 - val_accuracy: 0.7315 - lr: 0.0010\n",
            "Epoch 3/20\n",
            "1214/1214 [==============================] - 58s 48ms/step - loss: 0.4262 - accuracy: 0.8467 - val_loss: 0.7267 - val_accuracy: 0.7553 - lr: 0.0010\n",
            "Epoch 4/20\n",
            "1214/1214 [==============================] - 55s 45ms/step - loss: 0.3932 - accuracy: 0.8559 - val_loss: 0.7512 - val_accuracy: 0.7442 - lr: 0.0010\n",
            "Epoch 5/20\n",
            "1214/1214 [==============================] - 56s 46ms/step - loss: 0.3715 - accuracy: 0.8620 - val_loss: 0.7989 - val_accuracy: 0.7451 - lr: 0.0010\n",
            "Epoch 6/20\n",
            "1214/1214 [==============================] - 55s 45ms/step - loss: 0.3258 - accuracy: 0.8746 - val_loss: 0.8050 - val_accuracy: 0.7604 - lr: 3.0000e-04\n",
            "Epoch 7/20\n",
            "1214/1214 [==============================] - 55s 45ms/step - loss: 0.3135 - accuracy: 0.8792 - val_loss: 0.8596 - val_accuracy: 0.7613 - lr: 3.0000e-04\n",
            "Epoch 8/20\n",
            "1214/1214 [==============================] - 57s 47ms/step - loss: 0.3120 - accuracy: 0.8795 - val_loss: 0.8935 - val_accuracy: 0.7613 - lr: 3.0000e-04\n",
            "Epoch 9/20\n",
            "1214/1214 [==============================] - 58s 48ms/step - loss: 0.3066 - accuracy: 0.8812 - val_loss: 0.8872 - val_accuracy: 0.7639 - lr: 3.0000e-04\n",
            "Epoch 10/20\n",
            "1214/1214 [==============================] - 59s 48ms/step - loss: 0.3059 - accuracy: 0.8821 - val_loss: 0.9065 - val_accuracy: 0.7579 - lr: 3.0000e-04\n",
            "Epoch 11/20\n",
            "1214/1214 [==============================] - 56s 46ms/step - loss: 0.3045 - accuracy: 0.8821 - val_loss: 0.9721 - val_accuracy: 0.7613 - lr: 3.0000e-04\n",
            "Epoch 12/20\n",
            "1214/1214 [==============================] - 56s 46ms/step - loss: 0.2902 - accuracy: 0.8867 - val_loss: 1.0787 - val_accuracy: 0.7630 - lr: 9.0000e-05\n",
            "Epoch 13/20\n",
            "1214/1214 [==============================] - 58s 48ms/step - loss: 0.2862 - accuracy: 0.8879 - val_loss: 1.0861 - val_accuracy: 0.7647 - lr: 9.0000e-05\n",
            "Epoch 14/20\n",
            "1214/1214 [==============================] - 56s 46ms/step - loss: 0.2847 - accuracy: 0.8879 - val_loss: 1.0972 - val_accuracy: 0.7596 - lr: 9.0000e-05\n",
            "Epoch 15/20\n",
            "1214/1214 [==============================] - 56s 46ms/step - loss: 0.2836 - accuracy: 0.8880 - val_loss: 1.1088 - val_accuracy: 0.7630 - lr: 9.0000e-05\n",
            "Epoch 16/20\n",
            "1214/1214 [==============================] - 58s 48ms/step - loss: 0.2784 - accuracy: 0.8900 - val_loss: 1.1778 - val_accuracy: 0.7630 - lr: 2.7000e-05\n",
            "Epoch 17/20\n",
            "1214/1214 [==============================] - 57s 47ms/step - loss: 0.2771 - accuracy: 0.8904 - val_loss: 1.2306 - val_accuracy: 0.7630 - lr: 2.7000e-05\n",
            "Epoch 18/20\n",
            "1214/1214 [==============================] - 57s 47ms/step - loss: 0.2748 - accuracy: 0.8912 - val_loss: 1.2412 - val_accuracy: 0.7630 - lr: 8.1000e-06\n"
          ]
        }
      ]
    },
    {
      "cell_type": "markdown",
      "source": [
        "### Validation"
      ],
      "metadata": {
        "id": "VpcfDzzFubt0"
      }
    },
    {
      "cell_type": "code",
      "source": [
        "model.load_weights(\"/content/bestmodel.hdf5\")"
      ],
      "metadata": {
        "id": "epD82EEbeGzm"
      },
      "execution_count": 232,
      "outputs": []
    },
    {
      "cell_type": "code",
      "source": [
        "pred = model.predict(x2)\n",
        "pred = np.argmax(pred,axis=1)"
      ],
      "metadata": {
        "colab": {
          "base_uri": "https://localhost:8080/"
        },
        "id": "O5z-P2ffhPR5",
        "outputId": "cbff2983-4048-4eee-f647-49475f216543"
      },
      "execution_count": 233,
      "outputs": [
        {
          "output_type": "stream",
          "name": "stdout",
          "text": [
            "41/41 [==============================] - 1s 10ms/step\n"
          ]
        }
      ]
    },
    {
      "cell_type": "code",
      "source": [
        "import seaborn as sns\n",
        "print(classification_report(np.array(y2),pred))"
      ],
      "metadata": {
        "colab": {
          "base_uri": "https://localhost:8080/"
        },
        "outputId": "96ba2f8e-4d21-42d8-82d5-99343d4c768b",
        "id": "Jot0icRn1R1d"
      },
      "execution_count": null,
      "outputs": [
        {
          "output_type": "stream",
          "name": "stdout",
          "text": [
            "              precision    recall  f1-score   support\n",
            "\n",
            "           0       0.67      0.64      0.66        97\n",
            "           1       0.68      0.57      0.62        91\n",
            "           2       0.75      0.78      0.76       252\n",
            "           3       0.88      0.81      0.85       779\n",
            "           4       0.56      0.86      0.68        50\n",
            "           5       0.24      0.57      0.34        35\n",
            "\n",
            "    accuracy                           0.77      1304\n",
            "   macro avg       0.63      0.71      0.65      1304\n",
            "weighted avg       0.80      0.77      0.78      1304\n",
            "\n"
          ]
        }
      ]
    },
    {
      "cell_type": "code",
      "source": [
        "plt.plot(snn.history['loss'],label='loss',marker=\"x\", markersize=\"5\", markeredgewidth=\"2\")\n",
        "plt.plot(snn.history['val_loss'],label='val_loss',marker=\"x\", markersize=\"5\", markeredgewidth=\"2\")\n",
        "sn.set(font_scale=.8)\n",
        "plt.title(\"Loss\")\n",
        "plt.legend(loc='center right',fontsize='10')\n",
        "plt.show()\n",
        "\n",
        "plt.plot(snn.history['accuracy'],label='accuracy',marker=\"x\", markersize=\"5\", markeredgewidth=\"2\")\n",
        "plt.plot(snn.history['val_accuracy'],label='val_accuracy',marker=\"x\", markersize=\"5\", markeredgewidth=\"2\")\n",
        "sn.set(font_scale=.8)\n",
        "plt.title(\"Accuracy\")\n",
        "plt.legend(loc='center right',fontsize='10')\n",
        "plt.show()"
      ],
      "metadata": {
        "id": "8mAqPu4YO996",
        "colab": {
          "base_uri": "https://localhost:8080/",
          "height": 545
        },
        "outputId": "784b8c6a-73d0-4f4c-f0d3-608fa48aa228"
      },
      "execution_count": 235,
      "outputs": [
        {
          "output_type": "display_data",
          "data": {
            "text/plain": [
              "<Figure size 432x288 with 1 Axes>"
            ],
            "image/png": "[encoded data removed]"
          },
          "metadata": {}
        },
        {
          "output_type": "display_data",
          "data": {
            "text/plain": [
              "<Figure size 432x288 with 1 Axes>"
            ],
            "image/png": "[encoded data removed]"
          },
          "metadata": {}
        }
      ]
    }
  ]
}