{
 "cells": [
  {
   "cell_type": "code",
   "execution_count": null,
   "id": "0z-ACd6n9Xfw",
   "metadata": {
    "colab": {
     "base_uri": "https://localhost:8080/"
    },
    "id": "0z-ACd6n9Xfw",
    "outputId": "cccd2b4a-f459-4157-9f0c-b8ed6b4358da"
   },
   "outputs": [],
   "source": [
    "from google.colab import drive\n",
    "drive.mount('/content/drive')"
   ]
  },
  {
   "cell_type": "code",
   "execution_count": null,
   "id": "baikYKjpXGbz",
   "metadata": {
    "colab": {
     "base_uri": "https://localhost:8080/"
    },
    "id": "baikYKjpXGbz",
    "outputId": "7fb4119d-a365-4f7a-b4a8-8c6a47cbe9b6"
   },
   "outputs": [],
   "source": [
    "\n",
    "#pip install tensorflow\n",
    "#!pip install keras\n",
    "#!pip install gensim\n",
    "#!git clone https://github.com/facebookresearch/fastText.git\n",
    "#%cd fastText\n",
    "#!pip install ."
   ]
  },
  {
   "cell_type": "code",
   "execution_count": 1,
   "id": "massive-portsmouth",
   "metadata": {
    "ExecuteTime": {
     "end_time": "2021-06-14T13:27:15.003200Z",
     "start_time": "2021-06-14T13:27:13.074388Z"
    },
    "id": "massive-portsmouth"
   },
   "outputs": [],
   "source": [
    "import numpy as np\n",
    "import pandas as pd\n",
    "import sklearn\n",
    "import pickle\n",
    "import gensim\n",
    "import os\n",
    "import tensorflow\n",
    "import keras\n",
    "from sklearn.model_selection import train_test_split\n",
    "from tensorflow.keras.models import Sequential,load_model\n",
    "from tensorflow.keras.layers import Dense, Dropout, Activation,Embedding,LSTM,SimpleRNN,Bidirectional,GlobalAveragePooling1D\n",
    "from tensorflow.keras.optimizers import  Adam\n",
    "from tensorflow.keras import utils\n",
    "from tensorflow.keras.callbacks import ReduceLROnPlateau,ModelCheckpoint\n",
    "from tensorflow.keras.preprocessing.sequence import pad_sequences\n",
    "#from keras.preprocessing.sequence import pad_sequences \n",
    "from tensorflow.keras.preprocessing.text import Tokenizer\n",
    "from tensorflow.keras.metrics import Accuracy,Recall,Precision\n",
    "from gensim.models.fasttext import FastText#, load_facebook_model\n",
    "from gensim.test.utils import datapath, get_tmpfile\n",
    "from tensorflow import saved_model\n",
    "import fasttext"
   ]
  },
  {
   "cell_type": "markdown",
   "id": "33fcfa34",
   "metadata": {},
   "source": [
    "## Download and load fasttext Model"
   ]
  },
  {
   "cell_type": "code",
   "execution_count": 2,
   "id": "eDZD2F7P8xuM",
   "metadata": {
    "id": "eDZD2F7P8xuM"
   },
   "outputs": [
    {
     "name": "stderr",
     "output_type": "stream",
     "text": [
      "Warning : `load_model` does not return WordVectorModel or SupervisedModel any more, but a `FastText` object which is very similar.\n"
     ]
    }
   ],
   "source": [
    "#import fasttext.util.util as mesdd\n",
    "#mesdd.download_model('fr', if_exists='ignore')\n",
    "fastvectorizer = fasttext.load_model('d:/Sentimanet_classification/cc.fr.300.bin')\n"
   ]
  },
  {
   "cell_type": "markdown",
   "id": "22b04595",
   "metadata": {},
   "source": [
    "## Load Data"
   ]
  },
  {
   "cell_type": "code",
   "execution_count": 3,
   "id": "EOMg7Lr_tyE4",
   "metadata": {
    "id": "EOMg7Lr_tyE4"
   },
   "outputs": [],
   "source": [
    "data_train = pd.read_excel(\"fulldataset.xlsx\",sheet_name=\"train\")\n",
    "data_validation = pd.read_excel(\"fulldataset.xlsx\",sheet_name=\"validation\")\n",
    "data_test = pd.read_excel(\"fulldataset.xlsx\",sheet_name=\"test\")"
   ]
  },
  {
   "cell_type": "code",
   "execution_count": 4,
   "id": "searching-sperm",
   "metadata": {
    "ExecuteTime": {
     "end_time": "2021-05-24T11:00:46.980821Z",
     "start_time": "2021-05-24T11:00:46.964111Z"
    },
    "id": "searching-sperm"
   },
   "outputs": [],
   "source": [
    "x_train= data_train[\"Text\"].tolist()\n",
    "y_train= data_train[\"Label\"].tolist()\n",
    "x_validation= data_validation[\"Text\"].tolist()\n",
    "y_validation= data_validation[\"Label\"].tolist()\n",
    "x_test= data_test[\"Text\"].tolist()\n",
    "y_test= data_test[\"Label\"].tolist()\n"
   ]
  },
  {
   "cell_type": "markdown",
   "id": "938c12b9",
   "metadata": {},
   "source": [
    "# Run this code if using the 6 labels"
   ]
  },
  {
   "cell_type": "code",
   "execution_count": 5,
   "id": "overall-compensation",
   "metadata": {
    "ExecuteTime": {
     "end_time": "2021-05-12T09:59:38.976786Z",
     "start_time": "2021-05-12T09:59:38.970350Z"
    },
    "id": "overall-compensation"
   },
   "outputs": [
    {
     "data": {
      "text/plain": [
       "1218"
      ]
     },
     "execution_count": 5,
     "metadata": {},
     "output_type": "execute_result"
    }
   ],
   "source": [
    "len(data_validation.index)"
   ]
  },
  {
   "cell_type": "code",
   "execution_count": 6,
   "id": "greek-organic",
   "metadata": {
    "ExecuteTime": {
     "end_time": "2021-05-24T10:44:57.619471Z",
     "start_time": "2021-05-24T10:44:57.587826Z"
    },
    "id": "greek-organic"
   },
   "outputs": [
    {
     "data": {
      "text/html": [
       "<div>\n",
       "<style scoped>\n",
       "    .dataframe tbody tr th:only-of-type {\n",
       "        vertical-align: middle;\n",
       "    }\n",
       "\n",
       "    .dataframe tbody tr th {\n",
       "        vertical-align: top;\n",
       "    }\n",
       "\n",
       "    .dataframe thead th {\n",
       "        text-align: right;\n",
       "    }\n",
       "</style>\n",
       "<table border=\"1\" class=\"dataframe\">\n",
       "  <thead>\n",
       "    <tr style=\"text-align: right;\">\n",
       "      <th></th>\n",
       "      <th>id</th>\n",
       "      <th>Text</th>\n",
       "      <th>Label</th>\n",
       "    </tr>\n",
       "  </thead>\n",
       "  <tbody>\n",
       "    <tr>\n",
       "      <th>0</th>\n",
       "      <td>268</td>\n",
       "      <td>hahahahahaha nan gros c est grave qd mm on déb...</td>\n",
       "      <td>NONE</td>\n",
       "    </tr>\n",
       "    <tr>\n",
       "      <th>1</th>\n",
       "      <td>2262</td>\n",
       "      <td>dit gouine</td>\n",
       "      <td>HOMOPHOBIA</td>\n",
       "    </tr>\n",
       "    <tr>\n",
       "      <th>2</th>\n",
       "      <td>5448</td>\n",
       "      <td>rt après 1 an préparation voici plus gros proj...</td>\n",
       "      <td>NONE</td>\n",
       "    </tr>\n",
       "    <tr>\n",
       "      <th>3</th>\n",
       "      <td>796</td>\n",
       "      <td>bonjour alicia bon dimanche gros bisous ðÿž ðÿ...</td>\n",
       "      <td>NONE</td>\n",
       "    </tr>\n",
       "    <tr>\n",
       "      <th>4</th>\n",
       "      <td>1380</td>\n",
       "      <td>promis damso 31 décembre 2021 arrive an après ...</td>\n",
       "      <td>NONE</td>\n",
       "    </tr>\n",
       "  </tbody>\n",
       "</table>\n",
       "</div>"
      ],
      "text/plain": [
       "     id                                               Text       Label\n",
       "0   268  hahahahahaha nan gros c est grave qd mm on déb...        NONE\n",
       "1  2262                                         dit gouine  HOMOPHOBIA\n",
       "2  5448  rt après 1 an préparation voici plus gros proj...        NONE\n",
       "3   796  bonjour alicia bon dimanche gros bisous ðÿž ðÿ...        NONE\n",
       "4  1380  promis damso 31 décembre 2021 arrive an après ...        NONE"
      ]
     },
     "execution_count": 6,
     "metadata": {},
     "output_type": "execute_result"
    }
   ],
   "source": [
    "data_train.head()"
   ]
  },
  {
   "cell_type": "code",
   "execution_count": 7,
   "id": "conscious-guidance",
   "metadata": {
    "ExecuteTime": {
     "end_time": "2021-05-24T11:00:55.984950Z",
     "start_time": "2021-05-24T11:00:51.172195Z"
    },
    "id": "conscious-guidance"
   },
   "outputs": [],
   "source": [
    "max_text_length=300\n",
    "embed_dim = 300 # size of fasttext vector(fastmodel in my case)\n",
    "#load fast text vectorizer and the tokenizer\n",
    "tokenizer= Tokenizer()\n",
    "tokenizer.fit_on_texts(x_train)\n",
    "vocab_size = len(tokenizer.word_index)+1"
   ]
  },
  {
   "cell_type": "code",
   "execution_count": 8,
   "id": "dimensional-billion",
   "metadata": {
    "ExecuteTime": {
     "end_time": "2021-05-24T11:00:57.541449Z",
     "start_time": "2021-05-24T11:00:57.469557Z"
    },
    "id": "dimensional-billion"
   },
   "outputs": [],
   "source": [
    "templiste=[]\n",
    "for element in x_train:\n",
    "    templiste.append(str(element))\n",
    "x_train=[]\n",
    "x_train=templiste\n",
    "\n",
    "templiste=[]\n",
    "for element in x_validation:\n",
    "    templiste.append(str(element))\n",
    "x_validation=[]\n",
    "x_validation=templiste\n",
    "templiste=[]\n",
    "for element in x_test:\n",
    "    templiste.append(str(element))\n",
    "x_test=[]\n",
    "x_test=templiste"
   ]
  },
  {
   "cell_type": "code",
   "execution_count": 9,
   "id": "a3493314",
   "metadata": {
    "ExecuteTime": {
     "end_time": "2021-05-24T11:01:08.578716Z",
     "start_time": "2021-05-24T11:01:03.169942Z"
    },
    "id": "cutting-voluntary"
   },
   "outputs": [],
   "source": [
    "temp= tokenizer.texts_to_sequences(x_train)\n",
    "x_train_padded=pad_sequences(temp, maxlen= max_text_length, padding='pre')\n",
    "temp=tokenizer.texts_to_sequences(x_validation)\n",
    "x_validation_padded=pad_sequences(temp,maxlen= max_text_length, padding='pre')\n",
    "temp=tokenizer.texts_to_sequences(x_test)\n",
    "x_test_padded=pad_sequences(temp, maxlen=max_text_length, padding='pre')"
   ]
  },
  {
   "cell_type": "code",
   "execution_count": 10,
   "id": "9f2f317d",
   "metadata": {
    "ExecuteTime": {
     "end_time": "2021-05-24T11:01:10.994610Z",
     "start_time": "2021-05-24T11:01:10.938782Z"
    },
    "id": "active-opening"
   },
   "outputs": [],
   "source": [
    "# integer encode the data and padd it\n",
    "y_train_encoded =pd.get_dummies(y_train).values\n",
    "y_validation_encoded =pd.get_dummies(y_validation).values\n",
    "y_test_encoded =pd.get_dummies(y_test).values"
   ]
  },
  {
   "cell_type": "code",
   "execution_count": 11,
   "id": "excessive-enzyme",
   "metadata": {
    "ExecuteTime": {
     "end_time": "2021-05-23T15:50:32.122543Z",
     "start_time": "2021-05-23T15:50:32.040079Z"
    },
    "id": "excessive-enzyme"
   },
   "outputs": [],
   "source": [
    "with open('d:/OMDENA/Marseile/french_tokenizer02.pickle', 'wb') as handle:\n",
    "    pickle.dump(tokenizer, handle, protocol=pickle.HIGHEST_PROTOCOL)"
   ]
  },
  {
   "cell_type": "code",
   "execution_count": 12,
   "id": "breathing-momentum",
   "metadata": {
    "ExecuteTime": {
     "end_time": "2021-05-23T15:50:34.036282Z",
     "start_time": "2021-05-23T15:50:34.029630Z"
    },
    "id": "breathing-momentum"
   },
   "outputs": [
    {
     "data": {
      "text/plain": [
       "(9744, 1219, 1218)"
      ]
     },
     "execution_count": 12,
     "metadata": {},
     "output_type": "execute_result"
    }
   ],
   "source": [
    "len(x_train),len(x_test),len(x_validation)"
   ]
  },
  {
   "cell_type": "code",
   "execution_count": 13,
   "id": "63c81344",
   "metadata": {
    "ExecuteTime": {
     "end_time": "2021-05-16T11:10:48.612677Z",
     "start_time": "2021-05-16T11:10:41.269316Z"
    },
    "id": "flying-emission"
   },
   "outputs": [],
   "source": [
    "# integer encode the data and padd it\n",
    "temp= tokenizer.texts_to_sequences(x_train)\n",
    "x_train_padded=pad_sequences(temp, maxlen= max_text_length, padding='pre')\n",
    "temp=tokenizer.texts_to_sequences(x_validation)\n",
    "x_validation_padded=pad_sequences(temp,maxlen= max_text_length, padding='pre')\n",
    "temp=tokenizer.texts_to_sequences(x_test)\n",
    "x_test_padded=pad_sequences(temp, maxlen=max_text_length, padding='pre')\n"
   ]
  },
  {
   "cell_type": "raw",
   "id": "initial-democracy",
   "metadata": {
    "ExecuteTime": {
     "end_time": "2021-05-24T10:42:53.596944Z",
     "start_time": "2021-05-24T10:42:53.577804Z"
    },
    "id": "initial-democracy"
   },
   "source": [
    "y_train_encoded = np.array(y_train)\n",
    "y_validation_encoded = np.array(y_validation)\n",
    "y_test_encoded=np.array(y_test)\n"
   ]
  },
  {
   "cell_type": "code",
   "execution_count": 14,
   "id": "czech-turkey",
   "metadata": {
    "ExecuteTime": {
     "end_time": "2021-05-24T11:01:39.220956Z",
     "start_time": "2021-05-24T11:01:38.490462Z"
    },
    "id": "czech-turkey"
   },
   "outputs": [],
   "source": [
    "from numpy import zeros\n",
    "embed_matrix=zeros((vocab_size,embed_dim))\n",
    "for word, i in tokenizer.word_index.items():\n",
    "    embed_vector= fastvectorizer[word]#fastvectorizer.wv[word]\n",
    "      \n",
    "    if embed_vector is not None:\n",
    "        embed_matrix[i]=embed_vector\n",
    "        \n"
   ]
  },
  {
   "cell_type": "code",
   "execution_count": null,
   "id": "available-cambridge",
   "metadata": {
    "ExecuteTime": {
     "end_time": "2021-05-23T15:51:13.678585Z",
     "start_time": "2021-05-23T15:51:13.319610Z"
    },
    "id": "available-cambridge"
   },
   "outputs": [],
   "source": [
    "fastvectorizer = None"
   ]
  },
  {
   "cell_type": "code",
   "execution_count": 15,
   "id": "billion-tactics",
   "metadata": {
    "ExecuteTime": {
     "end_time": "2021-05-24T11:01:52.699325Z",
     "start_time": "2021-05-24T11:01:52.682788Z"
    },
    "id": "billion-tactics"
   },
   "outputs": [],
   "source": [
    "#EMbedding layer\n",
    "e = Embedding(input_dim =vocab_size,output_dim =embed_dim, weights=[embed_matrix],input_length= max_text_length, trainable=True)"
   ]
  },
  {
   "cell_type": "code",
   "execution_count": 16,
   "id": "subject-trance",
   "metadata": {
    "ExecuteTime": {
     "end_time": "2021-05-24T11:02:12.917286Z",
     "start_time": "2021-05-24T11:02:10.128728Z"
    },
    "id": "subject-trance",
    "scrolled": true
   },
   "outputs": [
    {
     "name": "stdout",
     "output_type": "stream",
     "text": [
      "Model: \"sequential\"\n",
      "_________________________________________________________________\n",
      " Layer (type)                Output Shape              Param #   \n",
      "=================================================================\n",
      " embedding (Embedding)       (None, 300, 300)          3507000   \n",
      "                                                                 \n",
      " global_average_pooling1d (G  (None, 300)              0         \n",
      " lobalAveragePooling1D)                                          \n",
      "                                                                 \n",
      " dropout (Dropout)           (None, 300)               0         \n",
      "                                                                 \n",
      " dense (Dense)               (None, 300)               90300     \n",
      "                                                                 \n",
      " dropout_1 (Dropout)         (None, 300)               0         \n",
      "                                                                 \n",
      " dense_1 (Dense)             (None, 100)               30100     \n",
      "                                                                 \n",
      " dense_2 (Dense)             (None, 6)                 606       \n",
      "                                                                 \n",
      "=================================================================\n",
      "Total params: 3,628,006\n",
      "Trainable params: 3,628,006\n",
      "Non-trainable params: 0\n",
      "_________________________________________________________________\n",
      "None\n"
     ]
    }
   ],
   "source": [
    "#RNN model\n",
    "modele1 = Sequential()\n",
    "modele1.add(e)\n",
    "modele1.add(GlobalAveragePooling1D())\n",
    "modele1.add(Dropout(0.4))\n",
    "modele1.add(Dense(300, activation=\"relu\"))\n",
    "modele1.add(Dropout(0.4))\n",
    "modele1.add(Dense(100, activation=\"relu\"))\n",
    "modele1.add(Dense(6, activation='softmax'))\n",
    "modele1.compile(loss='categorical_crossentropy', optimizer=Adam(learning_rate=0.001), metrics=[\"accuracy\",Recall(),Precision()])\n",
    "print (modele1.summary())\n"
   ]
  },
  {
   "cell_type": "raw",
   "id": "f5fb6f6e",
   "metadata": {
    "ExecuteTime": {
     "end_time": "2021-05-23T15:52:57.004662Z",
     "start_time": "2021-05-23T15:52:56.124011Z"
    },
    "id": "digital-bolivia"
   },
   "source": [
    "#LSTM model\n",
    "modele1 = Sequential()\n",
    "modele1.add(e)\n",
    "modele1.add(Bidirectional(LSTM(100,dropout=0.4 )))\n",
    "modele1.add(Dense(6, activation=\"softmax\"))\n",
    "#modele1.add(Dense(1, activation='sigmoid'))\n",
    "modele1.compile(loss='categorical_crossentropy', optimizer=Adam(learning_rate=0.001),metrics=[\"accuracy\",Recall(),Precision()])\n",
    "print (modele1.summary())"
   ]
  },
  {
   "cell_type": "code",
   "execution_count": 17,
   "id": "veterinary-negotiation",
   "metadata": {
    "ExecuteTime": {
     "end_time": "2021-05-24T11:02:35.353917Z",
     "start_time": "2021-05-24T11:02:35.346959Z"
    },
    "id": "veterinary-negotiation"
   },
   "outputs": [],
   "source": [
    "save_dir=os.path.join(os.getcwd(),'saved_models')\n",
    "model_name='d:/omdena/Marseile/models/RNN_T_FastText_français_25_01_2023_6labe.{epoch:03d}.h5'\n",
    "\n",
    "#if not os.path.isdir(save_dir):\n",
    "#    os.makedirs(save_dir)\n",
    "filepath=os.path.join(save_dir,model_name)\n",
    "checkpoint= ModelCheckpoint(filepath=filepath,monitor='val_loss',)\n",
    "reduce_lr = ReduceLROnPlateau(monitor='val_loss', factor=0.2, cooldown=0, patience=3, min_lr=0.5e-6)\n",
    "callbacks=[checkpoint,reduce_lr]"
   ]
  },
  {
   "cell_type": "code",
   "execution_count": 18,
   "id": "reported-shareware",
   "metadata": {
    "ExecuteTime": {
     "end_time": "2021-05-24T16:37:50.520795Z",
     "start_time": "2021-05-24T11:02:43.616708Z"
    },
    "id": "reported-shareware"
   },
   "outputs": [
    {
     "name": "stdout",
     "output_type": "stream",
     "text": [
      "Epoch 1/100\n",
      "609/609 [==============================] - 17s 24ms/step - loss: 1.4128 - accuracy: 0.4552 - recall: 0.1813 - precision: 0.7956 - val_loss: 1.0050 - val_accuracy: 0.5969 - val_recall: 0.5082 - val_precision: 0.8155 - lr: 0.0010\n",
      "Epoch 2/100\n",
      "609/609 [==============================] - 15s 25ms/step - loss: 0.9626 - accuracy: 0.6339 - recall: 0.4935 - precision: 0.8322 - val_loss: 0.8752 - val_accuracy: 0.6617 - val_recall: 0.5337 - val_precision: 0.8486 - lr: 0.0010\n",
      "Epoch 3/100\n",
      "609/609 [==============================] - 13s 22ms/step - loss: 0.7842 - accuracy: 0.6928 - recall: 0.5442 - precision: 0.8655 - val_loss: 0.7835 - val_accuracy: 0.7020 - val_recall: 0.5649 - val_precision: 0.8504 - lr: 0.0010\n",
      "Epoch 4/100\n",
      "609/609 [==============================] - 13s 22ms/step - loss: 0.6786 - accuracy: 0.7344 - recall: 0.6123 - precision: 0.8709 - val_loss: 0.7253 - val_accuracy: 0.7348 - val_recall: 0.5928 - val_precision: 0.8585 - lr: 0.0010\n",
      "Epoch 5/100\n",
      "609/609 [==============================] - 13s 22ms/step - loss: 0.5682 - accuracy: 0.7737 - recall: 0.6830 - precision: 0.8708 - val_loss: 0.6608 - val_accuracy: 0.7553 - val_recall: 0.6470 - val_precision: 0.8519 - lr: 0.0010\n",
      "Epoch 6/100\n",
      "609/609 [==============================] - 14s 24ms/step - loss: 0.5013 - accuracy: 0.8021 - recall: 0.7314 - precision: 0.8749 - val_loss: 0.6596 - val_accuracy: 0.7504 - val_recall: 0.6683 - val_precision: 0.8231 - lr: 0.0010\n",
      "Epoch 7/100\n",
      "609/609 [==============================] - 14s 22ms/step - loss: 0.4403 - accuracy: 0.8164 - recall: 0.7617 - precision: 0.8723 - val_loss: 0.6346 - val_accuracy: 0.7677 - val_recall: 0.7053 - val_precision: 0.8073 - lr: 0.0010\n",
      "Epoch 8/100\n",
      "609/609 [==============================] - 13s 22ms/step - loss: 0.4012 - accuracy: 0.8321 - recall: 0.7826 - precision: 0.8809 - val_loss: 0.6401 - val_accuracy: 0.7594 - val_recall: 0.7151 - val_precision: 0.7976 - lr: 0.0010\n",
      "Epoch 9/100\n",
      "609/609 [==============================] - 13s 22ms/step - loss: 0.3787 - accuracy: 0.8394 - recall: 0.8000 - precision: 0.8806 - val_loss: 0.7318 - val_accuracy: 0.7332 - val_recall: 0.7159 - val_precision: 0.7524 - lr: 0.0010\n",
      "Epoch 10/100\n",
      "609/609 [==============================] - 13s 22ms/step - loss: 0.3598 - accuracy: 0.8438 - recall: 0.8063 - precision: 0.8789 - val_loss: 0.6936 - val_accuracy: 0.7447 - val_recall: 0.7135 - val_precision: 0.7907 - lr: 0.0010\n",
      "Epoch 11/100\n",
      "609/609 [==============================] - 13s 22ms/step - loss: 0.2843 - accuracy: 0.8706 - recall: 0.8384 - precision: 0.9021 - val_loss: 0.6549 - val_accuracy: 0.7562 - val_recall: 0.7250 - val_precision: 0.7969 - lr: 2.0000e-04\n",
      "Epoch 12/100\n",
      "609/609 [==============================] - 13s 22ms/step - loss: 0.2699 - accuracy: 0.8745 - recall: 0.8485 - precision: 0.9035 - val_loss: 0.6633 - val_accuracy: 0.7463 - val_recall: 0.7225 - val_precision: 0.7907 - lr: 2.0000e-04\n",
      "Epoch 13/100\n",
      "609/609 [==============================] - 13s 22ms/step - loss: 0.2643 - accuracy: 0.8738 - recall: 0.8466 - precision: 0.9035 - val_loss: 0.6668 - val_accuracy: 0.7562 - val_recall: 0.7291 - val_precision: 0.7824 - lr: 2.0000e-04\n",
      "Epoch 14/100\n",
      "609/609 [==============================] - 14s 22ms/step - loss: 0.2505 - accuracy: 0.8843 - recall: 0.8579 - precision: 0.9080 - val_loss: 0.6629 - val_accuracy: 0.7586 - val_recall: 0.7315 - val_precision: 0.7830 - lr: 4.0000e-05\n",
      "Epoch 15/100\n",
      "609/609 [==============================] - 13s 22ms/step - loss: 0.2519 - accuracy: 0.8820 - recall: 0.8571 - precision: 0.9046 - val_loss: 0.6664 - val_accuracy: 0.7545 - val_recall: 0.7315 - val_precision: 0.7836 - lr: 4.0000e-05\n",
      "Epoch 16/100\n",
      "609/609 [==============================] - 13s 22ms/step - loss: 0.2478 - accuracy: 0.8841 - recall: 0.8590 - precision: 0.9094 - val_loss: 0.6752 - val_accuracy: 0.7545 - val_recall: 0.7299 - val_precision: 0.7826 - lr: 4.0000e-05\n",
      "Epoch 17/100\n",
      "609/609 [==============================] - 13s 22ms/step - loss: 0.2434 - accuracy: 0.8864 - recall: 0.8639 - precision: 0.9116 - val_loss: 0.6718 - val_accuracy: 0.7537 - val_recall: 0.7323 - val_precision: 0.7866 - lr: 8.0000e-06\n",
      "Epoch 18/100\n",
      "609/609 [==============================] - 14s 22ms/step - loss: 0.2472 - accuracy: 0.8825 - recall: 0.8595 - precision: 0.9079 - val_loss: 0.6699 - val_accuracy: 0.7578 - val_recall: 0.7348 - val_precision: 0.7817 - lr: 8.0000e-06\n",
      "Epoch 19/100\n",
      "609/609 [==============================] - 13s 22ms/step - loss: 0.2407 - accuracy: 0.8862 - recall: 0.8639 - precision: 0.9087 - val_loss: 0.6736 - val_accuracy: 0.7562 - val_recall: 0.7340 - val_precision: 0.7849 - lr: 8.0000e-06\n",
      "Epoch 20/100\n",
      "609/609 [==============================] - 14s 22ms/step - loss: 0.2418 - accuracy: 0.8851 - recall: 0.8621 - precision: 0.9090 - val_loss: 0.6721 - val_accuracy: 0.7562 - val_recall: 0.7323 - val_precision: 0.7825 - lr: 1.6000e-06\n",
      "Epoch 21/100\n",
      "609/609 [==============================] - 13s 22ms/step - loss: 0.2428 - accuracy: 0.8840 - recall: 0.8617 - precision: 0.9067 - val_loss: 0.6716 - val_accuracy: 0.7553 - val_recall: 0.7315 - val_precision: 0.7816 - lr: 1.6000e-06\n",
      "Epoch 22/100\n",
      "609/609 [==============================] - 13s 22ms/step - loss: 0.2400 - accuracy: 0.8861 - recall: 0.8636 - precision: 0.9107 - val_loss: 0.6711 - val_accuracy: 0.7553 - val_recall: 0.7340 - val_precision: 0.7835 - lr: 1.6000e-06\n",
      "Epoch 23/100\n",
      "609/609 [==============================] - 13s 22ms/step - loss: 0.2431 - accuracy: 0.8858 - recall: 0.8610 - precision: 0.9090 - val_loss: 0.6713 - val_accuracy: 0.7545 - val_recall: 0.7356 - val_precision: 0.7839 - lr: 5.0000e-07\n",
      "Epoch 24/100\n",
      "609/609 [==============================] - 14s 23ms/step - loss: 0.2410 - accuracy: 0.8855 - recall: 0.8617 - precision: 0.9097 - val_loss: 0.6713 - val_accuracy: 0.7545 - val_recall: 0.7332 - val_precision: 0.7820 - lr: 5.0000e-07\n",
      "Epoch 25/100\n",
      "609/609 [==============================] - 14s 23ms/step - loss: 0.2433 - accuracy: 0.8859 - recall: 0.8621 - precision: 0.9081 - val_loss: 0.6714 - val_accuracy: 0.7537 - val_recall: 0.7340 - val_precision: 0.7828 - lr: 5.0000e-07\n",
      "Epoch 26/100\n",
      "609/609 [==============================] - 14s 23ms/step - loss: 0.2445 - accuracy: 0.8849 - recall: 0.8635 - precision: 0.9079 - val_loss: 0.6712 - val_accuracy: 0.7537 - val_recall: 0.7340 - val_precision: 0.7822 - lr: 5.0000e-07\n",
      "Epoch 27/100\n",
      "609/609 [==============================] - 15s 25ms/step - loss: 0.2396 - accuracy: 0.8867 - recall: 0.8623 - precision: 0.9095 - val_loss: 0.6713 - val_accuracy: 0.7553 - val_recall: 0.7348 - val_precision: 0.7830 - lr: 5.0000e-07\n",
      "Epoch 28/100\n",
      "609/609 [==============================] - 14s 22ms/step - loss: 0.2423 - accuracy: 0.8858 - recall: 0.8632 - precision: 0.9075 - val_loss: 0.6715 - val_accuracy: 0.7545 - val_recall: 0.7356 - val_precision: 0.7839 - lr: 5.0000e-07\n",
      "Epoch 29/100\n",
      "609/609 [==============================] - 13s 22ms/step - loss: 0.2390 - accuracy: 0.8831 - recall: 0.8603 - precision: 0.9080 - val_loss: 0.6716 - val_accuracy: 0.7545 - val_recall: 0.7365 - val_precision: 0.7814 - lr: 5.0000e-07\n",
      "Epoch 30/100\n",
      "609/609 [==============================] - 14s 22ms/step - loss: 0.2427 - accuracy: 0.8868 - recall: 0.8620 - precision: 0.9088 - val_loss: 0.6717 - val_accuracy: 0.7545 - val_recall: 0.7356 - val_precision: 0.7825 - lr: 5.0000e-07\n",
      "Epoch 31/100\n",
      "609/609 [==============================] - 13s 22ms/step - loss: 0.2438 - accuracy: 0.8833 - recall: 0.8627 - precision: 0.9087 - val_loss: 0.6716 - val_accuracy: 0.7545 - val_recall: 0.7348 - val_precision: 0.7817 - lr: 5.0000e-07\n",
      "Epoch 32/100\n",
      "609/609 [==============================] - 13s 22ms/step - loss: 0.2412 - accuracy: 0.8880 - recall: 0.8636 - precision: 0.9111 - val_loss: 0.6714 - val_accuracy: 0.7553 - val_recall: 0.7340 - val_precision: 0.7835 - lr: 5.0000e-07\n",
      "Epoch 33/100\n",
      "609/609 [==============================] - 13s 22ms/step - loss: 0.2438 - accuracy: 0.8857 - recall: 0.8610 - precision: 0.9060 - val_loss: 0.6715 - val_accuracy: 0.7545 - val_recall: 0.7323 - val_precision: 0.7811 - lr: 5.0000e-07\n",
      "Epoch 34/100\n",
      "609/609 [==============================] - 13s 22ms/step - loss: 0.2459 - accuracy: 0.8851 - recall: 0.8615 - precision: 0.9069 - val_loss: 0.6715 - val_accuracy: 0.7537 - val_recall: 0.7323 - val_precision: 0.7811 - lr: 5.0000e-07\n"
     ]
    },
    {
     "name": "stdout",
     "output_type": "stream",
     "text": [
      "Epoch 35/100\n",
      "609/609 [==============================] - 13s 22ms/step - loss: 0.2414 - accuracy: 0.8880 - recall: 0.8644 - precision: 0.9099 - val_loss: 0.6719 - val_accuracy: 0.7537 - val_recall: 0.7332 - val_precision: 0.7806 - lr: 5.0000e-07\n",
      "Epoch 36/100\n",
      "609/609 [==============================] - 14s 22ms/step - loss: 0.2455 - accuracy: 0.8843 - recall: 0.8602 - precision: 0.9066 - val_loss: 0.6714 - val_accuracy: 0.7553 - val_recall: 0.7348 - val_precision: 0.7830 - lr: 5.0000e-07\n",
      "Epoch 37/100\n",
      "609/609 [==============================] - 13s 22ms/step - loss: 0.2411 - accuracy: 0.8864 - recall: 0.8621 - precision: 0.9087 - val_loss: 0.6714 - val_accuracy: 0.7537 - val_recall: 0.7332 - val_precision: 0.7826 - lr: 5.0000e-07\n",
      "Epoch 38/100\n",
      "609/609 [==============================] - 14s 23ms/step - loss: 0.2412 - accuracy: 0.8845 - recall: 0.8608 - precision: 0.9089 - val_loss: 0.6717 - val_accuracy: 0.7537 - val_recall: 0.7340 - val_precision: 0.7822 - lr: 5.0000e-07\n",
      "Epoch 39/100\n",
      "609/609 [==============================] - 13s 21ms/step - loss: 0.2418 - accuracy: 0.8849 - recall: 0.8629 - precision: 0.9100 - val_loss: 0.6717 - val_accuracy: 0.7553 - val_recall: 0.7340 - val_precision: 0.7828 - lr: 5.0000e-07\n",
      "Epoch 40/100\n",
      "609/609 [==============================] - 13s 21ms/step - loss: 0.2411 - accuracy: 0.8855 - recall: 0.8605 - precision: 0.9106 - val_loss: 0.6719 - val_accuracy: 0.7537 - val_recall: 0.7332 - val_precision: 0.7820 - lr: 5.0000e-07\n",
      "Epoch 41/100\n",
      "609/609 [==============================] - 13s 21ms/step - loss: 0.2404 - accuracy: 0.8896 - recall: 0.8649 - precision: 0.9092 - val_loss: 0.6719 - val_accuracy: 0.7537 - val_recall: 0.7332 - val_precision: 0.7813 - lr: 5.0000e-07\n",
      "Epoch 42/100\n",
      "609/609 [==============================] - 13s 21ms/step - loss: 0.2424 - accuracy: 0.8866 - recall: 0.8602 - precision: 0.9080 - val_loss: 0.6719 - val_accuracy: 0.7553 - val_recall: 0.7340 - val_precision: 0.7815 - lr: 5.0000e-07\n",
      "Epoch 43/100\n",
      "609/609 [==============================] - 13s 21ms/step - loss: 0.2427 - accuracy: 0.8862 - recall: 0.8628 - precision: 0.9098 - val_loss: 0.6718 - val_accuracy: 0.7537 - val_recall: 0.7332 - val_precision: 0.7813 - lr: 5.0000e-07\n",
      "Epoch 44/100\n",
      "609/609 [==============================] - 13s 21ms/step - loss: 0.2428 - accuracy: 0.8870 - recall: 0.8619 - precision: 0.9107 - val_loss: 0.6720 - val_accuracy: 0.7537 - val_recall: 0.7332 - val_precision: 0.7820 - lr: 5.0000e-07\n",
      "Epoch 45/100\n",
      "609/609 [==============================] - 13s 21ms/step - loss: 0.2411 - accuracy: 0.8878 - recall: 0.8644 - precision: 0.9098 - val_loss: 0.6721 - val_accuracy: 0.7545 - val_recall: 0.7332 - val_precision: 0.7806 - lr: 5.0000e-07\n",
      "Epoch 46/100\n",
      "609/609 [==============================] - 13s 21ms/step - loss: 0.2393 - accuracy: 0.8861 - recall: 0.8645 - precision: 0.9106 - val_loss: 0.6723 - val_accuracy: 0.7537 - val_recall: 0.7340 - val_precision: 0.7822 - lr: 5.0000e-07\n",
      "Epoch 47/100\n",
      "609/609 [==============================] - 13s 21ms/step - loss: 0.2426 - accuracy: 0.8837 - recall: 0.8626 - precision: 0.9087 - val_loss: 0.6725 - val_accuracy: 0.7529 - val_recall: 0.7332 - val_precision: 0.7806 - lr: 5.0000e-07\n",
      "Epoch 48/100\n",
      "609/609 [==============================] - 13s 21ms/step - loss: 0.2411 - accuracy: 0.8854 - recall: 0.8611 - precision: 0.9083 - val_loss: 0.6725 - val_accuracy: 0.7537 - val_recall: 0.7348 - val_precision: 0.7823 - lr: 5.0000e-07\n",
      "Epoch 49/100\n",
      "609/609 [==============================] - 13s 21ms/step - loss: 0.2405 - accuracy: 0.8845 - recall: 0.8629 - precision: 0.9102 - val_loss: 0.6725 - val_accuracy: 0.7537 - val_recall: 0.7348 - val_precision: 0.7823 - lr: 5.0000e-07\n",
      "Epoch 50/100\n",
      "609/609 [==============================] - 13s 21ms/step - loss: 0.2392 - accuracy: 0.8859 - recall: 0.8648 - precision: 0.9118 - val_loss: 0.6725 - val_accuracy: 0.7537 - val_recall: 0.7348 - val_precision: 0.7823 - lr: 5.0000e-07\n",
      "Epoch 51/100\n",
      "609/609 [==============================] - 13s 22ms/step - loss: 0.2413 - accuracy: 0.8854 - recall: 0.8626 - precision: 0.9082 - val_loss: 0.6722 - val_accuracy: 0.7545 - val_recall: 0.7356 - val_precision: 0.7825 - lr: 5.0000e-07\n",
      "Epoch 52/100\n",
      "609/609 [==============================] - 13s 22ms/step - loss: 0.2406 - accuracy: 0.8850 - recall: 0.8636 - precision: 0.9102 - val_loss: 0.6724 - val_accuracy: 0.7545 - val_recall: 0.7356 - val_precision: 0.7832 - lr: 5.0000e-07\n",
      "Epoch 53/100\n",
      "609/609 [==============================] - 13s 22ms/step - loss: 0.2418 - accuracy: 0.8866 - recall: 0.8642 - precision: 0.9079 - val_loss: 0.6723 - val_accuracy: 0.7537 - val_recall: 0.7340 - val_precision: 0.7815 - lr: 5.0000e-07\n",
      "Epoch 54/100\n",
      "609/609 [==============================] - 13s 21ms/step - loss: 0.2424 - accuracy: 0.8835 - recall: 0.8616 - precision: 0.9062 - val_loss: 0.6724 - val_accuracy: 0.7537 - val_recall: 0.7340 - val_precision: 0.7815 - lr: 5.0000e-07\n",
      "Epoch 55/100\n",
      "609/609 [==============================] - 13s 21ms/step - loss: 0.2404 - accuracy: 0.8866 - recall: 0.8635 - precision: 0.9088 - val_loss: 0.6722 - val_accuracy: 0.7545 - val_recall: 0.7340 - val_precision: 0.7815 - lr: 5.0000e-07\n",
      "Epoch 56/100\n",
      "609/609 [==============================] - 13s 22ms/step - loss: 0.2456 - accuracy: 0.8843 - recall: 0.8629 - precision: 0.9079 - val_loss: 0.6724 - val_accuracy: 0.7553 - val_recall: 0.7348 - val_precision: 0.7823 - lr: 5.0000e-07\n",
      "Epoch 57/100\n",
      "609/609 [==============================] - 13s 21ms/step - loss: 0.2421 - accuracy: 0.8831 - recall: 0.8604 - precision: 0.9065 - val_loss: 0.6722 - val_accuracy: 0.7553 - val_recall: 0.7348 - val_precision: 0.7823 - lr: 5.0000e-07\n",
      "Epoch 58/100\n",
      "609/609 [==============================] - 13s 22ms/step - loss: 0.2417 - accuracy: 0.8849 - recall: 0.8617 - precision: 0.9092 - val_loss: 0.6723 - val_accuracy: 0.7553 - val_recall: 0.7348 - val_precision: 0.7823 - lr: 5.0000e-07\n",
      "Epoch 59/100\n",
      "609/609 [==============================] - 13s 22ms/step - loss: 0.2420 - accuracy: 0.8853 - recall: 0.8618 - precision: 0.9095 - val_loss: 0.6724 - val_accuracy: 0.7553 - val_recall: 0.7356 - val_precision: 0.7825 - lr: 5.0000e-07\n",
      "Epoch 60/100\n",
      "609/609 [==============================] - 13s 22ms/step - loss: 0.2420 - accuracy: 0.8844 - recall: 0.8615 - precision: 0.9060 - val_loss: 0.6725 - val_accuracy: 0.7553 - val_recall: 0.7348 - val_precision: 0.7823 - lr: 5.0000e-07\n",
      "Epoch 61/100\n",
      "609/609 [==============================] - 13s 22ms/step - loss: 0.2413 - accuracy: 0.8845 - recall: 0.8615 - precision: 0.9069 - val_loss: 0.6724 - val_accuracy: 0.7553 - val_recall: 0.7348 - val_precision: 0.7823 - lr: 5.0000e-07\n",
      "Epoch 62/100\n",
      "609/609 [==============================] - 14s 22ms/step - loss: 0.2417 - accuracy: 0.8878 - recall: 0.8662 - precision: 0.9112 - val_loss: 0.6725 - val_accuracy: 0.7553 - val_recall: 0.7348 - val_precision: 0.7823 - lr: 5.0000e-07\n",
      "Epoch 63/100\n",
      "609/609 [==============================] - 13s 22ms/step - loss: 0.2413 - accuracy: 0.8886 - recall: 0.8632 - precision: 0.9103 - val_loss: 0.6727 - val_accuracy: 0.7537 - val_recall: 0.7348 - val_precision: 0.7817 - lr: 5.0000e-07\n",
      "Epoch 64/100\n",
      "609/609 [==============================] - 14s 23ms/step - loss: 0.2414 - accuracy: 0.8845 - recall: 0.8629 - precision: 0.9070 - val_loss: 0.6729 - val_accuracy: 0.7537 - val_recall: 0.7348 - val_precision: 0.7823 - lr: 5.0000e-07\n",
      "Epoch 65/100\n",
      "609/609 [==============================] - 14s 22ms/step - loss: 0.2418 - accuracy: 0.8830 - recall: 0.8596 - precision: 0.9072 - val_loss: 0.6729 - val_accuracy: 0.7537 - val_recall: 0.7348 - val_precision: 0.7817 - lr: 5.0000e-07\n",
      "Epoch 66/100\n",
      "609/609 [==============================] - 13s 22ms/step - loss: 0.2410 - accuracy: 0.8843 - recall: 0.8617 - precision: 0.9079 - val_loss: 0.6727 - val_accuracy: 0.7553 - val_recall: 0.7356 - val_precision: 0.7825 - lr: 5.0000e-07\n",
      "Epoch 67/100\n",
      "609/609 [==============================] - 13s 22ms/step - loss: 0.2398 - accuracy: 0.8833 - recall: 0.8624 - precision: 0.9060 - val_loss: 0.6728 - val_accuracy: 0.7553 - val_recall: 0.7340 - val_precision: 0.7808 - lr: 5.0000e-07\n",
      "Epoch 68/100\n"
     ]
    },
    {
     "name": "stdout",
     "output_type": "stream",
     "text": [
      "609/609 [==============================] - 13s 22ms/step - loss: 0.2415 - accuracy: 0.8868 - recall: 0.8641 - precision: 0.9097 - val_loss: 0.6732 - val_accuracy: 0.7545 - val_recall: 0.7348 - val_precision: 0.7817 - lr: 5.0000e-07\n",
      "Epoch 69/100\n",
      "609/609 [==============================] - 13s 22ms/step - loss: 0.2383 - accuracy: 0.8855 - recall: 0.8643 - precision: 0.9089 - val_loss: 0.6733 - val_accuracy: 0.7537 - val_recall: 0.7340 - val_precision: 0.7808 - lr: 5.0000e-07\n",
      "Epoch 70/100\n",
      "609/609 [==============================] - 13s 21ms/step - loss: 0.2410 - accuracy: 0.8853 - recall: 0.8620 - precision: 0.9077 - val_loss: 0.6732 - val_accuracy: 0.7545 - val_recall: 0.7365 - val_precision: 0.7820 - lr: 5.0000e-07\n",
      "Epoch 71/100\n",
      "609/609 [==============================] - 13s 22ms/step - loss: 0.2400 - accuracy: 0.8860 - recall: 0.8651 - precision: 0.9064 - val_loss: 0.6732 - val_accuracy: 0.7562 - val_recall: 0.7365 - val_precision: 0.7814 - lr: 5.0000e-07\n",
      "Epoch 72/100\n",
      "609/609 [==============================] - 13s 22ms/step - loss: 0.2412 - accuracy: 0.8846 - recall: 0.8636 - precision: 0.9076 - val_loss: 0.6730 - val_accuracy: 0.7553 - val_recall: 0.7365 - val_precision: 0.7827 - lr: 5.0000e-07\n",
      "Epoch 73/100\n",
      "609/609 [==============================] - 13s 22ms/step - loss: 0.2388 - accuracy: 0.8858 - recall: 0.8653 - precision: 0.9085 - val_loss: 0.6729 - val_accuracy: 0.7553 - val_recall: 0.7365 - val_precision: 0.7827 - lr: 5.0000e-07\n",
      "Epoch 74/100\n",
      "609/609 [==============================] - 14s 23ms/step - loss: 0.2403 - accuracy: 0.8817 - recall: 0.8605 - precision: 0.9049 - val_loss: 0.6732 - val_accuracy: 0.7545 - val_recall: 0.7356 - val_precision: 0.7825 - lr: 5.0000e-07\n",
      "Epoch 75/100\n",
      "609/609 [==============================] - 14s 22ms/step - loss: 0.2409 - accuracy: 0.8859 - recall: 0.8642 - precision: 0.9095 - val_loss: 0.6732 - val_accuracy: 0.7553 - val_recall: 0.7365 - val_precision: 0.7827 - lr: 5.0000e-07\n",
      "Epoch 76/100\n",
      "609/609 [==============================] - 14s 22ms/step - loss: 0.2386 - accuracy: 0.8873 - recall: 0.8656 - precision: 0.9112 - val_loss: 0.6732 - val_accuracy: 0.7553 - val_recall: 0.7356 - val_precision: 0.7825 - lr: 5.0000e-07\n",
      "Epoch 77/100\n",
      "609/609 [==============================] - 14s 22ms/step - loss: 0.2400 - accuracy: 0.8871 - recall: 0.8621 - precision: 0.9103 - val_loss: 0.6733 - val_accuracy: 0.7553 - val_recall: 0.7356 - val_precision: 0.7825 - lr: 5.0000e-07\n",
      "Epoch 78/100\n",
      "609/609 [==============================] - 13s 22ms/step - loss: 0.2437 - accuracy: 0.8828 - recall: 0.8618 - precision: 0.9038 - val_loss: 0.6733 - val_accuracy: 0.7537 - val_recall: 0.7348 - val_precision: 0.7817 - lr: 5.0000e-07\n",
      "Epoch 79/100\n",
      "609/609 [==============================] - 14s 22ms/step - loss: 0.2424 - accuracy: 0.8855 - recall: 0.8636 - precision: 0.9084 - val_loss: 0.6733 - val_accuracy: 0.7537 - val_recall: 0.7340 - val_precision: 0.7815 - lr: 5.0000e-07\n",
      "Epoch 80/100\n",
      "609/609 [==============================] - 14s 22ms/step - loss: 0.2399 - accuracy: 0.8847 - recall: 0.8641 - precision: 0.9069 - val_loss: 0.6734 - val_accuracy: 0.7537 - val_recall: 0.7348 - val_precision: 0.7817 - lr: 5.0000e-07\n",
      "Epoch 81/100\n",
      "609/609 [==============================] - 13s 22ms/step - loss: 0.2418 - accuracy: 0.8877 - recall: 0.8659 - precision: 0.9101 - val_loss: 0.6733 - val_accuracy: 0.7553 - val_recall: 0.7356 - val_precision: 0.7825 - lr: 5.0000e-07\n",
      "Epoch 82/100\n",
      "609/609 [==============================] - 14s 22ms/step - loss: 0.2387 - accuracy: 0.8873 - recall: 0.8635 - precision: 0.9100 - val_loss: 0.6734 - val_accuracy: 0.7553 - val_recall: 0.7365 - val_precision: 0.7827 - lr: 5.0000e-07\n",
      "Epoch 83/100\n",
      "609/609 [==============================] - 14s 22ms/step - loss: 0.2415 - accuracy: 0.8841 - recall: 0.8617 - precision: 0.9075 - val_loss: 0.6734 - val_accuracy: 0.7553 - val_recall: 0.7365 - val_precision: 0.7827 - lr: 5.0000e-07\n",
      "Epoch 84/100\n",
      "609/609 [==============================] - 14s 22ms/step - loss: 0.2424 - accuracy: 0.8869 - recall: 0.8640 - precision: 0.9080 - val_loss: 0.6733 - val_accuracy: 0.7545 - val_recall: 0.7356 - val_precision: 0.7825 - lr: 5.0000e-07\n",
      "Epoch 85/100\n",
      "609/609 [==============================] - 13s 22ms/step - loss: 0.2416 - accuracy: 0.8844 - recall: 0.8626 - precision: 0.9093 - val_loss: 0.6734 - val_accuracy: 0.7553 - val_recall: 0.7365 - val_precision: 0.7827 - lr: 5.0000e-07\n",
      "Epoch 86/100\n",
      "609/609 [==============================] - 14s 22ms/step - loss: 0.2410 - accuracy: 0.8859 - recall: 0.8644 - precision: 0.9086 - val_loss: 0.6737 - val_accuracy: 0.7553 - val_recall: 0.7356 - val_precision: 0.7825 - lr: 5.0000e-07\n",
      "Epoch 87/100\n",
      "609/609 [==============================] - 14s 22ms/step - loss: 0.2408 - accuracy: 0.8857 - recall: 0.8634 - precision: 0.9080 - val_loss: 0.6737 - val_accuracy: 0.7553 - val_recall: 0.7356 - val_precision: 0.7825 - lr: 5.0000e-07\n",
      "Epoch 88/100\n",
      "609/609 [==============================] - 14s 23ms/step - loss: 0.2409 - accuracy: 0.8855 - recall: 0.8647 - precision: 0.9092 - val_loss: 0.6738 - val_accuracy: 0.7553 - val_recall: 0.7348 - val_precision: 0.7810 - lr: 5.0000e-07\n",
      "Epoch 89/100\n",
      "609/609 [==============================] - 14s 22ms/step - loss: 0.2397 - accuracy: 0.8916 - recall: 0.8680 - precision: 0.9113 - val_loss: 0.6737 - val_accuracy: 0.7545 - val_recall: 0.7340 - val_precision: 0.7815 - lr: 5.0000e-07\n",
      "Epoch 90/100\n",
      "609/609 [==============================] - 13s 22ms/step - loss: 0.2395 - accuracy: 0.8862 - recall: 0.8636 - precision: 0.9060 - val_loss: 0.6736 - val_accuracy: 0.7545 - val_recall: 0.7356 - val_precision: 0.7825 - lr: 5.0000e-07\n",
      "Epoch 91/100\n",
      "609/609 [==============================] - 14s 22ms/step - loss: 0.2419 - accuracy: 0.8841 - recall: 0.8609 - precision: 0.9062 - val_loss: 0.6736 - val_accuracy: 0.7545 - val_recall: 0.7356 - val_precision: 0.7825 - lr: 5.0000e-07\n",
      "Epoch 92/100\n",
      "609/609 [==============================] - 14s 23ms/step - loss: 0.2406 - accuracy: 0.8873 - recall: 0.8628 - precision: 0.9082 - val_loss: 0.6738 - val_accuracy: 0.7553 - val_recall: 0.7356 - val_precision: 0.7812 - lr: 5.0000e-07\n",
      "Epoch 93/100\n",
      "609/609 [==============================] - 14s 22ms/step - loss: 0.2431 - accuracy: 0.8877 - recall: 0.8635 - precision: 0.9098 - val_loss: 0.6736 - val_accuracy: 0.7545 - val_recall: 0.7348 - val_precision: 0.7810 - lr: 5.0000e-07\n",
      "Epoch 94/100\n",
      "609/609 [==============================] - 13s 22ms/step - loss: 0.2410 - accuracy: 0.8853 - recall: 0.8638 - precision: 0.9081 - val_loss: 0.6737 - val_accuracy: 0.7545 - val_recall: 0.7348 - val_precision: 0.7823 - lr: 5.0000e-07\n",
      "Epoch 95/100\n",
      "609/609 [==============================] - 14s 22ms/step - loss: 0.2398 - accuracy: 0.8860 - recall: 0.8640 - precision: 0.9101 - val_loss: 0.6741 - val_accuracy: 0.7537 - val_recall: 0.7340 - val_precision: 0.7815 - lr: 5.0000e-07\n",
      "Epoch 96/100\n",
      "609/609 [==============================] - 14s 22ms/step - loss: 0.2410 - accuracy: 0.8860 - recall: 0.8641 - precision: 0.9102 - val_loss: 0.6740 - val_accuracy: 0.7537 - val_recall: 0.7340 - val_precision: 0.7815 - lr: 5.0000e-07\n",
      "Epoch 97/100\n",
      "609/609 [==============================] - 13s 22ms/step - loss: 0.2401 - accuracy: 0.8849 - recall: 0.8610 - precision: 0.9073 - val_loss: 0.6737 - val_accuracy: 0.7553 - val_recall: 0.7365 - val_precision: 0.7827 - lr: 5.0000e-07\n",
      "Epoch 98/100\n",
      "609/609 [==============================] - 14s 22ms/step - loss: 0.2395 - accuracy: 0.8865 - recall: 0.8645 - precision: 0.9097 - val_loss: 0.6741 - val_accuracy: 0.7545 - val_recall: 0.7340 - val_precision: 0.7815 - lr: 5.0000e-07\n",
      "Epoch 99/100\n",
      "609/609 [==============================] - 14s 22ms/step - loss: 0.2426 - accuracy: 0.8865 - recall: 0.8642 - precision: 0.9089 - val_loss: 0.6742 - val_accuracy: 0.7545 - val_recall: 0.7348 - val_precision: 0.7803 - lr: 5.0000e-07\n",
      "Epoch 100/100\n",
      "609/609 [==============================] - 14s 22ms/step - loss: 0.2375 - accuracy: 0.8867 - recall: 0.8638 - precision: 0.9111 - val_loss: 0.6744 - val_accuracy: 0.7537 - val_recall: 0.7348 - val_precision: 0.7823 - lr: 5.0000e-07\n"
     ]
    }
   ],
   "source": [
    "history = modele1.fit(x_train_padded, y_train_encoded,  batch_size=16, validation_data=(x_validation_padded, y_validation_encoded), callbacks=callbacks,epochs=100,verbose=1)\n"
   ]
  },
  {
   "cell_type": "code",
   "execution_count": 23,
   "id": "975e6bb9",
   "metadata": {},
   "outputs": [
    {
     "name": "stdout",
     "output_type": "stream",
     "text": [
      "39/39 [==============================] - 0s 5ms/step - loss: 0.6652 - accuracy: 0.7703 - recall: 0.7449 - precision: 0.7930\n"
     ]
    },
    {
     "data": {
      "text/plain": [
       "[0.6652112007141113,\n",
       " 0.7703035473823547,\n",
       " 0.7448728680610657,\n",
       " 0.7930130958557129]"
      ]
     },
     "execution_count": 23,
     "metadata": {},
     "output_type": "execute_result"
    }
   ],
   "source": [
    "modele1.evaluate(x_test_padded,y_test_encoded)"
   ]
  },
  {
   "cell_type": "code",
   "execution_count": 19,
   "id": "f54825a7",
   "metadata": {},
   "outputs": [
    {
     "data": {
      "image/png": "[encoded data removed]",
      "text/plain": [
       "<Figure size 640x480 with 1 Axes>"
      ]
     },
     "metadata": {},
     "output_type": "display_data"
    }
   ],
   "source": [
    "\n",
    "import matplotlib.pyplot as plt\n",
    "plt.plot(history.history['loss'])\n",
    "plt.plot(history.history['val_loss'])\n",
    "plt.ylabel('model loss')\n",
    "plt.xlabel('epoch')\n",
    "plt.legend(['train', 'valid'], loc='best')\n",
    "plt.savefig('train_history.png')\n",
    "plt.show()"
   ]
  },
  {
   "cell_type": "code",
   "execution_count": null,
   "id": "22375b35",
   "metadata": {},
   "outputs": [],
   "source": []
  },
  {
   "cell_type": "code",
   "execution_count": 20,
   "id": "0e72e85b",
   "metadata": {},
   "outputs": [
    {
     "data": {
      "image/png": "[encoded data removed]",
      "text/plain": [
       "<Figure size 640x480 with 1 Axes>"
      ]
     },
     "metadata": {},
     "output_type": "display_data"
    }
   ],
   "source": [
    "plt.plot(history.history['accuracy'])\n",
    "plt.plot(history.history['val_accuracy'])\n",
    "plt.ylabel('model accuracy')\n",
    "plt.xlabel('epoch')\n",
    "plt.legend(['train', 'valid'], loc='best')\n",
    "plt.savefig('train_accuracy_history.png')\n",
    "plt.show()"
   ]
  },
  {
   "cell_type": "code",
   "execution_count": 21,
   "id": "e394746d",
   "metadata": {},
   "outputs": [
    {
     "data": {
      "image/png": "[encoded data removed]",
      "text/plain": [
       "<Figure size 640x480 with 1 Axes>"
      ]
     },
     "metadata": {},
     "output_type": "display_data"
    }
   ],
   "source": [
    "plt.plot(history.history['recall'])\n",
    "plt.plot(history.history['val_recall'])\n",
    "plt.ylabel('model recall')\n",
    "plt.xlabel('epoch')\n",
    "plt.legend(['train', 'valid'], loc='best')\n",
    "plt.savefig('train_accuracy_history.png')\n",
    "plt.show()"
   ]
  },
  {
   "cell_type": "code",
   "execution_count": 22,
   "id": "958923d2",
   "metadata": {},
   "outputs": [
    {
     "data": {
      "image/png": "[encoded data removed]",
      "text/plain": [
       "<Figure size 640x480 with 1 Axes>"
      ]
     },
     "metadata": {},
     "output_type": "display_data"
    }
   ],
   "source": [
    "plt.plot(history.history['precision'])\n",
    "plt.plot(history.history['val_precision'])\n",
    "plt.ylabel('model precision')\n",
    "plt.xlabel('epoch')\n",
    "plt.legend(['train', 'valid'], loc='best')\n",
    "plt.savefig('train_accuracy_history.png')\n",
    "plt.show()"
   ]
  },
  {
   "cell_type": "markdown",
   "id": "61b4fa54",
   "metadata": {},
   "source": [
    "# Run This Section in case of 3 Labels( Merged under represented classes)"
   ]
  },
  {
   "cell_type": "code",
   "execution_count": 37,
   "id": "f62423b8",
   "metadata": {},
   "outputs": [],
   "source": [
    "\n",
    "def change(x):\n",
    "    if x in ['RACISM','SEXISM','BULLYING']:\n",
    "        x ='HATE_SPEECH'\n",
    "    return x"
   ]
  },
  {
   "cell_type": "code",
   "execution_count": null,
   "id": "508d46fc",
   "metadata": {},
   "outputs": [],
   "source": [
    "max_text_length=300\n",
    "embed_dim = 300 # size of fasttext vector(fastmodel in my case)\n",
    "#load fast text vectorizer and the tokenizer\n",
    "tokenizer= Tokenizer()\n",
    "tokenizer.fit_on_texts(x_train)\n",
    "vocab_size = len(tokenizer.word_index)+1"
   ]
  },
  {
   "cell_type": "code",
   "execution_count": null,
   "id": "4d2dfa55",
   "metadata": {},
   "outputs": [],
   "source": [
    "templiste=[]\n",
    "for element in x_train:\n",
    "    templiste.append(str(element))\n",
    "x_train=[]\n",
    "x_train=templiste\n",
    "\n",
    "templiste=[]\n",
    "for element in x_validation:\n",
    "    templiste.append(str(element))\n",
    "x_validation=[]\n",
    "x_validation=templiste\n",
    "templiste=[]\n",
    "for element in x_test:\n",
    "    templiste.append(str(element))\n",
    "x_test=[]\n",
    "x_test=templiste"
   ]
  },
  {
   "cell_type": "code",
   "execution_count": null,
   "id": "7d016d36",
   "metadata": {},
   "outputs": [],
   "source": [
    "y_train1=[change(x) for x in y_train]\n",
    "y_validation1=[change(x) for x in y_validation]\n",
    "y_test1=[change(x) for x in y_test]\n",
    "y_train=y_train1\n",
    "y_validation=y_validation1\n",
    "y_test=y_test1"
   ]
  },
  {
   "cell_type": "code",
   "execution_count": null,
   "id": "2dfbd726",
   "metadata": {},
   "outputs": [],
   "source": [
    "temp= tokenizer.texts_to_sequences(x_train)\n",
    "x_train_padded=pad_sequences(temp, maxlen= max_text_length, padding='pre')\n",
    "temp=tokenizer.texts_to_sequences(x_validation)\n",
    "x_validation_padded=pad_sequences(temp,maxlen= max_text_length, padding='pre')\n",
    "temp=tokenizer.texts_to_sequences(x_test)\n",
    "x_test_padded=pad_sequences(temp, maxlen=max_text_length, padding='pre')"
   ]
  },
  {
   "cell_type": "code",
   "execution_count": null,
   "id": "ad3be5c0",
   "metadata": {},
   "outputs": [],
   "source": [
    "# integer encode the data and padd it\n",
    "y_train_encoded =pd.get_dummies(y_train).values\n",
    "y_validation_encoded =pd.get_dummies(y_validation).values\n",
    "y_test_encoded =pd.get_dummies(y_test).values"
   ]
  },
  {
   "cell_type": "code",
   "execution_count": null,
   "id": "6594a45c",
   "metadata": {},
   "outputs": [],
   "source": [
    "# integer encode the data and padd it\n",
    "temp= tokenizer.texts_to_sequences(x_train)\n",
    "x_train_padded=pad_sequences(temp, maxlen= max_text_length, padding='pre')\n",
    "temp=tokenizer.texts_to_sequences(x_validation)\n",
    "x_validation_padded=pad_sequences(temp,maxlen= max_text_length, padding='pre')\n",
    "temp=tokenizer.texts_to_sequences(x_test)\n",
    "x_test_padded=pad_sequences(temp, maxlen=max_text_length, padding='pre')"
   ]
  },
  {
   "cell_type": "code",
   "execution_count": null,
   "id": "869e78e5",
   "metadata": {},
   "outputs": [],
   "source": [
    "y_train_encoded = np.array(y_train)\n",
    "y_validation_encoded = np.array(y_validation)\n",
    "y_test_encoded=np.array(y_test)"
   ]
  },
  {
   "cell_type": "code",
   "execution_count": null,
   "id": "f232c8c3",
   "metadata": {},
   "outputs": [],
   "source": [
    "\n",
    "with open('d:/OMDENA/Marseile/french_tokenizer1.pickle', 'wb') as handle:\n",
    "    pickle.dump(tokenizer, handle, protocol=pickle.HIGHEST_PROTOCOL)"
   ]
  },
  {
   "cell_type": "code",
   "execution_count": null,
   "id": "fd228603",
   "metadata": {},
   "outputs": [],
   "source": [
    "from numpy import zeros\n",
    "embed_matrix=zeros((vocab_size,embed_dim))\n",
    "for word, i in tokenizer.word_index.items():\n",
    "    embed_vector= fastvectorizer[word]#fastvectorizer.wv[word]\n",
    "      \n",
    "    if embed_vector is not None:\n",
    "        embed_matrix[i]=embed_vector\n",
    "        \n"
   ]
  },
  {
   "cell_type": "code",
   "execution_count": null,
   "id": "04f75258",
   "metadata": {},
   "outputs": [],
   "source": [
    "fastvectorizer = None"
   ]
  },
  {
   "cell_type": "code",
   "execution_count": null,
   "id": "ac0d47e5",
   "metadata": {},
   "outputs": [],
   "source": [
    "save_dir=os.path.join(os.getcwd(),'saved_models')\n",
    "model_name='d:/omdena/Marseile/models/RNN_T_FastText_français_24_01_2023_3labe.{epoch:03d}.h5'\n",
    "\n",
    "#if not os.path.isdir(save_dir):\n",
    "#    os.makedirs(save_dir)\n",
    "filepath=os.path.join(save_dir,model_name)\n",
    "checkpoint= ModelCheckpoint(filepath=filepath,monitor='val_loss',)\n",
    "reduce_lr = ReduceLROnPlateau(monitor='val_loss', factor=0.2, cooldown=0, patience=3, min_lr=0.5e-6)\n",
    "#reduce_lr = ReduceLROnPlateau(monitor='val_loss', factor=0.1,  patience=5, min_lr=0.001)\n",
    "callbacks=[checkpoint,reduce_lr]\n"
   ]
  },
  {
   "cell_type": "code",
   "execution_count": 52,
   "id": "389ec226",
   "metadata": {},
   "outputs": [
    {
     "name": "stdout",
     "output_type": "stream",
     "text": [
      "Model: \"sequential_4\"\n",
      "_________________________________________________________________\n",
      " Layer (type)                Output Shape              Param #   \n",
      "=================================================================\n",
      " embedding_2 (Embedding)     (None, 300, 300)          3507000   \n",
      "                                                                 \n",
      " global_average_pooling1d_4   (None, 300)              0         \n",
      " (GlobalAveragePooling1D)                                        \n",
      "                                                                 \n",
      " dropout_8 (Dropout)         (None, 300)               0         \n",
      "                                                                 \n",
      " dense_12 (Dense)            (None, 300)               90300     \n",
      "                                                                 \n",
      " dropout_9 (Dropout)         (None, 300)               0         \n",
      "                                                                 \n",
      " dense_13 (Dense)            (None, 100)               30100     \n",
      "                                                                 \n",
      " dense_14 (Dense)            (None, 3)                 303       \n",
      "                                                                 \n",
      "=================================================================\n",
      "Total params: 3,627,703\n",
      "Trainable params: 3,627,703\n",
      "Non-trainable params: 0\n",
      "_________________________________________________________________\n",
      "None\n"
     ]
    }
   ],
   "source": [
    "#RNN model\n",
    "modele1 = Sequential()\n",
    "modele1.add(e)\n",
    "modele1.add(GlobalAveragePooling1D())\n",
    "modele1.add(Dropout(0.3))\n",
    "modele1.add(Dense(300, activation=\"relu\"))\n",
    "modele1.add(Dropout(0.3))\n",
    "modele1.add(Dense(100, activation=\"relu\"))\n",
    "modele1.add(Dense(3, activation='softmax'))\n",
    "modele1.compile(loss='categorical_crossentropy', optimizer=Adam(learning_rate=0.001),metrics=[\"accuracy\",Recall(),Precision()])\n",
    "print (modele1.summary())\n"
   ]
  },
  {
   "cell_type": "code",
   "execution_count": 54,
   "id": "competitive-sender",
   "metadata": {
    "ExecuteTime": {
     "end_time": "2021-05-03T09:06:13.363981Z",
     "start_time": "2021-05-03T09:06:13.358245Z"
    },
    "id": "competitive-sender"
   },
   "outputs": [
    {
     "name": "stdout",
     "output_type": "stream",
     "text": [
      "Epoch 1/100\n",
      "305/305 [==============================] - 9s 25ms/step - loss: 0.8535 - accuracy: 0.5790 - recall_3: 0.3231 - precision_3: 0.7499 - val_loss: 0.5357 - val_accuracy: 0.7521 - val_recall_3: 0.7053 - val_precision_3: 0.7760 - lr: 0.0010\n",
      "Epoch 2/100\n",
      "305/305 [==============================] - 7s 24ms/step - loss: 0.4393 - accuracy: 0.8258 - recall_3: 0.8031 - precision_3: 0.8462 - val_loss: 0.4508 - val_accuracy: 0.8144 - val_recall_3: 0.7964 - val_precision_3: 0.8248 - lr: 0.0010\n",
      "Epoch 3/100\n",
      "305/305 [==============================] - 8s 25ms/step - loss: 0.3063 - accuracy: 0.8797 - recall_3: 0.8709 - precision_3: 0.8878 - val_loss: 0.3332 - val_accuracy: 0.8571 - val_recall_3: 0.8506 - val_precision_3: 0.8655 - lr: 0.0010\n",
      "Epoch 4/100\n",
      "305/305 [==============================] - 8s 25ms/step - loss: 0.2245 - accuracy: 0.9117 - recall_3: 0.9073 - precision_3: 0.9171 - val_loss: 0.5085 - val_accuracy: 0.8087 - val_recall_3: 0.8013 - val_precision_3: 0.8140 - lr: 0.0010\n",
      "Epoch 5/100\n",
      "305/305 [==============================] - 7s 25ms/step - loss: 0.1656 - accuracy: 0.9400 - recall_3: 0.9373 - precision_3: 0.9421 - val_loss: 0.3176 - val_accuracy: 0.8875 - val_recall_3: 0.8818 - val_precision_3: 0.8876 - lr: 0.0010\n",
      "Epoch 6/100\n",
      "305/305 [==============================] - 8s 25ms/step - loss: 0.1514 - accuracy: 0.9459 - recall_3: 0.9447 - precision_3: 0.9481 - val_loss: 0.3268 - val_accuracy: 0.8777 - val_recall_3: 0.8711 - val_precision_3: 0.8812 - lr: 0.0010\n",
      "Epoch 7/100\n",
      "305/305 [==============================] - 8s 25ms/step - loss: 0.1236 - accuracy: 0.9549 - recall_3: 0.9542 - precision_3: 0.9565 - val_loss: 0.3466 - val_accuracy: 0.8867 - val_recall_3: 0.8834 - val_precision_3: 0.8878 - lr: 0.0010\n",
      "Epoch 8/100\n",
      "305/305 [==============================] - 8s 25ms/step - loss: 0.1123 - accuracy: 0.9595 - recall_3: 0.9580 - precision_3: 0.9605 - val_loss: 0.3626 - val_accuracy: 0.8851 - val_recall_3: 0.8834 - val_precision_3: 0.8871 - lr: 0.0010\n",
      "Epoch 9/100\n",
      "305/305 [==============================] - 8s 25ms/step - loss: 0.0692 - accuracy: 0.9765 - recall_3: 0.9760 - precision_3: 0.9770 - val_loss: 0.3581 - val_accuracy: 0.8810 - val_recall_3: 0.8810 - val_precision_3: 0.8824 - lr: 2.0000e-04\n",
      "Epoch 10/100\n",
      "305/305 [==============================] - 8s 25ms/step - loss: 0.0597 - accuracy: 0.9799 - recall_3: 0.9796 - precision_3: 0.9804 - val_loss: 0.3676 - val_accuracy: 0.8834 - val_recall_3: 0.8834 - val_precision_3: 0.8856 - lr: 2.0000e-04\n",
      "Epoch 11/100\n",
      "305/305 [==============================] - 8s 25ms/step - loss: 0.0585 - accuracy: 0.9798 - recall_3: 0.9796 - precision_3: 0.9802 - val_loss: 0.3689 - val_accuracy: 0.8883 - val_recall_3: 0.8875 - val_precision_3: 0.8890 - lr: 2.0000e-04\n",
      "Epoch 12/100\n",
      "305/305 [==============================] - 8s 25ms/step - loss: 0.0510 - accuracy: 0.9827 - recall_3: 0.9825 - precision_3: 0.9834 - val_loss: 0.3694 - val_accuracy: 0.8842 - val_recall_3: 0.8818 - val_precision_3: 0.8854 - lr: 4.0000e-05\n",
      "Epoch 13/100\n",
      "305/305 [==============================] - 8s 25ms/step - loss: 0.0506 - accuracy: 0.9821 - recall_3: 0.9818 - precision_3: 0.9825 - val_loss: 0.3734 - val_accuracy: 0.8826 - val_recall_3: 0.8826 - val_precision_3: 0.8848 - lr: 4.0000e-05\n",
      "Epoch 14/100\n",
      "305/305 [==============================] - 8s 25ms/step - loss: 0.0469 - accuracy: 0.9841 - recall_3: 0.9838 - precision_3: 0.9843 - val_loss: 0.3716 - val_accuracy: 0.8842 - val_recall_3: 0.8826 - val_precision_3: 0.8862 - lr: 4.0000e-05\n",
      "Epoch 15/100\n",
      "305/305 [==============================] - 8s 26ms/step - loss: 0.0478 - accuracy: 0.9834 - recall_3: 0.9832 - precision_3: 0.9839 - val_loss: 0.3747 - val_accuracy: 0.8908 - val_recall_3: 0.8883 - val_precision_3: 0.8905 - lr: 8.0000e-06\n",
      "Epoch 16/100\n",
      "305/305 [==============================] - 8s 25ms/step - loss: 0.0487 - accuracy: 0.9844 - recall_3: 0.9840 - precision_3: 0.9845 - val_loss: 0.3727 - val_accuracy: 0.8842 - val_recall_3: 0.8826 - val_precision_3: 0.8870 - lr: 8.0000e-06\n",
      "Epoch 17/100\n",
      "305/305 [==============================] - 8s 26ms/step - loss: 0.0487 - accuracy: 0.9830 - recall_3: 0.9829 - precision_3: 0.9834 - val_loss: 0.3742 - val_accuracy: 0.8916 - val_recall_3: 0.8883 - val_precision_3: 0.8920 - lr: 8.0000e-06\n",
      "Epoch 18/100\n",
      "305/305 [==============================] - 8s 25ms/step - loss: 0.0483 - accuracy: 0.9841 - recall_3: 0.9838 - precision_3: 0.9843 - val_loss: 0.3734 - val_accuracy: 0.8892 - val_recall_3: 0.8859 - val_precision_3: 0.8903 - lr: 1.6000e-06\n",
      "Epoch 19/100\n",
      "305/305 [==============================] - 8s 25ms/step - loss: 0.0481 - accuracy: 0.9845 - recall_3: 0.9844 - precision_3: 0.9846 - val_loss: 0.3733 - val_accuracy: 0.8842 - val_recall_3: 0.8826 - val_precision_3: 0.8870 - lr: 1.6000e-06\n",
      "Epoch 20/100\n",
      "305/305 [==============================] - 8s 25ms/step - loss: 0.0470 - accuracy: 0.9853 - recall_3: 0.9853 - precision_3: 0.9855 - val_loss: 0.3733 - val_accuracy: 0.8883 - val_recall_3: 0.8859 - val_precision_3: 0.8903 - lr: 1.6000e-06\n",
      "Epoch 21/100\n",
      "305/305 [==============================] - 8s 25ms/step - loss: 0.0454 - accuracy: 0.9846 - recall_3: 0.9844 - precision_3: 0.9848 - val_loss: 0.3734 - val_accuracy: 0.8883 - val_recall_3: 0.8859 - val_precision_3: 0.8903 - lr: 5.0000e-07\n",
      "Epoch 22/100\n",
      "305/305 [==============================] - 8s 25ms/step - loss: 0.0477 - accuracy: 0.9832 - recall_3: 0.9829 - precision_3: 0.9833 - val_loss: 0.3734 - val_accuracy: 0.8883 - val_recall_3: 0.8859 - val_precision_3: 0.8903 - lr: 5.0000e-07\n",
      "Epoch 23/100\n",
      "305/305 [==============================] - 8s 25ms/step - loss: 0.0481 - accuracy: 0.9852 - recall_3: 0.9850 - precision_3: 0.9854 - val_loss: 0.3734 - val_accuracy: 0.8867 - val_recall_3: 0.8851 - val_precision_3: 0.8894 - lr: 5.0000e-07\n",
      "Epoch 24/100\n",
      "305/305 [==============================] - 8s 25ms/step - loss: 0.0486 - accuracy: 0.9836 - recall_3: 0.9833 - precision_3: 0.9837 - val_loss: 0.3735 - val_accuracy: 0.8867 - val_recall_3: 0.8851 - val_precision_3: 0.8894 - lr: 5.0000e-07\n",
      "Epoch 25/100\n",
      "305/305 [==============================] - 8s 25ms/step - loss: 0.0467 - accuracy: 0.9837 - recall_3: 0.9837 - precision_3: 0.9837 - val_loss: 0.3735 - val_accuracy: 0.8875 - val_recall_3: 0.8859 - val_precision_3: 0.8903 - lr: 5.0000e-07\n",
      "Epoch 26/100\n",
      "305/305 [==============================] - 8s 25ms/step - loss: 0.0474 - accuracy: 0.9841 - recall_3: 0.9839 - precision_3: 0.9843 - val_loss: 0.3735 - val_accuracy: 0.8883 - val_recall_3: 0.8859 - val_precision_3: 0.8903 - lr: 5.0000e-07\n",
      "Epoch 27/100\n",
      "305/305 [==============================] - 8s 25ms/step - loss: 0.0478 - accuracy: 0.9842 - recall_3: 0.9840 - precision_3: 0.9846 - val_loss: 0.3736 - val_accuracy: 0.8875 - val_recall_3: 0.8859 - val_precision_3: 0.8903 - lr: 5.0000e-07\n",
      "Epoch 28/100\n",
      "305/305 [==============================] - 8s 25ms/step - loss: 0.0463 - accuracy: 0.9844 - recall_3: 0.9843 - precision_3: 0.9845 - val_loss: 0.3735 - val_accuracy: 0.8867 - val_recall_3: 0.8851 - val_precision_3: 0.8894 - lr: 5.0000e-07\n",
      "Epoch 29/100\n",
      "305/305 [==============================] - 8s 25ms/step - loss: 0.0469 - accuracy: 0.9832 - recall_3: 0.9830 - precision_3: 0.9834 - val_loss: 0.3736 - val_accuracy: 0.8875 - val_recall_3: 0.8859 - val_precision_3: 0.8903 - lr: 5.0000e-07\n",
      "Epoch 30/100\n",
      "305/305 [==============================] - 8s 25ms/step - loss: 0.0472 - accuracy: 0.9842 - recall_3: 0.9841 - precision_3: 0.9844 - val_loss: 0.3736 - val_accuracy: 0.8867 - val_recall_3: 0.8859 - val_precision_3: 0.8895 - lr: 5.0000e-07\n",
      "Epoch 31/100\n",
      "305/305 [==============================] - 8s 25ms/step - loss: 0.0467 - accuracy: 0.9849 - recall_3: 0.9848 - precision_3: 0.9850 - val_loss: 0.3737 - val_accuracy: 0.8883 - val_recall_3: 0.8859 - val_precision_3: 0.8903 - lr: 5.0000e-07\n",
      "Epoch 32/100\n",
      "305/305 [==============================] - 8s 25ms/step - loss: 0.0466 - accuracy: 0.9854 - recall_3: 0.9851 - precision_3: 0.9854 - val_loss: 0.3738 - val_accuracy: 0.8875 - val_recall_3: 0.8859 - val_precision_3: 0.8903 - lr: 5.0000e-07\n",
      "Epoch 33/100\n",
      "305/305 [==============================] - 8s 25ms/step - loss: 0.0459 - accuracy: 0.9859 - recall_3: 0.9857 - precision_3: 0.9860 - val_loss: 0.3739 - val_accuracy: 0.8867 - val_recall_3: 0.8851 - val_precision_3: 0.8902 - lr: 5.0000e-07\n"
     ]
    },
    {
     "name": "stdout",
     "output_type": "stream",
     "text": [
      "Epoch 34/100\n",
      "305/305 [==============================] - 8s 25ms/step - loss: 0.0477 - accuracy: 0.9852 - recall_3: 0.9850 - precision_3: 0.9854 - val_loss: 0.3737 - val_accuracy: 0.8867 - val_recall_3: 0.8834 - val_precision_3: 0.8885 - lr: 5.0000e-07\n",
      "Epoch 35/100\n",
      "305/305 [==============================] - 8s 27ms/step - loss: 0.0473 - accuracy: 0.9842 - recall_3: 0.9839 - precision_3: 0.9843 - val_loss: 0.3738 - val_accuracy: 0.8867 - val_recall_3: 0.8851 - val_precision_3: 0.8894 - lr: 5.0000e-07\n",
      "Epoch 36/100\n",
      "305/305 [==============================] - 8s 25ms/step - loss: 0.0461 - accuracy: 0.9848 - recall_3: 0.9845 - precision_3: 0.9850 - val_loss: 0.3738 - val_accuracy: 0.8859 - val_recall_3: 0.8834 - val_precision_3: 0.8878 - lr: 5.0000e-07\n",
      "Epoch 37/100\n",
      "305/305 [==============================] - 7s 24ms/step - loss: 0.0474 - accuracy: 0.9841 - recall_3: 0.9839 - precision_3: 0.9842 - val_loss: 0.3739 - val_accuracy: 0.8867 - val_recall_3: 0.8859 - val_precision_3: 0.8895 - lr: 5.0000e-07\n",
      "Epoch 38/100\n",
      "305/305 [==============================] - 7s 24ms/step - loss: 0.0466 - accuracy: 0.9850 - recall_3: 0.9847 - precision_3: 0.9851 - val_loss: 0.3740 - val_accuracy: 0.8859 - val_recall_3: 0.8842 - val_precision_3: 0.8886 - lr: 5.0000e-07\n",
      "Epoch 39/100\n",
      "305/305 [==============================] - 8s 25ms/step - loss: 0.0474 - accuracy: 0.9844 - recall_3: 0.9842 - precision_3: 0.9846 - val_loss: 0.3739 - val_accuracy: 0.8867 - val_recall_3: 0.8842 - val_precision_3: 0.8886 - lr: 5.0000e-07\n",
      "Epoch 40/100\n",
      "305/305 [==============================] - 7s 24ms/step - loss: 0.0459 - accuracy: 0.9847 - recall_3: 0.9845 - precision_3: 0.9849 - val_loss: 0.3739 - val_accuracy: 0.8883 - val_recall_3: 0.8859 - val_precision_3: 0.8895 - lr: 5.0000e-07\n",
      "Epoch 41/100\n",
      "305/305 [==============================] - 7s 24ms/step - loss: 0.0469 - accuracy: 0.9837 - recall_3: 0.9836 - precision_3: 0.9839 - val_loss: 0.3740 - val_accuracy: 0.8867 - val_recall_3: 0.8859 - val_precision_3: 0.8895 - lr: 5.0000e-07\n",
      "Epoch 42/100\n",
      "305/305 [==============================] - 7s 24ms/step - loss: 0.0469 - accuracy: 0.9844 - recall_3: 0.9842 - precision_3: 0.9847 - val_loss: 0.3741 - val_accuracy: 0.8875 - val_recall_3: 0.8859 - val_precision_3: 0.8903 - lr: 5.0000e-07\n",
      "Epoch 43/100\n",
      "305/305 [==============================] - 8s 25ms/step - loss: 0.0463 - accuracy: 0.9851 - recall_3: 0.9849 - precision_3: 0.9854 - val_loss: 0.3741 - val_accuracy: 0.8867 - val_recall_3: 0.8851 - val_precision_3: 0.8894 - lr: 5.0000e-07\n",
      "Epoch 44/100\n",
      "305/305 [==============================] - 7s 24ms/step - loss: 0.0469 - accuracy: 0.9837 - recall_3: 0.9837 - precision_3: 0.9840 - val_loss: 0.3742 - val_accuracy: 0.8883 - val_recall_3: 0.8859 - val_precision_3: 0.8903 - lr: 5.0000e-07\n",
      "Epoch 45/100\n",
      "305/305 [==============================] - 8s 25ms/step - loss: 0.0480 - accuracy: 0.9855 - recall_3: 0.9853 - precision_3: 0.9855 - val_loss: 0.3742 - val_accuracy: 0.8859 - val_recall_3: 0.8842 - val_precision_3: 0.8886 - lr: 5.0000e-07\n",
      "Epoch 46/100\n",
      "305/305 [==============================] - 7s 24ms/step - loss: 0.0482 - accuracy: 0.9834 - recall_3: 0.9832 - precision_3: 0.9837 - val_loss: 0.3742 - val_accuracy: 0.8875 - val_recall_3: 0.8859 - val_precision_3: 0.8895 - lr: 5.0000e-07\n",
      "Epoch 47/100\n",
      "305/305 [==============================] - 7s 25ms/step - loss: 0.0468 - accuracy: 0.9849 - recall_3: 0.9848 - precision_3: 0.9852 - val_loss: 0.3744 - val_accuracy: 0.8875 - val_recall_3: 0.8859 - val_precision_3: 0.8903 - lr: 5.0000e-07\n",
      "Epoch 48/100\n",
      "305/305 [==============================] - 8s 25ms/step - loss: 0.0467 - accuracy: 0.9845 - recall_3: 0.9841 - precision_3: 0.9848 - val_loss: 0.3743 - val_accuracy: 0.8883 - val_recall_3: 0.8859 - val_precision_3: 0.8903 - lr: 5.0000e-07\n",
      "Epoch 49/100\n",
      "305/305 [==============================] - 7s 25ms/step - loss: 0.0466 - accuracy: 0.9848 - recall_3: 0.9846 - precision_3: 0.9849 - val_loss: 0.3742 - val_accuracy: 0.8875 - val_recall_3: 0.8859 - val_precision_3: 0.8895 - lr: 5.0000e-07\n",
      "Epoch 50/100\n",
      "305/305 [==============================] - 8s 26ms/step - loss: 0.0468 - accuracy: 0.9843 - recall_3: 0.9839 - precision_3: 0.9843 - val_loss: 0.3743 - val_accuracy: 0.8883 - val_recall_3: 0.8859 - val_precision_3: 0.8895 - lr: 5.0000e-07\n",
      "Epoch 51/100\n",
      "305/305 [==============================] - 8s 25ms/step - loss: 0.0464 - accuracy: 0.9842 - recall_3: 0.9841 - precision_3: 0.9844 - val_loss: 0.3744 - val_accuracy: 0.8892 - val_recall_3: 0.8867 - val_precision_3: 0.8911 - lr: 5.0000e-07\n",
      "Epoch 52/100\n",
      "305/305 [==============================] - 8s 25ms/step - loss: 0.0454 - accuracy: 0.9852 - recall_3: 0.9850 - precision_3: 0.9853 - val_loss: 0.3744 - val_accuracy: 0.8892 - val_recall_3: 0.8867 - val_precision_3: 0.8911 - lr: 5.0000e-07\n",
      "Epoch 53/100\n",
      "305/305 [==============================] - 8s 25ms/step - loss: 0.0469 - accuracy: 0.9854 - recall_3: 0.9854 - precision_3: 0.9858 - val_loss: 0.3744 - val_accuracy: 0.8859 - val_recall_3: 0.8851 - val_precision_3: 0.8887 - lr: 5.0000e-07\n",
      "Epoch 54/100\n",
      "305/305 [==============================] - 8s 25ms/step - loss: 0.0469 - accuracy: 0.9849 - recall_3: 0.9847 - precision_3: 0.9851 - val_loss: 0.3746 - val_accuracy: 0.8859 - val_recall_3: 0.8842 - val_precision_3: 0.8886 - lr: 5.0000e-07\n",
      "Epoch 55/100\n",
      "305/305 [==============================] - 8s 25ms/step - loss: 0.0480 - accuracy: 0.9848 - recall_3: 0.9843 - precision_3: 0.9850 - val_loss: 0.3746 - val_accuracy: 0.8859 - val_recall_3: 0.8842 - val_precision_3: 0.8886 - lr: 5.0000e-07\n",
      "Epoch 56/100\n",
      "305/305 [==============================] - 8s 26ms/step - loss: 0.0470 - accuracy: 0.9849 - recall_3: 0.9848 - precision_3: 0.9850 - val_loss: 0.3747 - val_accuracy: 0.8867 - val_recall_3: 0.8859 - val_precision_3: 0.8903 - lr: 5.0000e-07\n",
      "Epoch 57/100\n",
      "305/305 [==============================] - 8s 26ms/step - loss: 0.0451 - accuracy: 0.9852 - recall_3: 0.9850 - precision_3: 0.9854 - val_loss: 0.3747 - val_accuracy: 0.8875 - val_recall_3: 0.8859 - val_precision_3: 0.8903 - lr: 5.0000e-07\n",
      "Epoch 58/100\n",
      "305/305 [==============================] - 8s 25ms/step - loss: 0.0473 - accuracy: 0.9841 - recall_3: 0.9839 - precision_3: 0.9842 - val_loss: 0.3748 - val_accuracy: 0.8892 - val_recall_3: 0.8867 - val_precision_3: 0.8911 - lr: 5.0000e-07\n",
      "Epoch 59/100\n",
      "305/305 [==============================] - 8s 25ms/step - loss: 0.0485 - accuracy: 0.9846 - recall_3: 0.9845 - precision_3: 0.9848 - val_loss: 0.3747 - val_accuracy: 0.8875 - val_recall_3: 0.8859 - val_precision_3: 0.8903 - lr: 5.0000e-07\n",
      "Epoch 60/100\n",
      "305/305 [==============================] - 8s 25ms/step - loss: 0.0489 - accuracy: 0.9834 - recall_3: 0.9833 - precision_3: 0.9834 - val_loss: 0.3747 - val_accuracy: 0.8867 - val_recall_3: 0.8859 - val_precision_3: 0.8895 - lr: 5.0000e-07\n",
      "Epoch 61/100\n",
      "305/305 [==============================] - 8s 25ms/step - loss: 0.0483 - accuracy: 0.9836 - recall_3: 0.9835 - precision_3: 0.9841 - val_loss: 0.3747 - val_accuracy: 0.8859 - val_recall_3: 0.8842 - val_precision_3: 0.8886 - lr: 5.0000e-07\n",
      "Epoch 62/100\n",
      "305/305 [==============================] - 8s 25ms/step - loss: 0.0462 - accuracy: 0.9841 - recall_3: 0.9838 - precision_3: 0.9846 - val_loss: 0.3748 - val_accuracy: 0.8859 - val_recall_3: 0.8842 - val_precision_3: 0.8886 - lr: 5.0000e-07\n",
      "Epoch 63/100\n",
      "305/305 [==============================] - 8s 25ms/step - loss: 0.0458 - accuracy: 0.9841 - recall_3: 0.9840 - precision_3: 0.9847 - val_loss: 0.3747 - val_accuracy: 0.8859 - val_recall_3: 0.8842 - val_precision_3: 0.8886 - lr: 5.0000e-07\n",
      "Epoch 64/100\n",
      "305/305 [==============================] - 8s 25ms/step - loss: 0.0478 - accuracy: 0.9846 - recall_3: 0.9844 - precision_3: 0.9848 - val_loss: 0.3748 - val_accuracy: 0.8875 - val_recall_3: 0.8859 - val_precision_3: 0.8895 - lr: 5.0000e-07\n",
      "Epoch 65/100\n",
      "305/305 [==============================] - 8s 25ms/step - loss: 0.0462 - accuracy: 0.9847 - recall_3: 0.9845 - precision_3: 0.9849 - val_loss: 0.3747 - val_accuracy: 0.8875 - val_recall_3: 0.8859 - val_precision_3: 0.8895 - lr: 5.0000e-07\n",
      "Epoch 66/100\n",
      "305/305 [==============================] - 8s 25ms/step - loss: 0.0453 - accuracy: 0.9846 - recall_3: 0.9845 - precision_3: 0.9846 - val_loss: 0.3748 - val_accuracy: 0.8859 - val_recall_3: 0.8851 - val_precision_3: 0.8887 - lr: 5.0000e-07\n",
      "Epoch 67/100\n",
      "305/305 [==============================] - 8s 25ms/step - loss: 0.0468 - accuracy: 0.9847 - recall_3: 0.9846 - precision_3: 0.9848 - val_loss: 0.3749 - val_accuracy: 0.8859 - val_recall_3: 0.8842 - val_precision_3: 0.8886 - lr: 5.0000e-07\n",
      "Epoch 68/100\n",
      "305/305 [==============================] - 8s 25ms/step - loss: 0.0451 - accuracy: 0.9851 - recall_3: 0.9848 - precision_3: 0.9853 - val_loss: 0.3749 - val_accuracy: 0.8859 - val_recall_3: 0.8842 - val_precision_3: 0.8886 - lr: 5.0000e-07\n",
      "Epoch 69/100\n",
      "305/305 [==============================] - 8s 25ms/step - loss: 0.0459 - accuracy: 0.9841 - recall_3: 0.9840 - precision_3: 0.9841 - val_loss: 0.3750 - val_accuracy: 0.8859 - val_recall_3: 0.8851 - val_precision_3: 0.8887 - lr: 5.0000e-07\n",
      "Epoch 70/100\n",
      "305/305 [==============================] - 8s 27ms/step - loss: 0.0463 - accuracy: 0.9843 - recall_3: 0.9843 - precision_3: 0.9845 - val_loss: 0.3750 - val_accuracy: 0.8842 - val_recall_3: 0.8826 - val_precision_3: 0.8877 - lr: 5.0000e-07\n",
      "Epoch 71/100\n",
      "305/305 [==============================] - 8s 26ms/step - loss: 0.0467 - accuracy: 0.9850 - recall_3: 0.9847 - precision_3: 0.9852 - val_loss: 0.3751 - val_accuracy: 0.8867 - val_recall_3: 0.8851 - val_precision_3: 0.8894 - lr: 5.0000e-07\n",
      "Epoch 72/100\n",
      "305/305 [==============================] - 8s 25ms/step - loss: 0.0453 - accuracy: 0.9857 - recall_3: 0.9856 - precision_3: 0.9858 - val_loss: 0.3752 - val_accuracy: 0.8859 - val_recall_3: 0.8851 - val_precision_3: 0.8894 - lr: 5.0000e-07\n",
      "Epoch 73/100\n",
      "305/305 [==============================] - 8s 25ms/step - loss: 0.0484 - accuracy: 0.9833 - recall_3: 0.9832 - precision_3: 0.9835 - val_loss: 0.3751 - val_accuracy: 0.8859 - val_recall_3: 0.8851 - val_precision_3: 0.8887 - lr: 5.0000e-07\n",
      "Epoch 74/100\n",
      "305/305 [==============================] - 8s 25ms/step - loss: 0.0465 - accuracy: 0.9854 - recall_3: 0.9849 - precision_3: 0.9857 - val_loss: 0.3752 - val_accuracy: 0.8859 - val_recall_3: 0.8851 - val_precision_3: 0.8887 - lr: 5.0000e-07\n",
      "Epoch 75/100\n",
      "305/305 [==============================] - 8s 25ms/step - loss: 0.0464 - accuracy: 0.9857 - recall_3: 0.9856 - precision_3: 0.9858 - val_loss: 0.3751 - val_accuracy: 0.8859 - val_recall_3: 0.8851 - val_precision_3: 0.8887 - lr: 5.0000e-07\n",
      "Epoch 76/100\n",
      "305/305 [==============================] - 8s 25ms/step - loss: 0.0464 - accuracy: 0.9844 - recall_3: 0.9843 - precision_3: 0.9846 - val_loss: 0.3752 - val_accuracy: 0.8842 - val_recall_3: 0.8826 - val_precision_3: 0.8870 - lr: 5.0000e-07\n",
      "Epoch 77/100\n",
      "305/305 [==============================] - 8s 25ms/step - loss: 0.0476 - accuracy: 0.9850 - recall_3: 0.9850 - precision_3: 0.9851 - val_loss: 0.3752 - val_accuracy: 0.8859 - val_recall_3: 0.8851 - val_precision_3: 0.8887 - lr: 5.0000e-07\n",
      "Epoch 78/100\n",
      "305/305 [==============================] - 8s 25ms/step - loss: 0.0473 - accuracy: 0.9850 - recall_3: 0.9849 - precision_3: 0.9853 - val_loss: 0.3752 - val_accuracy: 0.8859 - val_recall_3: 0.8851 - val_precision_3: 0.8887 - lr: 5.0000e-07\n",
      "Epoch 79/100\n",
      "305/305 [==============================] - 8s 25ms/step - loss: 0.0476 - accuracy: 0.9831 - recall_3: 0.9828 - precision_3: 0.9835 - val_loss: 0.3753 - val_accuracy: 0.8892 - val_recall_3: 0.8867 - val_precision_3: 0.8904 - lr: 5.0000e-07\n",
      "Epoch 80/100\n",
      "305/305 [==============================] - 8s 25ms/step - loss: 0.0451 - accuracy: 0.9859 - recall_3: 0.9858 - precision_3: 0.9860 - val_loss: 0.3753 - val_accuracy: 0.8892 - val_recall_3: 0.8867 - val_precision_3: 0.8904 - lr: 5.0000e-07\n",
      "Epoch 81/100\n",
      "305/305 [==============================] - 8s 25ms/step - loss: 0.0441 - accuracy: 0.9861 - recall_3: 0.9861 - precision_3: 0.9862 - val_loss: 0.3752 - val_accuracy: 0.8859 - val_recall_3: 0.8842 - val_precision_3: 0.8886 - lr: 5.0000e-07\n",
      "Epoch 82/100\n",
      "305/305 [==============================] - 8s 25ms/step - loss: 0.0467 - accuracy: 0.9848 - recall_3: 0.9847 - precision_3: 0.9849 - val_loss: 0.3753 - val_accuracy: 0.8859 - val_recall_3: 0.8842 - val_precision_3: 0.8886 - lr: 5.0000e-07\n",
      "Epoch 83/100\n",
      "305/305 [==============================] - 8s 25ms/step - loss: 0.0471 - accuracy: 0.9834 - recall_3: 0.9831 - precision_3: 0.9835 - val_loss: 0.3753 - val_accuracy: 0.8859 - val_recall_3: 0.8842 - val_precision_3: 0.8886 - lr: 5.0000e-07\n",
      "Epoch 84/100\n",
      "305/305 [==============================] - 8s 25ms/step - loss: 0.0452 - accuracy: 0.9848 - recall_3: 0.9847 - precision_3: 0.9849 - val_loss: 0.3754 - val_accuracy: 0.8851 - val_recall_3: 0.8826 - val_precision_3: 0.8877 - lr: 5.0000e-07\n",
      "Epoch 85/100\n",
      "305/305 [==============================] - 8s 25ms/step - loss: 0.0460 - accuracy: 0.9846 - recall_3: 0.9842 - precision_3: 0.9848 - val_loss: 0.3754 - val_accuracy: 0.8859 - val_recall_3: 0.8851 - val_precision_3: 0.8887 - lr: 5.0000e-07\n",
      "Epoch 86/100\n",
      "305/305 [==============================] - 8s 27ms/step - loss: 0.0453 - accuracy: 0.9859 - recall_3: 0.9859 - precision_3: 0.9863 - val_loss: 0.3755 - val_accuracy: 0.8875 - val_recall_3: 0.8851 - val_precision_3: 0.8887 - lr: 5.0000e-07\n",
      "Epoch 87/100\n",
      "305/305 [==============================] - 8s 25ms/step - loss: 0.0470 - accuracy: 0.9836 - recall_3: 0.9832 - precision_3: 0.9837 - val_loss: 0.3755 - val_accuracy: 0.8875 - val_recall_3: 0.8851 - val_precision_3: 0.8887 - lr: 5.0000e-07\n",
      "Epoch 88/100\n",
      "305/305 [==============================] - 8s 25ms/step - loss: 0.0479 - accuracy: 0.9842 - recall_3: 0.9839 - precision_3: 0.9842 - val_loss: 0.3755 - val_accuracy: 0.8859 - val_recall_3: 0.8851 - val_precision_3: 0.8887 - lr: 5.0000e-07\n",
      "Epoch 89/100\n",
      "305/305 [==============================] - 8s 25ms/step - loss: 0.0455 - accuracy: 0.9852 - recall_3: 0.9849 - precision_3: 0.9854 - val_loss: 0.3755 - val_accuracy: 0.8867 - val_recall_3: 0.8851 - val_precision_3: 0.8887 - lr: 5.0000e-07\n",
      "Epoch 90/100\n",
      "305/305 [==============================] - 8s 25ms/step - loss: 0.0455 - accuracy: 0.9834 - recall_3: 0.9832 - precision_3: 0.9837 - val_loss: 0.3755 - val_accuracy: 0.8875 - val_recall_3: 0.8851 - val_precision_3: 0.8887 - lr: 5.0000e-07\n",
      "Epoch 91/100\n",
      "305/305 [==============================] - 8s 25ms/step - loss: 0.0480 - accuracy: 0.9836 - recall_3: 0.9834 - precision_3: 0.9837 - val_loss: 0.3755 - val_accuracy: 0.8875 - val_recall_3: 0.8851 - val_precision_3: 0.8887 - lr: 5.0000e-07\n",
      "Epoch 92/100\n",
      "305/305 [==============================] - 8s 25ms/step - loss: 0.0465 - accuracy: 0.9843 - recall_3: 0.9842 - precision_3: 0.9846 - val_loss: 0.3756 - val_accuracy: 0.8859 - val_recall_3: 0.8851 - val_precision_3: 0.8887 - lr: 5.0000e-07\n",
      "Epoch 93/100\n",
      "305/305 [==============================] - 8s 25ms/step - loss: 0.0480 - accuracy: 0.9835 - recall_3: 0.9831 - precision_3: 0.9838 - val_loss: 0.3757 - val_accuracy: 0.8859 - val_recall_3: 0.8851 - val_precision_3: 0.8887 - lr: 5.0000e-07\n",
      "Epoch 94/100\n",
      "305/305 [==============================] - 8s 25ms/step - loss: 0.0452 - accuracy: 0.9853 - recall_3: 0.9850 - precision_3: 0.9855 - val_loss: 0.3757 - val_accuracy: 0.8875 - val_recall_3: 0.8851 - val_precision_3: 0.8887 - lr: 5.0000e-07\n",
      "Epoch 95/100\n",
      "305/305 [==============================] - 8s 25ms/step - loss: 0.0449 - accuracy: 0.9844 - recall_3: 0.9842 - precision_3: 0.9848 - val_loss: 0.3757 - val_accuracy: 0.8859 - val_recall_3: 0.8851 - val_precision_3: 0.8887 - lr: 5.0000e-07\n",
      "Epoch 96/100\n",
      "305/305 [==============================] - 8s 25ms/step - loss: 0.0456 - accuracy: 0.9852 - recall_3: 0.9849 - precision_3: 0.9852 - val_loss: 0.3759 - val_accuracy: 0.8875 - val_recall_3: 0.8851 - val_precision_3: 0.8887 - lr: 5.0000e-07\n",
      "Epoch 97/100\n",
      "305/305 [==============================] - 8s 25ms/step - loss: 0.0467 - accuracy: 0.9854 - recall_3: 0.9852 - precision_3: 0.9854 - val_loss: 0.3758 - val_accuracy: 0.8842 - val_recall_3: 0.8826 - val_precision_3: 0.8877 - lr: 5.0000e-07\n",
      "Epoch 98/100\n",
      "305/305 [==============================] - 8s 26ms/step - loss: 0.0471 - accuracy: 0.9844 - recall_3: 0.9841 - precision_3: 0.9848 - val_loss: 0.3759 - val_accuracy: 0.8842 - val_recall_3: 0.8826 - val_precision_3: 0.8870 - lr: 5.0000e-07\n"
     ]
    },
    {
     "name": "stdout",
     "output_type": "stream",
     "text": [
      "Epoch 99/100\n",
      "305/305 [==============================] - 7s 25ms/step - loss: 0.0455 - accuracy: 0.9851 - recall_3: 0.9846 - precision_3: 0.9852 - val_loss: 0.3759 - val_accuracy: 0.8834 - val_recall_3: 0.8826 - val_precision_3: 0.8870 - lr: 5.0000e-07\n",
      "Epoch 100/100\n",
      "305/305 [==============================] - 8s 25ms/step - loss: 0.0462 - accuracy: 0.9842 - recall_3: 0.9842 - precision_3: 0.9845 - val_loss: 0.3759 - val_accuracy: 0.8834 - val_recall_3: 0.8826 - val_precision_3: 0.8870 - lr: 5.0000e-07\n"
     ]
    }
   ],
   "source": [
    "history = modele1.fit(x_train_padded, y_train_encoded,  batch_size=32, validation_data=(x_validation_padded, y_validation_encoded), callbacks=callbacks,epochs=100,verbose=1)\n"
   ]
  },
  {
   "cell_type": "code",
   "execution_count": 57,
   "id": "7f161d55",
   "metadata": {},
   "outputs": [
    {
     "data": {
      "image/png": "[encoded data removed]",
      "text/plain": [
       "<Figure size 640x480 with 1 Axes>"
      ]
     },
     "metadata": {},
     "output_type": "display_data"
    }
   ],
   "source": [
    "\n",
    "import matplotlib.pyplot as plt\n",
    "plt.plot(history.history['loss'])\n",
    "plt.plot(history.history['val_loss'])\n",
    "plt.ylabel('model loss')\n",
    "plt.xlabel('epoch')\n",
    "plt.legend(['train', 'valid'], loc='best')\n",
    "plt.savefig('train_history.png')\n",
    "plt.show()"
   ]
  },
  {
   "cell_type": "code",
   "execution_count": 62,
   "id": "f6c34bfa",
   "metadata": {},
   "outputs": [
    {
     "data": {
      "image/png": "[encoded data removed]",
      "text/plain": [
       "<Figure size 640x480 with 1 Axes>"
      ]
     },
     "metadata": {},
     "output_type": "display_data"
    }
   ],
   "source": [
    "plt.plot(history.history['accuracy'])\n",
    "plt.plot(history.history['val_accuracy'])\n",
    "plt.ylabel('model accuracy')\n",
    "plt.xlabel('epoch')\n",
    "plt.legend(['train', 'valid'], loc='best')\n",
    "plt.savefig('train_accuracy_history.png')\n",
    "plt.show()"
   ]
  },
  {
   "cell_type": "code",
   "execution_count": 63,
   "id": "2292a2d2",
   "metadata": {},
   "outputs": [
    {
     "data": {
      "image/png": "[encoded data removed]",
      "text/plain": [
       "<Figure size 640x480 with 1 Axes>"
      ]
     },
     "metadata": {},
     "output_type": "display_data"
    }
   ],
   "source": [
    "plt.plot(history.history['recall_3'])\n",
    "plt.plot(history.history['val_recall_3'])\n",
    "plt.ylabel('model recall')\n",
    "plt.xlabel('epoch')\n",
    "plt.legend(['train', 'valid'], loc='best')\n",
    "plt.savefig('train_accuracy_history.png')\n",
    "plt.show()"
   ]
  },
  {
   "cell_type": "code",
   "execution_count": 64,
   "id": "e48c97b3",
   "metadata": {},
   "outputs": [
    {
     "data": {
      "image/png": "[encoded data removed]",
      "text/plain": [
       "<Figure size 640x480 with 1 Axes>"
      ]
     },
     "metadata": {},
     "output_type": "display_data"
    }
   ],
   "source": [
    "plt.plot(history.history['precision_3'])\n",
    "plt.plot(history.history['val_precision_3'])\n",
    "plt.ylabel('model precision')\n",
    "plt.xlabel('epoch')\n",
    "plt.legend(['train', 'valid'], loc='best')\n",
    "plt.savefig('train_accuracy_history.png')\n",
    "plt.show()"
   ]
  },
  {
   "cell_type": "code",
   "execution_count": 55,
   "id": "4306851f",
   "metadata": {},
   "outputs": [
    {
     "name": "stdout",
     "output_type": "stream",
     "text": [
      "39/39 [==============================] - 0s 4ms/step - loss: 0.3566 - accuracy: 0.8901 - recall_3: 0.8884 - precision_3: 0.8943\n"
     ]
    },
    {
     "data": {
      "text/plain": [
       "[0.3566017150878906, 0.890073835849762, 0.8884331583976746, 0.894302248954773]"
      ]
     },
     "execution_count": 55,
     "metadata": {},
     "output_type": "execute_result"
    }
   ],
   "source": [
    "modele1.evaluate(x_test_padded,y_test_encoded)"
   ]
  },
  {
   "cell_type": "code",
   "execution_count": null,
   "id": "324f3c9f",
   "metadata": {},
   "outputs": [],
   "source": []
  },
  {
   "cell_type": "code",
   "execution_count": null,
   "id": "accessible-matter",
   "metadata": {
    "ExecuteTime": {
     "end_time": "2021-05-12T08:56:29.279283Z",
     "start_time": "2021-05-11T08:47:04.927542Z"
    },
    "id": "accessible-matter"
   },
   "outputs": [],
   "source": [
    "history = modele1.fit(x_train_padded, y_train_encoded,  batch_size=16, validation_data=(x_validation_padded, y_validation_encoded), callbacks=callbacks,epochs=60,verbose=1)\n"
   ]
  },
  {
   "cell_type": "code",
   "execution_count": null,
   "id": "thrown-advertising",
   "metadata": {
    "ExecuteTime": {
     "end_time": "2021-05-25T08:58:00.648303Z",
     "start_time": "2021-05-25T08:57:59.682642Z"
    },
    "id": "thrown-advertising"
   },
   "outputs": [],
   "source": [
    "modele1.evaluate(x_test_padded,y_test_encoded)"
   ]
  },
  {
   "cell_type": "code",
   "execution_count": null,
   "id": "seven-anchor",
   "metadata": {
    "ExecuteTime": {
     "end_time": "2021-05-25T09:10:53.431741Z",
     "start_time": "2021-05-25T09:10:43.297866Z"
    },
    "id": "seven-anchor"
   },
   "outputs": [],
   "source": [
    "model= load_model(\"saved_models/Model_RNN_T_FastText_français_Amazon_24_05_2021_bis_newparam.003.h5\")\n",
    "\n",
    "history = model.fit(x_train_padded, y_train_encoded,  batch_size=128, validation_data=(x_validation_padded, y_validation_encoded), callbacks=callbacks,epochs=20,verbose=1)\n"
   ]
  },
  {
   "cell_type": "code",
   "execution_count": null,
   "id": "amended-sphere",
   "metadata": {
    "ExecuteTime": {
     "end_time": "2021-05-25T09:11:06.275425Z",
     "start_time": "2021-05-25T09:11:04.092483Z"
    },
    "id": "amended-sphere"
   },
   "outputs": [],
   "source": [
    "#oad saved model and test with new data\n",
    "model= load_model(\"saved_models/Model_RNN_T_FastText_français_Amazon_24_05_2021_bis_newparam.003.h5\")\n",
    "model.evaluate(x_test_padded,y_test_encoded)"
   ]
  },
  {
   "cell_type": "code",
   "execution_count": null,
   "id": "divided-routine",
   "metadata": {
    "ExecuteTime": {
     "end_time": "2021-05-12T09:05:50.641043Z",
     "start_time": "2021-05-12T09:03:54.247400Z"
    },
    "id": "divided-routine"
   },
   "outputs": [],
   "source": [
    "model= load_model(\"saved_models/Model_LSTM_T_FastText_français_Amazon_Twitt_11_05_2021_bin.002.h5\")\n",
    "model.evaluate(x_test_padded,y_test_encoded)"
   ]
  },
  {
   "cell_type": "code",
   "execution_count": null,
   "id": "painful-stone",
   "metadata": {
    "ExecuteTime": {
     "end_time": "2021-05-16T13:30:04.718395Z",
     "start_time": "2021-05-16T13:29:57.211098Z"
    },
    "id": "painful-stone"
   },
   "outputs": [],
   "source": [
    "model= load_model(\"saved_models/Model_LSTM_T_FastText_français_Amazon_Twitt_unbal_Amaz_Maj_16_05_2021_bin.003.h5\")\n",
    "model.evaluate(x_test_padded,y_test_encoded)"
   ]
  },
  {
   "cell_type": "code",
   "execution_count": null,
   "id": "vocational-drinking",
   "metadata": {
    "ExecuteTime": {
     "end_time": "2021-05-23T15:08:40.196812Z",
     "start_time": "2021-05-23T15:08:30.106139Z"
    },
    "id": "vocational-drinking"
   },
   "outputs": [],
   "source": [
    "model= load_model(\"saved_models/Model_LSTM_T_FastText_français_Amazon_23_05_2021_bin.008.h5\")\n",
    "model.evaluate(x_train_padded,y_train_encoded)"
   ]
  },
  {
   "cell_type": "code",
   "execution_count": null,
   "id": "decent-muscle",
   "metadata": {
    "ExecuteTime": {
     "end_time": "2021-05-23T15:11:12.373566Z",
     "start_time": "2021-05-23T15:11:05.793135Z"
    },
    "id": "decent-muscle"
   },
   "outputs": [],
   "source": [
    "model= load_model(\"saved_models/Model_LSTM_T_FastText_français_Amazon_23_05_2021_bin.003.h5\")\n",
    "model.evaluate(x_test_padded,y_test_encoded)"
   ]
  },
  {
   "cell_type": "code",
   "execution_count": null,
   "id": "elder-organization",
   "metadata": {
    "ExecuteTime": {
     "end_time": "2021-05-23T15:09:57.889387Z",
     "start_time": "2021-05-23T15:09:52.680118Z"
    },
    "id": "elder-organization"
   },
   "outputs": [],
   "source": [
    "model= load_model(\"saved_models/Model_LSTM_T_FastText_français_Amazon_23_05_2021_bin.002.h5\")\n",
    "modele1.evaluate(x_test_padded,y_test_encoded)"
   ]
  },
  {
   "cell_type": "code",
   "execution_count": null,
   "id": "alone-region",
   "metadata": {
    "id": "alone-region"
   },
   "outputs": [],
   "source": [
    "model= load_model(\"D:/RightInnov/saved_models/detect_dz.h5\")\n",
    "saved_model.save(model,\"D:/RightInnov/saved_models/savedformat\")"
   ]
  }
 ],
 "metadata": {
  "accelerator": "GPU",
  "colab": {
   "provenance": []
  },
  "gpuClass": "standard",
  "kernelspec": {
   "display_name": "tensorflow",
   "language": "python",
   "name": "tensorflow"
  },
  "language_info": {
   "codemirror_mode": {
    "name": "ipython",
    "version": 3
   },
   "file_extension": ".py",
   "mimetype": "text/x-python",
   "name": "python",
   "nbconvert_exporter": "python",
   "pygments_lexer": "ipython3",
   "version": "3.8.16"
  }
 },
 "nbformat": 4,
 "nbformat_minor": 5
}
