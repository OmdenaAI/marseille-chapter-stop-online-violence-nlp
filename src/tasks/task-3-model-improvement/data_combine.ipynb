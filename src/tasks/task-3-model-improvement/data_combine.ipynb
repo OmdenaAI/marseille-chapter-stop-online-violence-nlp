{
 "cells": [
  {
   "cell_type": "code",
   "execution_count": 1,
   "id": "d157d259",
   "metadata": {},
   "outputs": [],
   "source": [
    "import pandas as pd"
   ]
  },
  {
   "cell_type": "code",
   "execution_count": 2,
   "id": "479451ee",
   "metadata": {},
   "outputs": [
    {
     "data": {
      "text/plain": [
       "'D:\\\\Divya\\\\Job\\\\Volunteering\\\\Omdena_Projects\\\\marseille-chapter-stop-online-violence-nlp\\\\src\\\\tasks\\\\task-3-model-improvement'"
      ]
     },
     "execution_count": 2,
     "metadata": {},
     "output_type": "execute_result"
    }
   ],
   "source": [
    "%pwd"
   ]
  },
  {
   "cell_type": "code",
   "execution_count": 6,
   "id": "dac0cefc",
   "metadata": {},
   "outputs": [
    {
     "name": "stdout",
     "output_type": "stream",
     "text": [
      "D:\\Divya\\Job\\Volunteering\\Omdena_Projects\\marseille-chapter-stop-online-violence-nlp\\src\n"
     ]
    }
   ],
   "source": [
    "%cd .."
   ]
  },
  {
   "cell_type": "code",
   "execution_count": 7,
   "id": "f031e354",
   "metadata": {},
   "outputs": [],
   "source": [
    "df1 = pd.read_csv('data\\\\annotated_data\\\\Instagram_Annotated\\\\Posts containing hate _ instagram - Sheet1.csv')"
   ]
  },
  {
   "cell_type": "code",
   "execution_count": 8,
   "id": "70dbc80c",
   "metadata": {},
   "outputs": [
    {
     "data": {
      "text/html": [
       "<div>\n",
       "<style scoped>\n",
       "    .dataframe tbody tr th:only-of-type {\n",
       "        vertical-align: middle;\n",
       "    }\n",
       "\n",
       "    .dataframe tbody tr th {\n",
       "        vertical-align: top;\n",
       "    }\n",
       "\n",
       "    .dataframe thead th {\n",
       "        text-align: right;\n",
       "    }\n",
       "</style>\n",
       "<table border=\"1\" class=\"dataframe\">\n",
       "  <thead>\n",
       "    <tr style=\"text-align: right;\">\n",
       "      <th></th>\n",
       "      <th>Post</th>\n",
       "      <th>Type</th>\n",
       "      <th>Sentence</th>\n",
       "      <th>Label</th>\n",
       "    </tr>\n",
       "  </thead>\n",
       "  <tbody>\n",
       "    <tr>\n",
       "      <th>0</th>\n",
       "      <td>https://www.instagram.com/p/CghWkneD4dZ/</td>\n",
       "      <td>Comment</td>\n",
       "      <td>Dès les premières pages, on peut constater un ...</td>\n",
       "      <td>None</td>\n",
       "    </tr>\n",
       "    <tr>\n",
       "      <th>1</th>\n",
       "      <td>https://www.instagram.com/p/CghWkneD4dZ/</td>\n",
       "      <td>Reply</td>\n",
       "      <td>@maxvandewiele penser qu’il y a trop d’immigré...</td>\n",
       "      <td>None</td>\n",
       "    </tr>\n",
       "    <tr>\n",
       "      <th>2</th>\n",
       "      <td>https://www.instagram.com/p/CghWkneD4dZ/</td>\n",
       "      <td>Reply</td>\n",
       "      <td>@dv.antoine c'est magnifique ce que tu dis par...</td>\n",
       "      <td>Bullying</td>\n",
       "    </tr>\n",
       "    <tr>\n",
       "      <th>3</th>\n",
       "      <td>https://www.instagram.com/p/CghWkneD4dZ/</td>\n",
       "      <td>Reply</td>\n",
       "      <td>@maxvandewiele en quoi?</td>\n",
       "      <td>None</td>\n",
       "    </tr>\n",
       "    <tr>\n",
       "      <th>4</th>\n",
       "      <td>https://www.instagram.com/p/CghWkneD4dZ/</td>\n",
       "      <td>Reply</td>\n",
       "      <td>@dv.antoine content que tu pose la question : ...</td>\n",
       "      <td>None</td>\n",
       "    </tr>\n",
       "  </tbody>\n",
       "</table>\n",
       "</div>"
      ],
      "text/plain": [
       "                                       Post     Type  \\\n",
       "0  https://www.instagram.com/p/CghWkneD4dZ/  Comment   \n",
       "1  https://www.instagram.com/p/CghWkneD4dZ/    Reply   \n",
       "2  https://www.instagram.com/p/CghWkneD4dZ/    Reply   \n",
       "3  https://www.instagram.com/p/CghWkneD4dZ/    Reply   \n",
       "4  https://www.instagram.com/p/CghWkneD4dZ/    Reply   \n",
       "\n",
       "                                            Sentence     Label  \n",
       "0  Dès les premières pages, on peut constater un ...      None  \n",
       "1  @maxvandewiele penser qu’il y a trop d’immigré...      None  \n",
       "2  @dv.antoine c'est magnifique ce que tu dis par...  Bullying  \n",
       "3                            @maxvandewiele en quoi?      None  \n",
       "4  @dv.antoine content que tu pose la question : ...      None  "
      ]
     },
     "execution_count": 8,
     "metadata": {},
     "output_type": "execute_result"
    }
   ],
   "source": [
    "df1.head()"
   ]
  },
  {
   "cell_type": "code",
   "execution_count": 9,
   "id": "f21f85d3",
   "metadata": {},
   "outputs": [],
   "source": [
    "# drop unnecessary columns and rename the columns\n",
    "df1.drop(columns=['Post', 'Type'], inplace = True)\n",
    "df1.rename(columns = {'Sentence':'text','Label':'label'}, inplace = True)"
   ]
  },
  {
   "cell_type": "code",
   "execution_count": 10,
   "id": "df4478cf",
   "metadata": {},
   "outputs": [
    {
     "data": {
      "text/plain": [
       "(283, 2)"
      ]
     },
     "execution_count": 10,
     "metadata": {},
     "output_type": "execute_result"
    }
   ],
   "source": [
    "df1.shape"
   ]
  },
  {
   "cell_type": "code",
   "execution_count": 11,
   "id": "d5e622a3",
   "metadata": {},
   "outputs": [
    {
     "data": {
      "text/plain": [
       "None           121\n",
       "Bullying       119\n",
       "Hate Speech     31\n",
       "Sexism           8\n",
       "Racism           3\n",
       "Homophobia       1\n",
       "Name: label, dtype: int64"
      ]
     },
     "execution_count": 11,
     "metadata": {},
     "output_type": "execute_result"
    }
   ],
   "source": [
    "df1['label'].value_counts()"
   ]
  },
  {
   "cell_type": "code",
   "execution_count": 16,
   "id": "724595dc",
   "metadata": {},
   "outputs": [],
   "source": [
    "# replace all upper case letters to lower case in label column\n",
    "df1 = df1.replace({'label':{'Hate Speech': 'hate_speech', 'None':'none', 'Bullying':'bullying',\n",
    "                           'Sexism':'sexism', 'Racism':'racism', 'Homophobia':'homophobia'}})"
   ]
  },
  {
   "cell_type": "code",
   "execution_count": 17,
   "id": "a7e64c80",
   "metadata": {},
   "outputs": [
    {
     "data": {
      "text/html": [
       "<div>\n",
       "<style scoped>\n",
       "    .dataframe tbody tr th:only-of-type {\n",
       "        vertical-align: middle;\n",
       "    }\n",
       "\n",
       "    .dataframe tbody tr th {\n",
       "        vertical-align: top;\n",
       "    }\n",
       "\n",
       "    .dataframe thead th {\n",
       "        text-align: right;\n",
       "    }\n",
       "</style>\n",
       "<table border=\"1\" class=\"dataframe\">\n",
       "  <thead>\n",
       "    <tr style=\"text-align: right;\">\n",
       "      <th></th>\n",
       "      <th>text</th>\n",
       "      <th>label</th>\n",
       "    </tr>\n",
       "  </thead>\n",
       "  <tbody>\n",
       "    <tr>\n",
       "      <th>0</th>\n",
       "      <td>Dès les premières pages, on peut constater un ...</td>\n",
       "      <td>none</td>\n",
       "    </tr>\n",
       "    <tr>\n",
       "      <th>1</th>\n",
       "      <td>@maxvandewiele penser qu’il y a trop d’immigré...</td>\n",
       "      <td>none</td>\n",
       "    </tr>\n",
       "    <tr>\n",
       "      <th>2</th>\n",
       "      <td>@dv.antoine c'est magnifique ce que tu dis par...</td>\n",
       "      <td>bullying</td>\n",
       "    </tr>\n",
       "    <tr>\n",
       "      <th>3</th>\n",
       "      <td>@maxvandewiele en quoi?</td>\n",
       "      <td>none</td>\n",
       "    </tr>\n",
       "    <tr>\n",
       "      <th>4</th>\n",
       "      <td>@dv.antoine content que tu pose la question : ...</td>\n",
       "      <td>none</td>\n",
       "    </tr>\n",
       "  </tbody>\n",
       "</table>\n",
       "</div>"
      ],
      "text/plain": [
       "                                                text     label\n",
       "0  Dès les premières pages, on peut constater un ...      none\n",
       "1  @maxvandewiele penser qu’il y a trop d’immigré...      none\n",
       "2  @dv.antoine c'est magnifique ce que tu dis par...  bullying\n",
       "3                            @maxvandewiele en quoi?      none\n",
       "4  @dv.antoine content que tu pose la question : ...      none"
      ]
     },
     "execution_count": 17,
     "metadata": {},
     "output_type": "execute_result"
    }
   ],
   "source": [
    "df1.head()"
   ]
  },
  {
   "cell_type": "code",
   "execution_count": 18,
   "id": "b4ff55e9",
   "metadata": {},
   "outputs": [
    {
     "data": {
      "text/plain": [
       "none           121\n",
       "bullying       119\n",
       "hate_speech     31\n",
       "sexism           8\n",
       "racism           3\n",
       "homophobia       1\n",
       "Name: label, dtype: int64"
      ]
     },
     "execution_count": 18,
     "metadata": {},
     "output_type": "execute_result"
    }
   ],
   "source": [
    "df1['label'].value_counts()"
   ]
  },
  {
   "cell_type": "code",
   "execution_count": 19,
   "id": "baf3191a",
   "metadata": {},
   "outputs": [],
   "source": [
    "df2 = pd.read_csv('data\\\\annotated_data\\\\Twitter_Annotated\\\\labeled_tweet_data_chukwudi.csv')"
   ]
  },
  {
   "cell_type": "code",
   "execution_count": 20,
   "id": "e753f0ac",
   "metadata": {},
   "outputs": [
    {
     "data": {
      "text/html": [
       "<div>\n",
       "<style scoped>\n",
       "    .dataframe tbody tr th:only-of-type {\n",
       "        vertical-align: middle;\n",
       "    }\n",
       "\n",
       "    .dataframe tbody tr th {\n",
       "        vertical-align: top;\n",
       "    }\n",
       "\n",
       "    .dataframe thead th {\n",
       "        text-align: right;\n",
       "    }\n",
       "</style>\n",
       "<table border=\"1\" class=\"dataframe\">\n",
       "  <thead>\n",
       "    <tr style=\"text-align: right;\">\n",
       "      <th></th>\n",
       "      <th>Unnamed: 0</th>\n",
       "      <th>Line</th>\n",
       "      <th>created_at</th>\n",
       "      <th>user_id</th>\n",
       "      <th>text</th>\n",
       "      <th>merged_labels</th>\n",
       "    </tr>\n",
       "  </thead>\n",
       "  <tbody>\n",
       "    <tr>\n",
       "      <th>0</th>\n",
       "      <td>0</td>\n",
       "      <td>3631</td>\n",
       "      <td>Sun Dec 18 08:54:57 +0000 2022</td>\n",
       "      <td>3778501</td>\n",
       "      <td>RT @MSolidarites: 🔥 C'est aujourd'hui 🔥\\r\\n \\r...</td>\n",
       "      <td>none</td>\n",
       "    </tr>\n",
       "    <tr>\n",
       "      <th>1</th>\n",
       "      <td>1</td>\n",
       "      <td>5234</td>\n",
       "      <td>Sun Dec 18 08:04:43 +0000 2022</td>\n",
       "      <td>12700192</td>\n",
       "      <td>@ptiloup44 @CarrPatrick2 Pourquoi MENTEZ-VOUS ...</td>\n",
       "      <td>bullying</td>\n",
       "    </tr>\n",
       "    <tr>\n",
       "      <th>2</th>\n",
       "      <td>2</td>\n",
       "      <td>5297</td>\n",
       "      <td>Sun Dec 18 08:02:33 +0000 2022</td>\n",
       "      <td>15657767</td>\n",
       "      <td>RT @RAbsolument: Espagne : Un migrant Marocain...</td>\n",
       "      <td>none</td>\n",
       "    </tr>\n",
       "    <tr>\n",
       "      <th>3</th>\n",
       "      <td>3</td>\n",
       "      <td>4477</td>\n",
       "      <td>Sun Dec 18 08:31:26 +0000 2022</td>\n",
       "      <td>15856141</td>\n",
       "      <td>@ajplusfrancais Comment un migrant arrivant d'...</td>\n",
       "      <td>racism</td>\n",
       "    </tr>\n",
       "    <tr>\n",
       "      <th>4</th>\n",
       "      <td>4</td>\n",
       "      <td>4761</td>\n",
       "      <td>Sun Dec 18 08:21:48 +0000 2022</td>\n",
       "      <td>17654549</td>\n",
       "      <td>@Charononia Gros cadeau ça !</td>\n",
       "      <td>none</td>\n",
       "    </tr>\n",
       "  </tbody>\n",
       "</table>\n",
       "</div>"
      ],
      "text/plain": [
       "   Unnamed: 0  Line                      created_at   user_id  \\\n",
       "0           0  3631  Sun Dec 18 08:54:57 +0000 2022   3778501   \n",
       "1           1  5234  Sun Dec 18 08:04:43 +0000 2022  12700192   \n",
       "2           2  5297  Sun Dec 18 08:02:33 +0000 2022  15657767   \n",
       "3           3  4477  Sun Dec 18 08:31:26 +0000 2022  15856141   \n",
       "4           4  4761  Sun Dec 18 08:21:48 +0000 2022  17654549   \n",
       "\n",
       "                                                text merged_labels  \n",
       "0  RT @MSolidarites: 🔥 C'est aujourd'hui 🔥\\r\\n \\r...          none  \n",
       "1  @ptiloup44 @CarrPatrick2 Pourquoi MENTEZ-VOUS ...      bullying  \n",
       "2  RT @RAbsolument: Espagne : Un migrant Marocain...          none  \n",
       "3  @ajplusfrancais Comment un migrant arrivant d'...        racism  \n",
       "4                       @Charononia Gros cadeau ça !          none  "
      ]
     },
     "execution_count": 20,
     "metadata": {},
     "output_type": "execute_result"
    }
   ],
   "source": [
    "df2.head()"
   ]
  },
  {
   "cell_type": "code",
   "execution_count": 21,
   "id": "35a37396",
   "metadata": {},
   "outputs": [],
   "source": [
    "# drop unnecessary columns and rename the columns\n",
    "df2.drop(columns=['Line','Unnamed: 0', 'created_at', 'user_id'], inplace = True)\n",
    "df2.rename(columns = {'merged_labels':'label'}, inplace = True)"
   ]
  },
  {
   "cell_type": "code",
   "execution_count": 22,
   "id": "474e3bce",
   "metadata": {},
   "outputs": [
    {
     "data": {
      "text/plain": [
       "(2307, 2)"
      ]
     },
     "execution_count": 22,
     "metadata": {},
     "output_type": "execute_result"
    }
   ],
   "source": [
    "df2.shape"
   ]
  },
  {
   "cell_type": "code",
   "execution_count": 23,
   "id": "683eeac9",
   "metadata": {},
   "outputs": [
    {
     "data": {
      "text/html": [
       "<div>\n",
       "<style scoped>\n",
       "    .dataframe tbody tr th:only-of-type {\n",
       "        vertical-align: middle;\n",
       "    }\n",
       "\n",
       "    .dataframe tbody tr th {\n",
       "        vertical-align: top;\n",
       "    }\n",
       "\n",
       "    .dataframe thead th {\n",
       "        text-align: right;\n",
       "    }\n",
       "</style>\n",
       "<table border=\"1\" class=\"dataframe\">\n",
       "  <thead>\n",
       "    <tr style=\"text-align: right;\">\n",
       "      <th></th>\n",
       "      <th>text</th>\n",
       "      <th>label</th>\n",
       "    </tr>\n",
       "  </thead>\n",
       "  <tbody>\n",
       "    <tr>\n",
       "      <th>0</th>\n",
       "      <td>RT @MSolidarites: 🔥 C'est aujourd'hui 🔥\\r\\n \\r...</td>\n",
       "      <td>none</td>\n",
       "    </tr>\n",
       "    <tr>\n",
       "      <th>1</th>\n",
       "      <td>@ptiloup44 @CarrPatrick2 Pourquoi MENTEZ-VOUS ...</td>\n",
       "      <td>bullying</td>\n",
       "    </tr>\n",
       "    <tr>\n",
       "      <th>2</th>\n",
       "      <td>RT @RAbsolument: Espagne : Un migrant Marocain...</td>\n",
       "      <td>none</td>\n",
       "    </tr>\n",
       "    <tr>\n",
       "      <th>3</th>\n",
       "      <td>@ajplusfrancais Comment un migrant arrivant d'...</td>\n",
       "      <td>racism</td>\n",
       "    </tr>\n",
       "    <tr>\n",
       "      <th>4</th>\n",
       "      <td>@Charononia Gros cadeau ça !</td>\n",
       "      <td>none</td>\n",
       "    </tr>\n",
       "  </tbody>\n",
       "</table>\n",
       "</div>"
      ],
      "text/plain": [
       "                                                text     label\n",
       "0  RT @MSolidarites: 🔥 C'est aujourd'hui 🔥\\r\\n \\r...      none\n",
       "1  @ptiloup44 @CarrPatrick2 Pourquoi MENTEZ-VOUS ...  bullying\n",
       "2  RT @RAbsolument: Espagne : Un migrant Marocain...      none\n",
       "3  @ajplusfrancais Comment un migrant arrivant d'...    racism\n",
       "4                       @Charononia Gros cadeau ça !      none"
      ]
     },
     "execution_count": 23,
     "metadata": {},
     "output_type": "execute_result"
    }
   ],
   "source": [
    "df2.head()"
   ]
  },
  {
   "cell_type": "code",
   "execution_count": 24,
   "id": "ecfd1379",
   "metadata": {},
   "outputs": [
    {
     "data": {
      "text/plain": [
       "none           1671\n",
       "hate speech     238\n",
       "bullying        223\n",
       "racism          144\n",
       "sexism           25\n",
       "homophobia        6\n",
       "Name: label, dtype: int64"
      ]
     },
     "execution_count": 24,
     "metadata": {},
     "output_type": "execute_result"
    }
   ],
   "source": [
    "df2['label'].value_counts()"
   ]
  },
  {
   "cell_type": "code",
   "execution_count": 25,
   "id": "fbdf4f16",
   "metadata": {},
   "outputs": [],
   "source": [
    "df2 = df2.replace({'label':{'hate speech': 'hate_speech'}})"
   ]
  },
  {
   "cell_type": "code",
   "execution_count": 26,
   "id": "18fe4715",
   "metadata": {},
   "outputs": [
    {
     "data": {
      "text/plain": [
       "none           1671\n",
       "hate_speech     238\n",
       "bullying        223\n",
       "racism          144\n",
       "sexism           25\n",
       "homophobia        6\n",
       "Name: label, dtype: int64"
      ]
     },
     "execution_count": 26,
     "metadata": {},
     "output_type": "execute_result"
    }
   ],
   "source": [
    "df2['label'].value_counts()"
   ]
  },
  {
   "cell_type": "code",
   "execution_count": 27,
   "id": "f2964f53",
   "metadata": {},
   "outputs": [
    {
     "data": {
      "text/html": [
       "<div>\n",
       "<style scoped>\n",
       "    .dataframe tbody tr th:only-of-type {\n",
       "        vertical-align: middle;\n",
       "    }\n",
       "\n",
       "    .dataframe tbody tr th {\n",
       "        vertical-align: top;\n",
       "    }\n",
       "\n",
       "    .dataframe thead th {\n",
       "        text-align: right;\n",
       "    }\n",
       "</style>\n",
       "<table border=\"1\" class=\"dataframe\">\n",
       "  <thead>\n",
       "    <tr style=\"text-align: right;\">\n",
       "      <th></th>\n",
       "      <th>id</th>\n",
       "      <th>text</th>\n",
       "      <th>created_at</th>\n",
       "      <th>user_id</th>\n",
       "      <th>Label</th>\n",
       "    </tr>\n",
       "  </thead>\n",
       "  <tbody>\n",
       "    <tr>\n",
       "      <th>0</th>\n",
       "      <td>52629</td>\n",
       "      <td>- l'expérience des migrant·es avec @AntoineRob...</td>\n",
       "      <td>Sun Dec 18 10:00:43 +0000 2022</td>\n",
       "      <td>1.120000e+18</td>\n",
       "      <td>None</td>\n",
       "    </tr>\n",
       "    <tr>\n",
       "      <th>1</th>\n",
       "      <td>52448</td>\n",
       "      <td>\"Bonnes vacances avec les enfants ! Gros bisou...</td>\n",
       "      <td>Sun Dec 18 10:05:00 +0000 2022</td>\n",
       "      <td>4.146315e+08</td>\n",
       "      <td>None</td>\n",
       "    </tr>\n",
       "    <tr>\n",
       "      <th>2</th>\n",
       "      <td>53081</td>\n",
       "      <td>\"Chanter\" tu ne prie pas... un gros NTM SALE P...</td>\n",
       "      <td>Sun Dec 18 09:50:47 +0000 2022</td>\n",
       "      <td>1.550000e+18</td>\n",
       "      <td>Hate_Speech</td>\n",
       "    </tr>\n",
       "    <tr>\n",
       "      <th>3</th>\n",
       "      <td>53682</td>\n",
       "      <td>\"Elle dit qu'il y a des place vacantes,quand o...</td>\n",
       "      <td>Sun Dec 18 09:37:21 +0000 2022</td>\n",
       "      <td>8.470000e+17</td>\n",
       "      <td>None</td>\n",
       "    </tr>\n",
       "    <tr>\n",
       "      <th>4</th>\n",
       "      <td>52605</td>\n",
       "      <td>\"Tout niquer\". c'est classique chez un adolesc...</td>\n",
       "      <td>Sun Dec 18 10:01:20 +0000 2022</td>\n",
       "      <td>9.330000e+17</td>\n",
       "      <td>None</td>\n",
       "    </tr>\n",
       "  </tbody>\n",
       "</table>\n",
       "</div>"
      ],
      "text/plain": [
       "      id                                               text  \\\n",
       "0  52629  - l'expérience des migrant·es avec @AntoineRob...   \n",
       "1  52448  \"Bonnes vacances avec les enfants ! Gros bisou...   \n",
       "2  53081  \"Chanter\" tu ne prie pas... un gros NTM SALE P...   \n",
       "3  53682  \"Elle dit qu'il y a des place vacantes,quand o...   \n",
       "4  52605  \"Tout niquer\". c'est classique chez un adolesc...   \n",
       "\n",
       "                       created_at       user_id        Label  \n",
       "0  Sun Dec 18 10:00:43 +0000 2022  1.120000e+18         None  \n",
       "1  Sun Dec 18 10:05:00 +0000 2022  4.146315e+08         None  \n",
       "2  Sun Dec 18 09:50:47 +0000 2022  1.550000e+18  Hate_Speech  \n",
       "3  Sun Dec 18 09:37:21 +0000 2022  8.470000e+17         None  \n",
       "4  Sun Dec 18 10:01:20 +0000 2022  9.330000e+17         None  "
      ]
     },
     "execution_count": 27,
     "metadata": {},
     "output_type": "execute_result"
    }
   ],
   "source": [
    "df3 = pd.read_csv('data\\\\annotated_data\\\\Twitter_Annotated\\\\Twitter_data_annotated_Lamia.csv')\n",
    "df3.head()"
   ]
  },
  {
   "cell_type": "code",
   "execution_count": 28,
   "id": "8ef3275c",
   "metadata": {},
   "outputs": [],
   "source": [
    "# drop unnecessary columns and rename the columns\n",
    "df3.drop(columns=['id','created_at', 'user_id'], inplace = True)\n",
    "df3.rename(columns = {'Label':'label'}, inplace = True)"
   ]
  },
  {
   "cell_type": "code",
   "execution_count": 29,
   "id": "b26b99fb",
   "metadata": {},
   "outputs": [
    {
     "data": {
      "text/plain": [
       "(2241, 2)"
      ]
     },
     "execution_count": 29,
     "metadata": {},
     "output_type": "execute_result"
    }
   ],
   "source": [
    "df3.shape"
   ]
  },
  {
   "cell_type": "code",
   "execution_count": 30,
   "id": "1e40ab85",
   "metadata": {},
   "outputs": [
    {
     "data": {
      "text/plain": [
       "None           1471\n",
       "Hate_Speech     261\n",
       "Bullying        229\n",
       "Sexism          120\n",
       "Racism          120\n",
       "Remove           31\n",
       "Homophobia        9\n",
       "Name: label, dtype: int64"
      ]
     },
     "execution_count": 30,
     "metadata": {},
     "output_type": "execute_result"
    }
   ],
   "source": [
    "df3['label'].value_counts()"
   ]
  },
  {
   "cell_type": "code",
   "execution_count": 31,
   "id": "6ee305a0",
   "metadata": {},
   "outputs": [],
   "source": [
    "# replace all upper case letters to lower case in label column\n",
    "df3 = df3.replace({'label':{'Hate_Speech': 'hate_speech', 'None':'none', 'Bullying':'bullying',\n",
    "                           'Sexism':'sexism', 'Racism':'racism', 'Homophobia':'homophobia'}})"
   ]
  },
  {
   "cell_type": "code",
   "execution_count": 32,
   "id": "c71839be",
   "metadata": {},
   "outputs": [
    {
     "data": {
      "text/plain": [
       "none           1471\n",
       "hate_speech     261\n",
       "bullying        229\n",
       "sexism          120\n",
       "racism          120\n",
       "Remove           31\n",
       "homophobia        9\n",
       "Name: label, dtype: int64"
      ]
     },
     "execution_count": 32,
     "metadata": {},
     "output_type": "execute_result"
    }
   ],
   "source": [
    "df3['label'].value_counts()"
   ]
  },
  {
   "cell_type": "code",
   "execution_count": 34,
   "id": "2147501d",
   "metadata": {},
   "outputs": [],
   "source": [
    "df3.drop(df3[df3.label == 'Remove'].index, inplace=True)"
   ]
  },
  {
   "cell_type": "code",
   "execution_count": 35,
   "id": "0bf5360f",
   "metadata": {},
   "outputs": [
    {
     "data": {
      "text/plain": [
       "none           1471\n",
       "hate_speech     261\n",
       "bullying        229\n",
       "sexism          120\n",
       "racism          120\n",
       "homophobia        9\n",
       "Name: label, dtype: int64"
      ]
     },
     "execution_count": 35,
     "metadata": {},
     "output_type": "execute_result"
    }
   ],
   "source": [
    "df3['label'].value_counts()"
   ]
  },
  {
   "cell_type": "code",
   "execution_count": 36,
   "id": "0e9a185c",
   "metadata": {},
   "outputs": [
    {
     "data": {
      "text/html": [
       "<div>\n",
       "<style scoped>\n",
       "    .dataframe tbody tr th:only-of-type {\n",
       "        vertical-align: middle;\n",
       "    }\n",
       "\n",
       "    .dataframe tbody tr th {\n",
       "        vertical-align: top;\n",
       "    }\n",
       "\n",
       "    .dataframe thead th {\n",
       "        text-align: right;\n",
       "    }\n",
       "</style>\n",
       "<table border=\"1\" class=\"dataframe\">\n",
       "  <thead>\n",
       "    <tr style=\"text-align: right;\">\n",
       "      <th></th>\n",
       "      <th>id</th>\n",
       "      <th>text</th>\n",
       "      <th>created_at</th>\n",
       "      <th>user_id</th>\n",
       "      <th>label</th>\n",
       "      <th>Comments</th>\n",
       "    </tr>\n",
       "  </thead>\n",
       "  <tbody>\n",
       "    <tr>\n",
       "      <th>0</th>\n",
       "      <td>23</td>\n",
       "      <td>@nopsito_off @cpastibo @Mattotf1 ta pas la ref...</td>\n",
       "      <td>Mon Dec 26 18:53:52 +0000 2022</td>\n",
       "      <td>1596185810503667713</td>\n",
       "      <td>Homophobia</td>\n",
       "      <td>NaN</td>\n",
       "    </tr>\n",
       "    <tr>\n",
       "      <th>1</th>\n",
       "      <td>22</td>\n",
       "      <td>mais les meuf la qui disent \"oue c ma came\" et...</td>\n",
       "      <td>Mon Dec 26 18:54:30 +0000 2022</td>\n",
       "      <td>1520921717920706561</td>\n",
       "      <td>Homophobia</td>\n",
       "      <td>NaN</td>\n",
       "    </tr>\n",
       "    <tr>\n",
       "      <th>2</th>\n",
       "      <td>21</td>\n",
       "      <td>@kc667ekip Ils nous cassent les couilles les p...</td>\n",
       "      <td>Mon Dec 26 18:55:29 +0000 2022</td>\n",
       "      <td>1562767614937812993</td>\n",
       "      <td>Homophobia</td>\n",
       "      <td>NaN</td>\n",
       "    </tr>\n",
       "    <tr>\n",
       "      <th>3</th>\n",
       "      <td>20</td>\n",
       "      <td>@dorobo_lala @evxszn @kujantho @nai_inno C’est...</td>\n",
       "      <td>Mon Dec 26 19:00:01 +0000 2022</td>\n",
       "      <td>1539657588584898562</td>\n",
       "      <td>Homophobia</td>\n",
       "      <td>NaN</td>\n",
       "    </tr>\n",
       "    <tr>\n",
       "      <th>4</th>\n",
       "      <td>19</td>\n",
       "      <td>lesbienne 1 https://t.co/5bS7KXQqKU</td>\n",
       "      <td>Mon Dec 26 19:01:26 +0000 2022</td>\n",
       "      <td>1283153294446202887</td>\n",
       "      <td>Homophobia</td>\n",
       "      <td>NaN</td>\n",
       "    </tr>\n",
       "  </tbody>\n",
       "</table>\n",
       "</div>"
      ],
      "text/plain": [
       "   id                                               text  \\\n",
       "0  23  @nopsito_off @cpastibo @Mattotf1 ta pas la ref...   \n",
       "1  22  mais les meuf la qui disent \"oue c ma came\" et...   \n",
       "2  21  @kc667ekip Ils nous cassent les couilles les p...   \n",
       "3  20  @dorobo_lala @evxszn @kujantho @nai_inno C’est...   \n",
       "4  19                lesbienne 1 https://t.co/5bS7KXQqKU   \n",
       "\n",
       "                       created_at              user_id       label  Comments  \n",
       "0  Mon Dec 26 18:53:52 +0000 2022  1596185810503667713  Homophobia       NaN  \n",
       "1  Mon Dec 26 18:54:30 +0000 2022  1520921717920706561  Homophobia       NaN  \n",
       "2  Mon Dec 26 18:55:29 +0000 2022  1562767614937812993  Homophobia       NaN  \n",
       "3  Mon Dec 26 19:00:01 +0000 2022  1539657588584898562  Homophobia       NaN  \n",
       "4  Mon Dec 26 19:01:26 +0000 2022  1283153294446202887  Homophobia       NaN  "
      ]
     },
     "execution_count": 36,
     "metadata": {},
     "output_type": "execute_result"
    }
   ],
   "source": [
    "df4 = pd.read_csv('data\\\\annotated_data\\\\Twitter_Annotated\\\\twitter_homophobia.csv')\n",
    "df4.head()"
   ]
  },
  {
   "cell_type": "code",
   "execution_count": 37,
   "id": "fc8e2ca4",
   "metadata": {},
   "outputs": [],
   "source": [
    "# drop unnecessary columns\n",
    "df4.drop(columns=['id','created_at', 'user_id', 'Comments'], inplace = True)\n"
   ]
  },
  {
   "cell_type": "code",
   "execution_count": 38,
   "id": "e509c17c",
   "metadata": {},
   "outputs": [
    {
     "data": {
      "text/plain": [
       "(2000, 2)"
      ]
     },
     "execution_count": 38,
     "metadata": {},
     "output_type": "execute_result"
    }
   ],
   "source": [
    "df4.shape"
   ]
  },
  {
   "cell_type": "code",
   "execution_count": 39,
   "id": "ea018a16",
   "metadata": {},
   "outputs": [
    {
     "data": {
      "text/plain": [
       "Homophobia    1185\n",
       "None           813\n",
       "Name: label, dtype: int64"
      ]
     },
     "execution_count": 39,
     "metadata": {},
     "output_type": "execute_result"
    }
   ],
   "source": [
    "df4['label'].value_counts()"
   ]
  },
  {
   "cell_type": "code",
   "execution_count": 40,
   "id": "c51e32c4",
   "metadata": {},
   "outputs": [],
   "source": [
    "df4 = df4.replace({'label':{'Homophobia': 'homophobia', 'None':'none'}})"
   ]
  },
  {
   "cell_type": "code",
   "execution_count": 41,
   "id": "8807a4a7",
   "metadata": {},
   "outputs": [
    {
     "data": {
      "text/plain": [
       "homophobia    1185\n",
       "none           813\n",
       "Name: label, dtype: int64"
      ]
     },
     "execution_count": 41,
     "metadata": {},
     "output_type": "execute_result"
    }
   ],
   "source": [
    "df4['label'].value_counts()"
   ]
  },
  {
   "cell_type": "code",
   "execution_count": 42,
   "id": "bca083a3",
   "metadata": {},
   "outputs": [
    {
     "data": {
      "text/html": [
       "<div>\n",
       "<style scoped>\n",
       "    .dataframe tbody tr th:only-of-type {\n",
       "        vertical-align: middle;\n",
       "    }\n",
       "\n",
       "    .dataframe tbody tr th {\n",
       "        vertical-align: top;\n",
       "    }\n",
       "\n",
       "    .dataframe thead th {\n",
       "        text-align: right;\n",
       "    }\n",
       "</style>\n",
       "<table border=\"1\" class=\"dataframe\">\n",
       "  <thead>\n",
       "    <tr style=\"text-align: right;\">\n",
       "      <th></th>\n",
       "      <th>ID</th>\n",
       "      <th>Text</th>\n",
       "      <th>Label</th>\n",
       "    </tr>\n",
       "  </thead>\n",
       "  <tbody>\n",
       "    <tr>\n",
       "      <th>0</th>\n",
       "      <td>0</td>\n",
       "      <td>@ActuFoot_ @Betclic Raclé contre ce pays qui a...</td>\n",
       "      <td>None</td>\n",
       "    </tr>\n",
       "    <tr>\n",
       "      <th>1</th>\n",
       "      <td>1</td>\n",
       "      <td>RT @realmarcel1: L'enchaînement du gros plan s...</td>\n",
       "      <td>None</td>\n",
       "    </tr>\n",
       "    <tr>\n",
       "      <th>2</th>\n",
       "      <td>2</td>\n",
       "      <td>@Acermendax Je note que pour certain dénoncer ...</td>\n",
       "      <td>None</td>\n",
       "    </tr>\n",
       "    <tr>\n",
       "      <th>3</th>\n",
       "      <td>3</td>\n",
       "      <td>RT @IlanLamar: @Cdanslair Le gros problème chè...</td>\n",
       "      <td>None</td>\n",
       "    </tr>\n",
       "    <tr>\n",
       "      <th>4</th>\n",
       "      <td>4</td>\n",
       "      <td>RT @ricofiascojr: @AmraneHB @Marvel_Fit Aux US...</td>\n",
       "      <td>None</td>\n",
       "    </tr>\n",
       "  </tbody>\n",
       "</table>\n",
       "</div>"
      ],
      "text/plain": [
       "   ID                                               Text Label\n",
       "0   0  @ActuFoot_ @Betclic Raclé contre ce pays qui a...  None\n",
       "1   1  RT @realmarcel1: L'enchaînement du gros plan s...  None\n",
       "2   2  @Acermendax Je note que pour certain dénoncer ...  None\n",
       "3   3  RT @IlanLamar: @Cdanslair Le gros problème chè...  None\n",
       "4   4  RT @ricofiascojr: @AmraneHB @Marvel_Fit Aux US...  None"
      ]
     },
     "execution_count": 42,
     "metadata": {},
     "output_type": "execute_result"
    }
   ],
   "source": [
    "df5 = pd.read_csv('data\\\\annotated_data\\\\Twitter_Instagram_Annotated1.csv')\n",
    "df5.head()"
   ]
  },
  {
   "cell_type": "code",
   "execution_count": 43,
   "id": "1bb8ee9a",
   "metadata": {},
   "outputs": [],
   "source": [
    "# drop unnecessary columns and rename the columns\n",
    "df5.drop(columns=['ID'], inplace = True)\n",
    "df5.rename(columns = {'Text':'text','Label':'label'}, inplace = True)"
   ]
  },
  {
   "cell_type": "code",
   "execution_count": 44,
   "id": "f829d395",
   "metadata": {},
   "outputs": [
    {
     "data": {
      "text/plain": [
       "(6634, 2)"
      ]
     },
     "execution_count": 44,
     "metadata": {},
     "output_type": "execute_result"
    }
   ],
   "source": [
    "df5.shape"
   ]
  },
  {
   "cell_type": "code",
   "execution_count": 45,
   "id": "4670c1dc",
   "metadata": {},
   "outputs": [
    {
     "data": {
      "text/plain": [
       "None           2917\n",
       "Homophobia     1196\n",
       "none           1015\n",
       "Bullying        513\n",
       "Hate_Speech     453\n",
       "Racism          253\n",
       "Sexism          128\n",
       "none             80\n",
       "sexism           60\n",
       "sexism           17\n",
       "Sexism            1\n",
       "homophobia        1\n",
       "Name: label, dtype: int64"
      ]
     },
     "execution_count": 45,
     "metadata": {},
     "output_type": "execute_result"
    }
   ],
   "source": [
    "df5['label'].value_counts()"
   ]
  },
  {
   "cell_type": "code",
   "execution_count": 46,
   "id": "13f8f93b",
   "metadata": {},
   "outputs": [],
   "source": [
    "# replace all upper case letters to lower case in label column\n",
    "df5 = df5.replace({'label':{'Hate_Speech': 'hate_speech', 'None':'none', 'Bullying':'bullying',\n",
    "                           'Sexism':'sexism','Sexism ':'sexism', 'sexism ':'sexism', 'Racism':'racism', 'Homophobia':'homophobia'}})"
   ]
  },
  {
   "cell_type": "code",
   "execution_count": 47,
   "id": "f5c2a23d",
   "metadata": {},
   "outputs": [
    {
     "data": {
      "text/plain": [
       "none           3932\n",
       "homophobia     1197\n",
       "bullying        513\n",
       "hate_speech     453\n",
       "racism          253\n",
       "sexism          206\n",
       "none             80\n",
       "Name: label, dtype: int64"
      ]
     },
     "execution_count": 47,
     "metadata": {},
     "output_type": "execute_result"
    }
   ],
   "source": [
    "df5['label'].value_counts()"
   ]
  },
  {
   "cell_type": "code",
   "execution_count": 48,
   "id": "a6e3c94c",
   "metadata": {},
   "outputs": [
    {
     "name": "stdout",
     "output_type": "stream",
     "text": [
      "Requirement already satisfied: openpyxl in c:\\users\\johny\\appdata\\local\\programs\\python\\python310\\lib\\site-packages (3.0.10)\n",
      "Requirement already satisfied: et-xmlfile in c:\\users\\johny\\appdata\\local\\programs\\python\\python310\\lib\\site-packages (from openpyxl) (1.1.0)\n"
     ]
    }
   ],
   "source": [
    "! pip install openpyxl"
   ]
  },
  {
   "cell_type": "code",
   "execution_count": 49,
   "id": "ec7c4ef4",
   "metadata": {},
   "outputs": [
    {
     "data": {
      "text/html": [
       "<div>\n",
       "<style scoped>\n",
       "    .dataframe tbody tr th:only-of-type {\n",
       "        vertical-align: middle;\n",
       "    }\n",
       "\n",
       "    .dataframe tbody tr th {\n",
       "        vertical-align: top;\n",
       "    }\n",
       "\n",
       "    .dataframe thead th {\n",
       "        text-align: right;\n",
       "    }\n",
       "</style>\n",
       "<table border=\"1\" class=\"dataframe\">\n",
       "  <thead>\n",
       "    <tr style=\"text-align: right;\">\n",
       "      <th></th>\n",
       "      <th>Unnamed: 0</th>\n",
       "      <th>Text</th>\n",
       "      <th>Label</th>\n",
       "    </tr>\n",
       "  </thead>\n",
       "  <tbody>\n",
       "    <tr>\n",
       "      <th>0</th>\n",
       "      <td>NaN</td>\n",
       "      <td>@DiiaraGalsen Bon j’abandonne !\\nJe pense k co...</td>\n",
       "      <td>BULLYING</td>\n",
       "    </tr>\n",
       "    <tr>\n",
       "      <th>1</th>\n",
       "      <td>NaN</td>\n",
       "      <td>@PkrMentor @fatoukanoute8 @raciste Apparemment...</td>\n",
       "      <td>BULLYING</td>\n",
       "    </tr>\n",
       "    <tr>\n",
       "      <th>2</th>\n",
       "      <td>NaN</td>\n",
       "      <td>@NazaBomaye comment tu peux ouvrir ta grosse b...</td>\n",
       "      <td>BULLYING</td>\n",
       "    </tr>\n",
       "    <tr>\n",
       "      <th>3</th>\n",
       "      <td>NaN</td>\n",
       "      <td>@jgk143 SOIS FORT POV CON</td>\n",
       "      <td>BULLYING</td>\n",
       "    </tr>\n",
       "    <tr>\n",
       "      <th>4</th>\n",
       "      <td>NaN</td>\n",
       "      <td>Ce genre de déclaration ?! Allez va te faire f...</td>\n",
       "      <td>BULLYING</td>\n",
       "    </tr>\n",
       "  </tbody>\n",
       "</table>\n",
       "</div>"
      ],
      "text/plain": [
       "   Unnamed: 0                                               Text     Label\n",
       "0         NaN  @DiiaraGalsen Bon j’abandonne !\\nJe pense k co...  BULLYING\n",
       "1         NaN  @PkrMentor @fatoukanoute8 @raciste Apparemment...  BULLYING\n",
       "2         NaN  @NazaBomaye comment tu peux ouvrir ta grosse b...  BULLYING\n",
       "3         NaN                          @jgk143 SOIS FORT POV CON  BULLYING\n",
       "4         NaN  Ce genre de déclaration ?! Allez va te faire f...  BULLYING"
      ]
     },
     "execution_count": 49,
     "metadata": {},
     "output_type": "execute_result"
    }
   ],
   "source": [
    "df6 = pd.read_excel('data\\\\annotated_data\\\\Extra_dataset.xlsx')\n",
    "# df6 = pd.read_excel(open('data\\\\annotated_data\\\\Extra_dataset.xlsx', 'rb'), sheet_name='Sheet')  \n",
    "df6.head()"
   ]
  },
  {
   "cell_type": "code",
   "execution_count": 50,
   "id": "a79d9bf9",
   "metadata": {},
   "outputs": [],
   "source": [
    "# drop unnecessary columns and rename the columns\n",
    "df6.drop(columns=['Unnamed: 0'], inplace = True)\n",
    "df6.rename(columns = {'Text':'text','Label':'label'}, inplace = True)"
   ]
  },
  {
   "cell_type": "code",
   "execution_count": 51,
   "id": "437f8a1f",
   "metadata": {},
   "outputs": [
    {
     "data": {
      "text/plain": [
       "(382, 2)"
      ]
     },
     "execution_count": 51,
     "metadata": {},
     "output_type": "execute_result"
    }
   ],
   "source": [
    "df6.shape"
   ]
  },
  {
   "cell_type": "code",
   "execution_count": 52,
   "id": "a2611583",
   "metadata": {},
   "outputs": [
    {
     "data": {
      "text/plain": [
       "HATA_SPEECH    362\n",
       "SEXISM          15\n",
       "BULLYING         5\n",
       "Name: label, dtype: int64"
      ]
     },
     "execution_count": 52,
     "metadata": {},
     "output_type": "execute_result"
    }
   ],
   "source": [
    "df6['label'].value_counts()"
   ]
  },
  {
   "cell_type": "code",
   "execution_count": 54,
   "id": "398e2507",
   "metadata": {},
   "outputs": [],
   "source": [
    "# replace all upper case letters to lower case in label column\n",
    "df6 = df6.replace({'label':{'HATA_SPEECH': 'hate_speech','BULLYING':'bullying','SEXISM':'sexism'}})"
   ]
  },
  {
   "cell_type": "code",
   "execution_count": 55,
   "id": "9655c1ea",
   "metadata": {},
   "outputs": [
    {
     "data": {
      "text/plain": [
       "hate_speech    362\n",
       "sexism          15\n",
       "bullying         5\n",
       "Name: label, dtype: int64"
      ]
     },
     "execution_count": 55,
     "metadata": {},
     "output_type": "execute_result"
    }
   ],
   "source": [
    "df6['label'].value_counts()"
   ]
  },
  {
   "cell_type": "code",
   "execution_count": null,
   "id": "0c0f9675",
   "metadata": {},
   "outputs": [],
   "source": [
    "# df6.to_csv('csvfile.csv', encoding='utf-8', index=False)"
   ]
  },
  {
   "cell_type": "markdown",
   "id": "4cf12512",
   "metadata": {},
   "source": [
    "### Merge the 6 datasets"
   ]
  },
  {
   "cell_type": "code",
   "execution_count": 56,
   "id": "5c60de22",
   "metadata": {},
   "outputs": [],
   "source": [
    "df = pd.concat([df1, df2, df3, df4, df5, df6], axis=0, ignore_index=True)"
   ]
  },
  {
   "cell_type": "code",
   "execution_count": 57,
   "id": "39ac81a6",
   "metadata": {},
   "outputs": [
    {
     "data": {
      "text/html": [
       "<div>\n",
       "<style scoped>\n",
       "    .dataframe tbody tr th:only-of-type {\n",
       "        vertical-align: middle;\n",
       "    }\n",
       "\n",
       "    .dataframe tbody tr th {\n",
       "        vertical-align: top;\n",
       "    }\n",
       "\n",
       "    .dataframe thead th {\n",
       "        text-align: right;\n",
       "    }\n",
       "</style>\n",
       "<table border=\"1\" class=\"dataframe\">\n",
       "  <thead>\n",
       "    <tr style=\"text-align: right;\">\n",
       "      <th></th>\n",
       "      <th>text</th>\n",
       "      <th>label</th>\n",
       "    </tr>\n",
       "  </thead>\n",
       "  <tbody>\n",
       "    <tr>\n",
       "      <th>0</th>\n",
       "      <td>Dès les premières pages, on peut constater un ...</td>\n",
       "      <td>none</td>\n",
       "    </tr>\n",
       "    <tr>\n",
       "      <th>1</th>\n",
       "      <td>@maxvandewiele penser qu’il y a trop d’immigré...</td>\n",
       "      <td>none</td>\n",
       "    </tr>\n",
       "    <tr>\n",
       "      <th>2</th>\n",
       "      <td>@dv.antoine c'est magnifique ce que tu dis par...</td>\n",
       "      <td>bullying</td>\n",
       "    </tr>\n",
       "    <tr>\n",
       "      <th>3</th>\n",
       "      <td>@maxvandewiele en quoi?</td>\n",
       "      <td>none</td>\n",
       "    </tr>\n",
       "    <tr>\n",
       "      <th>4</th>\n",
       "      <td>@dv.antoine content que tu pose la question : ...</td>\n",
       "      <td>none</td>\n",
       "    </tr>\n",
       "  </tbody>\n",
       "</table>\n",
       "</div>"
      ],
      "text/plain": [
       "                                                text     label\n",
       "0  Dès les premières pages, on peut constater un ...      none\n",
       "1  @maxvandewiele penser qu’il y a trop d’immigré...      none\n",
       "2  @dv.antoine c'est magnifique ce que tu dis par...  bullying\n",
       "3                            @maxvandewiele en quoi?      none\n",
       "4  @dv.antoine content que tu pose la question : ...      none"
      ]
     },
     "execution_count": 57,
     "metadata": {},
     "output_type": "execute_result"
    }
   ],
   "source": [
    "df.head()"
   ]
  },
  {
   "cell_type": "code",
   "execution_count": 58,
   "id": "b3931f62",
   "metadata": {},
   "outputs": [
    {
     "data": {
      "text/plain": [
       "(13816, 2)"
      ]
     },
     "execution_count": 58,
     "metadata": {},
     "output_type": "execute_result"
    }
   ],
   "source": [
    "df.shape"
   ]
  },
  {
   "cell_type": "code",
   "execution_count": 59,
   "id": "741e9d96",
   "metadata": {},
   "outputs": [],
   "source": [
    "df.drop_duplicates(inplace = True, ignore_index=True)"
   ]
  },
  {
   "cell_type": "code",
   "execution_count": 60,
   "id": "f6749982",
   "metadata": {},
   "outputs": [
    {
     "data": {
      "text/plain": [
       "(10258, 2)"
      ]
     },
     "execution_count": 60,
     "metadata": {},
     "output_type": "execute_result"
    }
   ],
   "source": [
    "df.shape"
   ]
  },
  {
   "cell_type": "code",
   "execution_count": 61,
   "id": "53870192",
   "metadata": {},
   "outputs": [
    {
     "data": {
      "text/plain": [
       "none           5780\n",
       "homophobia     1866\n",
       "hate_speech    1139\n",
       "bullying        866\n",
       "sexism          271\n",
       "racism          262\n",
       "none             72\n",
       "Name: label, dtype: int64"
      ]
     },
     "execution_count": 61,
     "metadata": {},
     "output_type": "execute_result"
    }
   ],
   "source": [
    "df['label'].value_counts()"
   ]
  },
  {
   "cell_type": "code",
   "execution_count": 64,
   "id": "300a2847",
   "metadata": {},
   "outputs": [
    {
     "data": {
      "text/plain": [
       "none           5852\n",
       "homophobia     1866\n",
       "hate_speech    1139\n",
       "bullying        866\n",
       "sexism          271\n",
       "racism          262\n",
       "Name: label, dtype: int64"
      ]
     },
     "execution_count": 64,
     "metadata": {},
     "output_type": "execute_result"
    }
   ],
   "source": [
    "df = df.replace({'label':{'none ': 'none'}})\n",
    "df['label'].value_counts()"
   ]
  },
  {
   "cell_type": "markdown",
   "id": "4fa0486a",
   "metadata": {},
   "source": [
    "# Save combined data to csv\n"
   ]
  },
  {
   "cell_type": "code",
   "execution_count": 65,
   "id": "b22e05fb",
   "metadata": {},
   "outputs": [],
   "source": [
    "df.to_csv('tasks\\\\task-3-model-improvement\\\\combined_data.csv',index=False)"
   ]
  },
  {
   "cell_type": "code",
   "execution_count": 62,
   "id": "a50b522a",
   "metadata": {},
   "outputs": [
    {
     "data": {
      "text/plain": [
       "'D:\\\\Divya\\\\Job\\\\Volunteering\\\\Omdena_Projects\\\\marseille-chapter-stop-online-violence-nlp\\\\src'"
      ]
     },
     "execution_count": 62,
     "metadata": {},
     "output_type": "execute_result"
    }
   ],
   "source": [
    "%pwd "
   ]
  },
  {
   "cell_type": "code",
   "execution_count": null,
   "id": "c9536719",
   "metadata": {},
   "outputs": [],
   "source": []
  }
 ],
 "metadata": {
  "kernelspec": {
   "display_name": "Python 3 (ipykernel)",
   "language": "python",
   "name": "python3"
  },
  "language_info": {
   "codemirror_mode": {
    "name": "ipython",
    "version": 3
   },
   "file_extension": ".py",
   "mimetype": "text/x-python",
   "name": "python",
   "nbconvert_exporter": "python",
   "pygments_lexer": "ipython3",
   "version": "3.10.6"
  }
 },
 "nbformat": 4,
 "nbformat_minor": 5
}
