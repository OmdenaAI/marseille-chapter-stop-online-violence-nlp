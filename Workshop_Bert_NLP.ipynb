{
  "metadata": {
    "kernelspec": {
      "language": "python",
      "display_name": "Python 3",
      "name": "python3"
    },
    "language_info": {
      "name": "python",
      "version": "3.7.12",
      "mimetype": "text/x-python",
      "codemirror_mode": {
        "name": "ipython",
        "version": 3
      },
      "pygments_lexer": "ipython3",
      "nbconvert_exporter": "python",
      "file_extension": ".py"
    },
    "colab": {
      "provenance": []
    },
    "accelerator": "GPU",
    "gpuClass": "standard"
  },
  "nbformat_minor": 0,
  "nbformat": 4,
  "cells": [
    {
      "cell_type": "markdown",
      "source": [
        "# WELCOME !!!!\n",
        "\n",
        "## This Notebook will serve as the second workshop on how to build a classification model by leveraging Bert with the K-train library. I encourage you to read this link if you want to learn more about how Bert works under the hood: https://towardsdatascience.com/bert-explained-state-of-the-art-language-model-for-nlp-f8b21a9b6270       \n",
        "## I will use the dataset that I've annotated, twitter_homophobia.csv, and we'll build a binary classifier.\n",
        "## This notebook is split into 4 sections:\n",
        "### PART 1: GETTING THE DATA AND READING IT\n",
        "### PART 2: VISUALISING THE DATA AND PERFORMING SOME EDA\n",
        "### PART 3: PREPROCESSING THE DATA SO THAT IT CAN BE USED IN OUR MODEL\n",
        "### PART 4: BUILDING AND VALIDATING OUR MODEL"
      ],
      "metadata": {
        "id": "aMVbwCR_wZVQ"
      }
    },
    {
      "cell_type": "code",
      "source": [
        "import tensorflow as tf\n",
        "import os\n",
        "try:\n",
        "    import ktrain\n",
        "except:\n",
        "    !pip install ktrain\n",
        "    import ktrain\n",
        "from ktrain import text\n",
        "from ktrain.text import texts_from_df\n",
        "from keras.preprocessing.text import Tokenizer\n",
        "import re\n",
        "import numpy as np\n",
        "import pandas as pd\n",
        "import seaborn as sns\n",
        "import matplotlib.pyplot as plt\n",
        "import random\n",
        "import nltk\n",
        "from nltk import WordNetLemmatizer\n",
        "from nltk.tokenize import word_tokenize\n",
        "from nltk.corpus import stopwords\n",
        "from nltk.tokenize import RegexpTokenizer\n",
        "nltk.download('omw-1.4')\n",
        "nltk.download('stopwords')\n",
        "nltk.download('wordnet')\n",
        "from string import punctuation, digits\n",
        "from sklearn.feature_extraction.text import TfidfVectorizer\n",
        "from sklearn.decomposition import NMF\n",
        "from sklearn.pipeline import Pipeline\n",
        "from sklearn.ensemble import RandomForestClassifier\n",
        "from sklearn.metrics import accuracy_score\n",
        "from sklearn.model_selection import train_test_split\n",
        "from wordcloud import WordCloud\n",
        "import itertools\n",
        "import warnings\n",
        "warnings.filterwarnings('ignore')"
      ],
      "metadata": {
        "_uuid": "8f2839f25d086af736a60e9eeb907d3b93b6e0e5",
        "_cell_guid": "b1076dfc-b9ad-4769-8c92-a6c4dae69d19",
        "execution": {
          "iopub.status.busy": "2022-12-06T08:26:46.246611Z",
          "iopub.execute_input": "2022-12-06T08:26:46.247450Z",
          "iopub.status.idle": "2022-12-06T08:27:36.217292Z",
          "shell.execute_reply.started": "2022-12-06T08:26:46.247325Z",
          "shell.execute_reply": "2022-12-06T08:27:36.216231Z"
        },
        "trusted": true,
        "id": "PiTwmcwiwZVW",
        "outputId": "ff3854b3-1f70-4ba7-abcf-9afdf6b09143",
        "colab": {
          "base_uri": "https://localhost:8080/"
        }
      },
      "execution_count": 31,
      "outputs": [
        {
          "output_type": "stream",
          "name": "stderr",
          "text": [
            "[nltk_data] Downloading package omw-1.4 to /root/nltk_data...\n",
            "[nltk_data]   Package omw-1.4 is already up-to-date!\n",
            "[nltk_data] Downloading package stopwords to /root/nltk_data...\n",
            "[nltk_data]   Package stopwords is already up-to-date!\n",
            "[nltk_data] Downloading package wordnet to /root/nltk_data...\n",
            "[nltk_data]   Package wordnet is already up-to-date!\n"
          ]
        }
      ]
    },
    {
      "cell_type": "markdown",
      "source": [
        "# PART 1: THE DATA"
      ],
      "metadata": {
        "id": "R49KWxkXwZVX"
      }
    },
    {
      "cell_type": "markdown",
      "source": [
        "### Getting and reading the data using pandas"
      ],
      "metadata": {
        "id": "YQ-buHQCwZVY"
      }
    },
    {
      "cell_type": "code",
      "source": [
        "data = pd.read_csv(\"twitter_homophobia.csv\")"
      ],
      "metadata": {
        "execution": {
          "iopub.status.busy": "2022-12-06T08:27:36.219577Z",
          "iopub.execute_input": "2022-12-06T08:27:36.220435Z",
          "iopub.status.idle": "2022-12-06T08:27:36.298753Z",
          "shell.execute_reply.started": "2022-12-06T08:27:36.220405Z",
          "shell.execute_reply": "2022-12-06T08:27:36.297871Z"
        },
        "trusted": true,
        "id": "sUEwJpFFwZVY"
      },
      "execution_count": 32,
      "outputs": []
    },
    {
      "cell_type": "code",
      "source": [
        "data.head()"
      ],
      "metadata": {
        "execution": {
          "iopub.status.busy": "2022-12-06T08:27:36.302218Z",
          "iopub.execute_input": "2022-12-06T08:27:36.302538Z",
          "iopub.status.idle": "2022-12-06T08:27:36.322615Z",
          "shell.execute_reply.started": "2022-12-06T08:27:36.302509Z",
          "shell.execute_reply": "2022-12-06T08:27:36.321799Z"
        },
        "trusted": true,
        "id": "et-kbHO9wZVY",
        "outputId": "b46bbf59-05bd-445e-a936-06f12d946aed",
        "colab": {
          "base_uri": "https://localhost:8080/",
          "height": 206
        }
      },
      "execution_count": 33,
      "outputs": [
        {
          "output_type": "execute_result",
          "data": {
            "text/plain": [
              "   id                                               text  \\\n",
              "0  23  @nopsito_off @cpastibo @Mattotf1 ta pas la ref...   \n",
              "1  22  mais les meuf la qui disent \"oue c ma came\" et...   \n",
              "2  21  @kc667ekip Ils nous cassent les couilles les p...   \n",
              "3  20  @dorobo_lala @evxszn @kujantho @nai_inno C’est...   \n",
              "4  19                lesbienne 1 https://t.co/5bS7KXQqKU   \n",
              "\n",
              "                       created_at              user_id       label  Comments  \n",
              "0  Mon Dec 26 18:53:52 +0000 2022  1596185810503667713  Homophobia       NaN  \n",
              "1  Mon Dec 26 18:54:30 +0000 2022  1520921717920706561  Homophobia       NaN  \n",
              "2  Mon Dec 26 18:55:29 +0000 2022  1562767614937812993  Homophobia       NaN  \n",
              "3  Mon Dec 26 19:00:01 +0000 2022  1539657588584898562  Homophobia       NaN  \n",
              "4  Mon Dec 26 19:01:26 +0000 2022  1283153294446202887  Homophobia       NaN  "
            ],
            "text/html": [
              "\n",
              "  <div id=\"df-4c3bc1de-a01b-4def-af5e-a39569ccdc9b\">\n",
              "    <div class=\"colab-df-container\">\n",
              "      <div>\n",
              "<style scoped>\n",
              "    .dataframe tbody tr th:only-of-type {\n",
              "        vertical-align: middle;\n",
              "    }\n",
              "\n",
              "    .dataframe tbody tr th {\n",
              "        vertical-align: top;\n",
              "    }\n",
              "\n",
              "    .dataframe thead th {\n",
              "        text-align: right;\n",
              "    }\n",
              "</style>\n",
              "<table border=\"1\" class=\"dataframe\">\n",
              "  <thead>\n",
              "    <tr style=\"text-align: right;\">\n",
              "      <th></th>\n",
              "      <th>id</th>\n",
              "      <th>text</th>\n",
              "      <th>created_at</th>\n",
              "      <th>user_id</th>\n",
              "      <th>label</th>\n",
              "      <th>Comments</th>\n",
              "    </tr>\n",
              "  </thead>\n",
              "  <tbody>\n",
              "    <tr>\n",
              "      <th>0</th>\n",
              "      <td>23</td>\n",
              "      <td>@nopsito_off @cpastibo @Mattotf1 ta pas la ref...</td>\n",
              "      <td>Mon Dec 26 18:53:52 +0000 2022</td>\n",
              "      <td>1596185810503667713</td>\n",
              "      <td>Homophobia</td>\n",
              "      <td>NaN</td>\n",
              "    </tr>\n",
              "    <tr>\n",
              "      <th>1</th>\n",
              "      <td>22</td>\n",
              "      <td>mais les meuf la qui disent \"oue c ma came\" et...</td>\n",
              "      <td>Mon Dec 26 18:54:30 +0000 2022</td>\n",
              "      <td>1520921717920706561</td>\n",
              "      <td>Homophobia</td>\n",
              "      <td>NaN</td>\n",
              "    </tr>\n",
              "    <tr>\n",
              "      <th>2</th>\n",
              "      <td>21</td>\n",
              "      <td>@kc667ekip Ils nous cassent les couilles les p...</td>\n",
              "      <td>Mon Dec 26 18:55:29 +0000 2022</td>\n",
              "      <td>1562767614937812993</td>\n",
              "      <td>Homophobia</td>\n",
              "      <td>NaN</td>\n",
              "    </tr>\n",
              "    <tr>\n",
              "      <th>3</th>\n",
              "      <td>20</td>\n",
              "      <td>@dorobo_lala @evxszn @kujantho @nai_inno C’est...</td>\n",
              "      <td>Mon Dec 26 19:00:01 +0000 2022</td>\n",
              "      <td>1539657588584898562</td>\n",
              "      <td>Homophobia</td>\n",
              "      <td>NaN</td>\n",
              "    </tr>\n",
              "    <tr>\n",
              "      <th>4</th>\n",
              "      <td>19</td>\n",
              "      <td>lesbienne 1 https://t.co/5bS7KXQqKU</td>\n",
              "      <td>Mon Dec 26 19:01:26 +0000 2022</td>\n",
              "      <td>1283153294446202887</td>\n",
              "      <td>Homophobia</td>\n",
              "      <td>NaN</td>\n",
              "    </tr>\n",
              "  </tbody>\n",
              "</table>\n",
              "</div>\n",
              "      <button class=\"colab-df-convert\" onclick=\"convertToInteractive('df-4c3bc1de-a01b-4def-af5e-a39569ccdc9b')\"\n",
              "              title=\"Convert this dataframe to an interactive table.\"\n",
              "              style=\"display:none;\">\n",
              "        \n",
              "  <svg xmlns=\"http://www.w3.org/2000/svg\" height=\"24px\"viewBox=\"0 0 24 24\"\n",
              "       width=\"24px\">\n",
              "    <path d=\"M0 0h24v24H0V0z\" fill=\"none\"/>\n",
              "    <path d=\"M18.56 5.44l.94 2.06.94-2.06 2.06-.94-2.06-.94-.94-2.06-.94 2.06-2.06.94zm-11 1L8.5 8.5l.94-2.06 2.06-.94-2.06-.94L8.5 2.5l-.94 2.06-2.06.94zm10 10l.94 2.06.94-2.06 2.06-.94-2.06-.94-.94-2.06-.94 2.06-2.06.94z\"/><path d=\"M17.41 7.96l-1.37-1.37c-.4-.4-.92-.59-1.43-.59-.52 0-1.04.2-1.43.59L10.3 9.45l-7.72 7.72c-.78.78-.78 2.05 0 2.83L4 21.41c.39.39.9.59 1.41.59.51 0 1.02-.2 1.41-.59l7.78-7.78 2.81-2.81c.8-.78.8-2.07 0-2.86zM5.41 20L4 18.59l7.72-7.72 1.47 1.35L5.41 20z\"/>\n",
              "  </svg>\n",
              "      </button>\n",
              "      \n",
              "  <style>\n",
              "    .colab-df-container {\n",
              "      display:flex;\n",
              "      flex-wrap:wrap;\n",
              "      gap: 12px;\n",
              "    }\n",
              "\n",
              "    .colab-df-convert {\n",
              "      background-color: #E8F0FE;\n",
              "      border: none;\n",
              "      border-radius: 50%;\n",
              "      cursor: pointer;\n",
              "      display: none;\n",
              "      fill: #1967D2;\n",
              "      height: 32px;\n",
              "      padding: 0 0 0 0;\n",
              "      width: 32px;\n",
              "    }\n",
              "\n",
              "    .colab-df-convert:hover {\n",
              "      background-color: #E2EBFA;\n",
              "      box-shadow: 0px 1px 2px rgba(60, 64, 67, 0.3), 0px 1px 3px 1px rgba(60, 64, 67, 0.15);\n",
              "      fill: #174EA6;\n",
              "    }\n",
              "\n",
              "    [theme=dark] .colab-df-convert {\n",
              "      background-color: #3B4455;\n",
              "      fill: #D2E3FC;\n",
              "    }\n",
              "\n",
              "    [theme=dark] .colab-df-convert:hover {\n",
              "      background-color: #434B5C;\n",
              "      box-shadow: 0px 1px 3px 1px rgba(0, 0, 0, 0.15);\n",
              "      filter: drop-shadow(0px 1px 2px rgba(0, 0, 0, 0.3));\n",
              "      fill: #FFFFFF;\n",
              "    }\n",
              "  </style>\n",
              "\n",
              "      <script>\n",
              "        const buttonEl =\n",
              "          document.querySelector('#df-4c3bc1de-a01b-4def-af5e-a39569ccdc9b button.colab-df-convert');\n",
              "        buttonEl.style.display =\n",
              "          google.colab.kernel.accessAllowed ? 'block' : 'none';\n",
              "\n",
              "        async function convertToInteractive(key) {\n",
              "          const element = document.querySelector('#df-4c3bc1de-a01b-4def-af5e-a39569ccdc9b');\n",
              "          const dataTable =\n",
              "            await google.colab.kernel.invokeFunction('convertToInteractive',\n",
              "                                                     [key], {});\n",
              "          if (!dataTable) return;\n",
              "\n",
              "          const docLinkHtml = 'Like what you see? Visit the ' +\n",
              "            '<a target=\"_blank\" href=https://colab.research.google.com/notebooks/data_table.ipynb>data table notebook</a>'\n",
              "            + ' to learn more about interactive tables.';\n",
              "          element.innerHTML = '';\n",
              "          dataTable['output_type'] = 'display_data';\n",
              "          await google.colab.output.renderOutput(dataTable, element);\n",
              "          const docLink = document.createElement('div');\n",
              "          docLink.innerHTML = docLinkHtml;\n",
              "          element.appendChild(docLink);\n",
              "        }\n",
              "      </script>\n",
              "    </div>\n",
              "  </div>\n",
              "  "
            ]
          },
          "metadata": {},
          "execution_count": 33
        }
      ]
    },
    {
      "cell_type": "code",
      "source": [
        "data.shape"
      ],
      "metadata": {
        "execution": {
          "iopub.status.busy": "2022-12-06T08:27:36.339427Z",
          "iopub.execute_input": "2022-12-06T08:27:36.340080Z",
          "iopub.status.idle": "2022-12-06T08:27:36.347348Z",
          "shell.execute_reply.started": "2022-12-06T08:27:36.340045Z",
          "shell.execute_reply": "2022-12-06T08:27:36.346287Z"
        },
        "trusted": true,
        "id": "wn8Ufh2LwZVZ",
        "outputId": "85eef76a-f32b-4c53-daa4-a1139b0adaf2",
        "colab": {
          "base_uri": "https://localhost:8080/"
        }
      },
      "execution_count": 34,
      "outputs": [
        {
          "output_type": "execute_result",
          "data": {
            "text/plain": [
              "(2000, 6)"
            ]
          },
          "metadata": {},
          "execution_count": 34
        }
      ]
    },
    {
      "cell_type": "markdown",
      "source": [
        "### From this simple analysis, we can see that we have 2000 tweets in  data. We also have some columns that we will be dropping since they are not useful for predicting if a text is homophobic or not."
      ],
      "metadata": {
        "id": "OoIrEPr4wZVZ"
      }
    },
    {
      "cell_type": "code",
      "source": [
        "data.isnull().sum()"
      ],
      "metadata": {
        "execution": {
          "iopub.status.busy": "2022-12-06T08:27:36.359261Z",
          "iopub.execute_input": "2022-12-06T08:27:36.359611Z",
          "iopub.status.idle": "2022-12-06T08:27:36.371511Z",
          "shell.execute_reply.started": "2022-12-06T08:27:36.359577Z",
          "shell.execute_reply": "2022-12-06T08:27:36.370418Z"
        },
        "trusted": true,
        "id": "cpgUKe-gwZVZ",
        "outputId": "c019307c-5668-4dd2-900c-ea9a4073c8f6",
        "colab": {
          "base_uri": "https://localhost:8080/"
        }
      },
      "execution_count": 35,
      "outputs": [
        {
          "output_type": "execute_result",
          "data": {
            "text/plain": [
              "id               0\n",
              "text             0\n",
              "created_at       0\n",
              "user_id          0\n",
              "label            2\n",
              "Comments      2000\n",
              "dtype: int64"
            ]
          },
          "metadata": {},
          "execution_count": 35
        }
      ]
    },
    {
      "cell_type": "code",
      "source": [
        "data.loc[0]['text']"
      ],
      "metadata": {
        "execution": {
          "iopub.status.busy": "2022-12-06T08:27:36.403697Z",
          "iopub.execute_input": "2022-12-06T08:27:36.403973Z",
          "iopub.status.idle": "2022-12-06T08:27:36.413827Z",
          "shell.execute_reply.started": "2022-12-06T08:27:36.403942Z",
          "shell.execute_reply": "2022-12-06T08:27:36.412889Z"
        },
        "trusted": true,
        "id": "cBI_k7vUwZVa",
        "outputId": "8ad3fb97-c6f1-4122-8a9a-71826c457a06",
        "colab": {
          "base_uri": "https://localhost:8080/",
          "height": 36
        }
      },
      "execution_count": 36,
      "outputs": [
        {
          "output_type": "execute_result",
          "data": {
            "text/plain": [
              "'@nopsito_off @cpastibo @Mattotf1 ta pas la ref c pr sa g rien contre les pd tkt'"
            ],
            "application/vnd.google.colaboratory.intrinsic+json": {
              "type": "string"
            }
          },
          "metadata": {},
          "execution_count": 36
        }
      ]
    },
    {
      "cell_type": "markdown",
      "source": [
        "# PART 2: VISUALIZING THE DATA AND EDA"
      ],
      "metadata": {
        "id": "93Si6CXKwZVa"
      }
    },
    {
      "cell_type": "code",
      "source": [
        "data"
      ],
      "metadata": {
        "execution": {
          "iopub.status.busy": "2022-12-06T08:27:36.427637Z",
          "iopub.execute_input": "2022-12-06T08:27:36.428412Z",
          "iopub.status.idle": "2022-12-06T08:27:36.445460Z",
          "shell.execute_reply.started": "2022-12-06T08:27:36.428386Z",
          "shell.execute_reply": "2022-12-06T08:27:36.444716Z"
        },
        "trusted": true,
        "id": "vmP8SG4uwZVb",
        "outputId": "9353e037-c89b-4afc-e82c-45232bad0602",
        "colab": {
          "base_uri": "https://localhost:8080/",
          "height": 424
        }
      },
      "execution_count": 37,
      "outputs": [
        {
          "output_type": "execute_result",
          "data": {
            "text/plain": [
              "        id                                               text  \\\n",
              "0       23  @nopsito_off @cpastibo @Mattotf1 ta pas la ref...   \n",
              "1       22  mais les meuf la qui disent \"oue c ma came\" et...   \n",
              "2       21  @kc667ekip Ils nous cassent les couilles les p...   \n",
              "3       20  @dorobo_lala @evxszn @kujantho @nai_inno C’est...   \n",
              "4       19                lesbienne 1 https://t.co/5bS7KXQqKU   \n",
              "...    ...                                                ...   \n",
              "1995  1996                     @PANPANSKSK_ hb mon pd préféré   \n",
              "1996  1997        @YouYouvens @ActuFoot_ Il veut quoi le pd ?   \n",
              "1997  1998                   @koopstwt Voeu/PD/Guérison euh ?   \n",
              "1998  1999  Mais la partie 4 de Paradise PD ils sont allés...   \n",
              "1999  2000                      @Footballogue Une photo de pd   \n",
              "\n",
              "                          created_at              user_id       label  \\\n",
              "0     Mon Dec 26 18:53:52 +0000 2022  1596185810503667713  Homophobia   \n",
              "1     Mon Dec 26 18:54:30 +0000 2022  1520921717920706561  Homophobia   \n",
              "2     Mon Dec 26 18:55:29 +0000 2022  1562767614937812993  Homophobia   \n",
              "3     Mon Dec 26 19:00:01 +0000 2022  1539657588584898562  Homophobia   \n",
              "4     Mon Dec 26 19:01:26 +0000 2022  1283153294446202887  Homophobia   \n",
              "...                              ...                  ...         ...   \n",
              "1995  Sat Dec 24 00:10:20 +0000 2022  1408155151026819075  Homophobia   \n",
              "1996  Sat Dec 24 00:06:56 +0000 2022           1061108174  Homophobia   \n",
              "1997  Fri Dec 23 23:57:56 +0000 2022  1161268713842204672         NaN   \n",
              "1998  Fri Dec 23 23:57:26 +0000 2022           1259295319        None   \n",
              "1999  Fri Dec 23 23:54:41 +0000 2022  1603846700539551746  Homophobia   \n",
              "\n",
              "      Comments  \n",
              "0          NaN  \n",
              "1          NaN  \n",
              "2          NaN  \n",
              "3          NaN  \n",
              "4          NaN  \n",
              "...        ...  \n",
              "1995       NaN  \n",
              "1996       NaN  \n",
              "1997       NaN  \n",
              "1998       NaN  \n",
              "1999       NaN  \n",
              "\n",
              "[2000 rows x 6 columns]"
            ],
            "text/html": [
              "\n",
              "  <div id=\"df-ce27e071-18d7-44a1-a8b4-9717c9d487d1\">\n",
              "    <div class=\"colab-df-container\">\n",
              "      <div>\n",
              "<style scoped>\n",
              "    .dataframe tbody tr th:only-of-type {\n",
              "        vertical-align: middle;\n",
              "    }\n",
              "\n",
              "    .dataframe tbody tr th {\n",
              "        vertical-align: top;\n",
              "    }\n",
              "\n",
              "    .dataframe thead th {\n",
              "        text-align: right;\n",
              "    }\n",
              "</style>\n",
              "<table border=\"1\" class=\"dataframe\">\n",
              "  <thead>\n",
              "    <tr style=\"text-align: right;\">\n",
              "      <th></th>\n",
              "      <th>id</th>\n",
              "      <th>text</th>\n",
              "      <th>created_at</th>\n",
              "      <th>user_id</th>\n",
              "      <th>label</th>\n",
              "      <th>Comments</th>\n",
              "    </tr>\n",
              "  </thead>\n",
              "  <tbody>\n",
              "    <tr>\n",
              "      <th>0</th>\n",
              "      <td>23</td>\n",
              "      <td>@nopsito_off @cpastibo @Mattotf1 ta pas la ref...</td>\n",
              "      <td>Mon Dec 26 18:53:52 +0000 2022</td>\n",
              "      <td>1596185810503667713</td>\n",
              "      <td>Homophobia</td>\n",
              "      <td>NaN</td>\n",
              "    </tr>\n",
              "    <tr>\n",
              "      <th>1</th>\n",
              "      <td>22</td>\n",
              "      <td>mais les meuf la qui disent \"oue c ma came\" et...</td>\n",
              "      <td>Mon Dec 26 18:54:30 +0000 2022</td>\n",
              "      <td>1520921717920706561</td>\n",
              "      <td>Homophobia</td>\n",
              "      <td>NaN</td>\n",
              "    </tr>\n",
              "    <tr>\n",
              "      <th>2</th>\n",
              "      <td>21</td>\n",
              "      <td>@kc667ekip Ils nous cassent les couilles les p...</td>\n",
              "      <td>Mon Dec 26 18:55:29 +0000 2022</td>\n",
              "      <td>1562767614937812993</td>\n",
              "      <td>Homophobia</td>\n",
              "      <td>NaN</td>\n",
              "    </tr>\n",
              "    <tr>\n",
              "      <th>3</th>\n",
              "      <td>20</td>\n",
              "      <td>@dorobo_lala @evxszn @kujantho @nai_inno C’est...</td>\n",
              "      <td>Mon Dec 26 19:00:01 +0000 2022</td>\n",
              "      <td>1539657588584898562</td>\n",
              "      <td>Homophobia</td>\n",
              "      <td>NaN</td>\n",
              "    </tr>\n",
              "    <tr>\n",
              "      <th>4</th>\n",
              "      <td>19</td>\n",
              "      <td>lesbienne 1 https://t.co/5bS7KXQqKU</td>\n",
              "      <td>Mon Dec 26 19:01:26 +0000 2022</td>\n",
              "      <td>1283153294446202887</td>\n",
              "      <td>Homophobia</td>\n",
              "      <td>NaN</td>\n",
              "    </tr>\n",
              "    <tr>\n",
              "      <th>...</th>\n",
              "      <td>...</td>\n",
              "      <td>...</td>\n",
              "      <td>...</td>\n",
              "      <td>...</td>\n",
              "      <td>...</td>\n",
              "      <td>...</td>\n",
              "    </tr>\n",
              "    <tr>\n",
              "      <th>1995</th>\n",
              "      <td>1996</td>\n",
              "      <td>@PANPANSKSK_ hb mon pd préféré</td>\n",
              "      <td>Sat Dec 24 00:10:20 +0000 2022</td>\n",
              "      <td>1408155151026819075</td>\n",
              "      <td>Homophobia</td>\n",
              "      <td>NaN</td>\n",
              "    </tr>\n",
              "    <tr>\n",
              "      <th>1996</th>\n",
              "      <td>1997</td>\n",
              "      <td>@YouYouvens @ActuFoot_ Il veut quoi le pd ?</td>\n",
              "      <td>Sat Dec 24 00:06:56 +0000 2022</td>\n",
              "      <td>1061108174</td>\n",
              "      <td>Homophobia</td>\n",
              "      <td>NaN</td>\n",
              "    </tr>\n",
              "    <tr>\n",
              "      <th>1997</th>\n",
              "      <td>1998</td>\n",
              "      <td>@koopstwt Voeu/PD/Guérison euh ?</td>\n",
              "      <td>Fri Dec 23 23:57:56 +0000 2022</td>\n",
              "      <td>1161268713842204672</td>\n",
              "      <td>NaN</td>\n",
              "      <td>NaN</td>\n",
              "    </tr>\n",
              "    <tr>\n",
              "      <th>1998</th>\n",
              "      <td>1999</td>\n",
              "      <td>Mais la partie 4 de Paradise PD ils sont allés...</td>\n",
              "      <td>Fri Dec 23 23:57:26 +0000 2022</td>\n",
              "      <td>1259295319</td>\n",
              "      <td>None</td>\n",
              "      <td>NaN</td>\n",
              "    </tr>\n",
              "    <tr>\n",
              "      <th>1999</th>\n",
              "      <td>2000</td>\n",
              "      <td>@Footballogue Une photo de pd</td>\n",
              "      <td>Fri Dec 23 23:54:41 +0000 2022</td>\n",
              "      <td>1603846700539551746</td>\n",
              "      <td>Homophobia</td>\n",
              "      <td>NaN</td>\n",
              "    </tr>\n",
              "  </tbody>\n",
              "</table>\n",
              "<p>2000 rows × 6 columns</p>\n",
              "</div>\n",
              "      <button class=\"colab-df-convert\" onclick=\"convertToInteractive('df-ce27e071-18d7-44a1-a8b4-9717c9d487d1')\"\n",
              "              title=\"Convert this dataframe to an interactive table.\"\n",
              "              style=\"display:none;\">\n",
              "        \n",
              "  <svg xmlns=\"http://www.w3.org/2000/svg\" height=\"24px\"viewBox=\"0 0 24 24\"\n",
              "       width=\"24px\">\n",
              "    <path d=\"M0 0h24v24H0V0z\" fill=\"none\"/>\n",
              "    <path d=\"M18.56 5.44l.94 2.06.94-2.06 2.06-.94-2.06-.94-.94-2.06-.94 2.06-2.06.94zm-11 1L8.5 8.5l.94-2.06 2.06-.94-2.06-.94L8.5 2.5l-.94 2.06-2.06.94zm10 10l.94 2.06.94-2.06 2.06-.94-2.06-.94-.94-2.06-.94 2.06-2.06.94z\"/><path d=\"M17.41 7.96l-1.37-1.37c-.4-.4-.92-.59-1.43-.59-.52 0-1.04.2-1.43.59L10.3 9.45l-7.72 7.72c-.78.78-.78 2.05 0 2.83L4 21.41c.39.39.9.59 1.41.59.51 0 1.02-.2 1.41-.59l7.78-7.78 2.81-2.81c.8-.78.8-2.07 0-2.86zM5.41 20L4 18.59l7.72-7.72 1.47 1.35L5.41 20z\"/>\n",
              "  </svg>\n",
              "      </button>\n",
              "      \n",
              "  <style>\n",
              "    .colab-df-container {\n",
              "      display:flex;\n",
              "      flex-wrap:wrap;\n",
              "      gap: 12px;\n",
              "    }\n",
              "\n",
              "    .colab-df-convert {\n",
              "      background-color: #E8F0FE;\n",
              "      border: none;\n",
              "      border-radius: 50%;\n",
              "      cursor: pointer;\n",
              "      display: none;\n",
              "      fill: #1967D2;\n",
              "      height: 32px;\n",
              "      padding: 0 0 0 0;\n",
              "      width: 32px;\n",
              "    }\n",
              "\n",
              "    .colab-df-convert:hover {\n",
              "      background-color: #E2EBFA;\n",
              "      box-shadow: 0px 1px 2px rgba(60, 64, 67, 0.3), 0px 1px 3px 1px rgba(60, 64, 67, 0.15);\n",
              "      fill: #174EA6;\n",
              "    }\n",
              "\n",
              "    [theme=dark] .colab-df-convert {\n",
              "      background-color: #3B4455;\n",
              "      fill: #D2E3FC;\n",
              "    }\n",
              "\n",
              "    [theme=dark] .colab-df-convert:hover {\n",
              "      background-color: #434B5C;\n",
              "      box-shadow: 0px 1px 3px 1px rgba(0, 0, 0, 0.15);\n",
              "      filter: drop-shadow(0px 1px 2px rgba(0, 0, 0, 0.3));\n",
              "      fill: #FFFFFF;\n",
              "    }\n",
              "  </style>\n",
              "\n",
              "      <script>\n",
              "        const buttonEl =\n",
              "          document.querySelector('#df-ce27e071-18d7-44a1-a8b4-9717c9d487d1 button.colab-df-convert');\n",
              "        buttonEl.style.display =\n",
              "          google.colab.kernel.accessAllowed ? 'block' : 'none';\n",
              "\n",
              "        async function convertToInteractive(key) {\n",
              "          const element = document.querySelector('#df-ce27e071-18d7-44a1-a8b4-9717c9d487d1');\n",
              "          const dataTable =\n",
              "            await google.colab.kernel.invokeFunction('convertToInteractive',\n",
              "                                                     [key], {});\n",
              "          if (!dataTable) return;\n",
              "\n",
              "          const docLinkHtml = 'Like what you see? Visit the ' +\n",
              "            '<a target=\"_blank\" href=https://colab.research.google.com/notebooks/data_table.ipynb>data table notebook</a>'\n",
              "            + ' to learn more about interactive tables.';\n",
              "          element.innerHTML = '';\n",
              "          dataTable['output_type'] = 'display_data';\n",
              "          await google.colab.output.renderOutput(dataTable, element);\n",
              "          const docLink = document.createElement('div');\n",
              "          docLink.innerHTML = docLinkHtml;\n",
              "          element.appendChild(docLink);\n",
              "        }\n",
              "      </script>\n",
              "    </div>\n",
              "  </div>\n",
              "  "
            ]
          },
          "metadata": {},
          "execution_count": 37
        }
      ]
    },
    {
      "cell_type": "code",
      "source": [
        "data['label'].value_counts()"
      ],
      "metadata": {
        "execution": {
          "iopub.status.busy": "2022-12-06T08:27:36.446757Z",
          "iopub.execute_input": "2022-12-06T08:27:36.447367Z",
          "iopub.status.idle": "2022-12-06T08:27:36.459762Z",
          "shell.execute_reply.started": "2022-12-06T08:27:36.447333Z",
          "shell.execute_reply": "2022-12-06T08:27:36.458753Z"
        },
        "trusted": true,
        "id": "d1Qk0-LAwZVb",
        "outputId": "6fc6f24a-2b6d-4665-8e83-7d7a16eb56ef",
        "colab": {
          "base_uri": "https://localhost:8080/"
        }
      },
      "execution_count": 38,
      "outputs": [
        {
          "output_type": "execute_result",
          "data": {
            "text/plain": [
              "Homophobia    1185\n",
              "None           813\n",
              "Name: label, dtype: int64"
            ]
          },
          "metadata": {},
          "execution_count": 38
        }
      ]
    },
    {
      "cell_type": "code",
      "source": [
        "plt.pie(data['label'].value_counts(), \n",
        "        labels=[\"Homophobia\",\"None\"],\n",
        "       autopct=\"%.3f%%\")"
      ],
      "metadata": {
        "execution": {
          "iopub.status.busy": "2022-12-06T08:27:36.461188Z",
          "iopub.execute_input": "2022-12-06T08:27:36.461678Z",
          "iopub.status.idle": "2022-12-06T08:27:36.610646Z",
          "shell.execute_reply.started": "2022-12-06T08:27:36.461638Z",
          "shell.execute_reply": "2022-12-06T08:27:36.609113Z"
        },
        "trusted": true,
        "id": "u5hN5fJGwZVb",
        "outputId": "1100069f-ffe2-4290-be84-697b73b70e4c",
        "colab": {
          "base_uri": "https://localhost:8080/",
          "height": 352
        }
      },
      "execution_count": 39,
      "outputs": [
        {
          "output_type": "execute_result",
          "data": {
            "text/plain": [
              "([<matplotlib.patches.Wedge at 0x7f2e1f3fa640>,\n",
              "  <matplotlib.patches.Wedge at 0x7f2e1f3faaf0>],\n",
              " [Text(-0.3171401229221063, 1.0532911005192018, 'Homophobia'),\n",
              "  Text(0.31714012292210664, -1.0532911005192018, 'None')],\n",
              " [Text(-0.17298552159387615, 0.5745224184650192, '59.309%'),\n",
              "  Text(0.1729855215938763, -0.5745224184650191, '40.691%')])"
            ]
          },
          "metadata": {},
          "execution_count": 39
        },
        {
          "output_type": "display_data",
          "data": {
            "text/plain": [
              "<Figure size 432x288 with 1 Axes>"
            ],
            "image/png": "[encoded data removed]"
          },
          "metadata": {}
        }
      ]
    },
    {
      "cell_type": "code",
      "source": [
        "plt.bar(x=[\"Homophobia\",\"None\"], \n",
        "        height=data['label'].value_counts())"
      ],
      "metadata": {
        "execution": {
          "iopub.status.busy": "2022-12-06T08:27:36.612170Z",
          "iopub.execute_input": "2022-12-06T08:27:36.612533Z",
          "iopub.status.idle": "2022-12-06T08:27:36.815046Z",
          "shell.execute_reply.started": "2022-12-06T08:27:36.612496Z",
          "shell.execute_reply": "2022-12-06T08:27:36.813776Z"
        },
        "trusted": true,
        "id": "Bmg89oNMwZVb",
        "outputId": "0b155ead-36d1-4b15-9768-3c4f0a7977a6",
        "colab": {
          "base_uri": "https://localhost:8080/",
          "height": 282
        }
      },
      "execution_count": 40,
      "outputs": [
        {
          "output_type": "execute_result",
          "data": {
            "text/plain": [
              "<BarContainer object of 2 artists>"
            ]
          },
          "metadata": {},
          "execution_count": 40
        },
        {
          "output_type": "display_data",
          "data": {
            "text/plain": [
              "<Figure size 432x288 with 1 Axes>"
            ],
            "image/png": "[encoded data removed]"
          },
          "metadata": {
            "needs_background": "light"
          }
        }
      ]
    },
    {
      "cell_type": "markdown",
      "source": [
        "### We can see that we have a roughly balanced dataset, so we don't really need to do any big data manipulation. We have about 60% of the texts that are homophobic, and 40% that aren't. We will see later how to balance this data so that we have an even number of tweets.\n",
        "### Now, we need to clean the data by getting read of the stopwords that are commonly used in french, as well as tokenizing and lemmatizing our texts."
      ],
      "metadata": {
        "id": "mVz7_yS7wZVb"
      }
    },
    {
      "cell_type": "markdown",
      "source": [
        "# PART 3: CLEANING THE DATA"
      ],
      "metadata": {
        "id": "DwMCqC-awZVb"
      }
    },
    {
      "cell_type": "code",
      "source": [
        "def clean_text(data):\n",
        "    \"\"\"\n",
        "    input: data: a dataframe containing texts to be cleaned\n",
        "    return: the same dataframe with an added column of clean text\n",
        "    \"\"\"\n",
        "    clean_data = data.copy()\n",
        "    clean_data = clean_data[['text', 'label']]\n",
        "    stop_words = stopwords.words('french')\n",
        "    clean_text = []\n",
        "    tokenizer = RegexpTokenizer(r'\\w+')\n",
        "    lemmatizer = WordNetLemmatizer()\n",
        "\n",
        "    for idx in range(len(data)):\n",
        "        text = clean_data['text'][idx]\n",
        "        label = clean_data['label'][idx]\n",
        "        text_lowercase = text.lower()\n",
        "        text_no_stopwords = \" \".join([word for word in text_lowercase.split() if word not in (stop_words)])\n",
        "        text_tokenized = tokenizer.tokenize(text_no_stopwords)\n",
        "        text_lemmatized = [lemmatizer.lemmatize(token) for token in text_tokenized]\n",
        "        clean_text = ' '.join(text_lemmatized)\n",
        "        clean_data['text'][idx] = clean_text\n",
        "    return clean_data"
      ],
      "metadata": {
        "execution": {
          "iopub.status.busy": "2022-12-06T08:27:36.817288Z",
          "iopub.execute_input": "2022-12-06T08:27:36.817667Z",
          "iopub.status.idle": "2022-12-06T08:27:36.825698Z",
          "shell.execute_reply.started": "2022-12-06T08:27:36.817622Z",
          "shell.execute_reply": "2022-12-06T08:27:36.824352Z"
        },
        "trusted": true,
        "id": "6dlovJcXwZVb"
      },
      "execution_count": 41,
      "outputs": []
    },
    {
      "cell_type": "markdown",
      "source": [
        "### The above function does the following: it reads in a dataframe, and selects the 'text' column. It will lemmatize a word if the word is not a stopword or a punctuation. This is useful because otherwise we would have a lot of superfluous, and ultimately useless, data inside our dataset. We then create a new Dataframe to avoid confusions with the trainining dataset. "
      ],
      "metadata": {
        "id": "SE4naKVzwZVb"
      }
    },
    {
      "cell_type": "code",
      "source": [
        "clean_data = clean_text(data)"
      ],
      "metadata": {
        "execution": {
          "iopub.status.busy": "2022-12-06T08:27:36.827563Z",
          "iopub.execute_input": "2022-12-06T08:27:36.827970Z",
          "iopub.status.idle": "2022-12-06T08:27:40.695939Z",
          "shell.execute_reply.started": "2022-12-06T08:27:36.827922Z",
          "shell.execute_reply": "2022-12-06T08:27:40.694887Z"
        },
        "trusted": true,
        "id": "D0wqtKt0wZVc"
      },
      "execution_count": 42,
      "outputs": []
    },
    {
      "cell_type": "code",
      "source": [
        "clean_data"
      ],
      "metadata": {
        "colab": {
          "base_uri": "https://localhost:8080/",
          "height": 424
        },
        "id": "HICtOz6z4VNS",
        "outputId": "db58a77c-ed3a-414e-bd34-c51d9334c90a"
      },
      "execution_count": 43,
      "outputs": [
        {
          "output_type": "execute_result",
          "data": {
            "text/plain": [
              "                                                   text       label\n",
              "0     nopsito_off cpastibo mattotf1 ref pr g rien co...  Homophobia\n",
              "1     meuf disent oue came etc wallah très lesbienne...  Homophobia\n",
              "2                         kc667ekip cassent couilles pd  Homophobia\n",
              "3     dorobo_lala evxszn kujantho nai_inno c est vra...  Homophobia\n",
              "4                      lesbienne 1 http t co 5bs7kxqqku  Homophobia\n",
              "...                                                 ...         ...\n",
              "1995                          panpansksk_ hb pd préféré  Homophobia\n",
              "1996                  youyouvens actufoot_ veut quoi pd  Homophobia\n",
              "1997                      koopstwt voeu pd guérison euh         NaN\n",
              "1998  partie 4 paradise pd allés vraiment loin j ai mot        None\n",
              "1999                              footballogue photo pd  Homophobia\n",
              "\n",
              "[2000 rows x 2 columns]"
            ],
            "text/html": [
              "\n",
              "  <div id=\"df-f5201a7f-d595-4cc3-b3cd-6c8d17680309\">\n",
              "    <div class=\"colab-df-container\">\n",
              "      <div>\n",
              "<style scoped>\n",
              "    .dataframe tbody tr th:only-of-type {\n",
              "        vertical-align: middle;\n",
              "    }\n",
              "\n",
              "    .dataframe tbody tr th {\n",
              "        vertical-align: top;\n",
              "    }\n",
              "\n",
              "    .dataframe thead th {\n",
              "        text-align: right;\n",
              "    }\n",
              "</style>\n",
              "<table border=\"1\" class=\"dataframe\">\n",
              "  <thead>\n",
              "    <tr style=\"text-align: right;\">\n",
              "      <th></th>\n",
              "      <th>text</th>\n",
              "      <th>label</th>\n",
              "    </tr>\n",
              "  </thead>\n",
              "  <tbody>\n",
              "    <tr>\n",
              "      <th>0</th>\n",
              "      <td>nopsito_off cpastibo mattotf1 ref pr g rien co...</td>\n",
              "      <td>Homophobia</td>\n",
              "    </tr>\n",
              "    <tr>\n",
              "      <th>1</th>\n",
              "      <td>meuf disent oue came etc wallah très lesbienne...</td>\n",
              "      <td>Homophobia</td>\n",
              "    </tr>\n",
              "    <tr>\n",
              "      <th>2</th>\n",
              "      <td>kc667ekip cassent couilles pd</td>\n",
              "      <td>Homophobia</td>\n",
              "    </tr>\n",
              "    <tr>\n",
              "      <th>3</th>\n",
              "      <td>dorobo_lala evxszn kujantho nai_inno c est vra...</td>\n",
              "      <td>Homophobia</td>\n",
              "    </tr>\n",
              "    <tr>\n",
              "      <th>4</th>\n",
              "      <td>lesbienne 1 http t co 5bs7kxqqku</td>\n",
              "      <td>Homophobia</td>\n",
              "    </tr>\n",
              "    <tr>\n",
              "      <th>...</th>\n",
              "      <td>...</td>\n",
              "      <td>...</td>\n",
              "    </tr>\n",
              "    <tr>\n",
              "      <th>1995</th>\n",
              "      <td>panpansksk_ hb pd préféré</td>\n",
              "      <td>Homophobia</td>\n",
              "    </tr>\n",
              "    <tr>\n",
              "      <th>1996</th>\n",
              "      <td>youyouvens actufoot_ veut quoi pd</td>\n",
              "      <td>Homophobia</td>\n",
              "    </tr>\n",
              "    <tr>\n",
              "      <th>1997</th>\n",
              "      <td>koopstwt voeu pd guérison euh</td>\n",
              "      <td>NaN</td>\n",
              "    </tr>\n",
              "    <tr>\n",
              "      <th>1998</th>\n",
              "      <td>partie 4 paradise pd allés vraiment loin j ai mot</td>\n",
              "      <td>None</td>\n",
              "    </tr>\n",
              "    <tr>\n",
              "      <th>1999</th>\n",
              "      <td>footballogue photo pd</td>\n",
              "      <td>Homophobia</td>\n",
              "    </tr>\n",
              "  </tbody>\n",
              "</table>\n",
              "<p>2000 rows × 2 columns</p>\n",
              "</div>\n",
              "      <button class=\"colab-df-convert\" onclick=\"convertToInteractive('df-f5201a7f-d595-4cc3-b3cd-6c8d17680309')\"\n",
              "              title=\"Convert this dataframe to an interactive table.\"\n",
              "              style=\"display:none;\">\n",
              "        \n",
              "  <svg xmlns=\"http://www.w3.org/2000/svg\" height=\"24px\"viewBox=\"0 0 24 24\"\n",
              "       width=\"24px\">\n",
              "    <path d=\"M0 0h24v24H0V0z\" fill=\"none\"/>\n",
              "    <path d=\"M18.56 5.44l.94 2.06.94-2.06 2.06-.94-2.06-.94-.94-2.06-.94 2.06-2.06.94zm-11 1L8.5 8.5l.94-2.06 2.06-.94-2.06-.94L8.5 2.5l-.94 2.06-2.06.94zm10 10l.94 2.06.94-2.06 2.06-.94-2.06-.94-.94-2.06-.94 2.06-2.06.94z\"/><path d=\"M17.41 7.96l-1.37-1.37c-.4-.4-.92-.59-1.43-.59-.52 0-1.04.2-1.43.59L10.3 9.45l-7.72 7.72c-.78.78-.78 2.05 0 2.83L4 21.41c.39.39.9.59 1.41.59.51 0 1.02-.2 1.41-.59l7.78-7.78 2.81-2.81c.8-.78.8-2.07 0-2.86zM5.41 20L4 18.59l7.72-7.72 1.47 1.35L5.41 20z\"/>\n",
              "  </svg>\n",
              "      </button>\n",
              "      \n",
              "  <style>\n",
              "    .colab-df-container {\n",
              "      display:flex;\n",
              "      flex-wrap:wrap;\n",
              "      gap: 12px;\n",
              "    }\n",
              "\n",
              "    .colab-df-convert {\n",
              "      background-color: #E8F0FE;\n",
              "      border: none;\n",
              "      border-radius: 50%;\n",
              "      cursor: pointer;\n",
              "      display: none;\n",
              "      fill: #1967D2;\n",
              "      height: 32px;\n",
              "      padding: 0 0 0 0;\n",
              "      width: 32px;\n",
              "    }\n",
              "\n",
              "    .colab-df-convert:hover {\n",
              "      background-color: #E2EBFA;\n",
              "      box-shadow: 0px 1px 2px rgba(60, 64, 67, 0.3), 0px 1px 3px 1px rgba(60, 64, 67, 0.15);\n",
              "      fill: #174EA6;\n",
              "    }\n",
              "\n",
              "    [theme=dark] .colab-df-convert {\n",
              "      background-color: #3B4455;\n",
              "      fill: #D2E3FC;\n",
              "    }\n",
              "\n",
              "    [theme=dark] .colab-df-convert:hover {\n",
              "      background-color: #434B5C;\n",
              "      box-shadow: 0px 1px 3px 1px rgba(0, 0, 0, 0.15);\n",
              "      filter: drop-shadow(0px 1px 2px rgba(0, 0, 0, 0.3));\n",
              "      fill: #FFFFFF;\n",
              "    }\n",
              "  </style>\n",
              "\n",
              "      <script>\n",
              "        const buttonEl =\n",
              "          document.querySelector('#df-f5201a7f-d595-4cc3-b3cd-6c8d17680309 button.colab-df-convert');\n",
              "        buttonEl.style.display =\n",
              "          google.colab.kernel.accessAllowed ? 'block' : 'none';\n",
              "\n",
              "        async function convertToInteractive(key) {\n",
              "          const element = document.querySelector('#df-f5201a7f-d595-4cc3-b3cd-6c8d17680309');\n",
              "          const dataTable =\n",
              "            await google.colab.kernel.invokeFunction('convertToInteractive',\n",
              "                                                     [key], {});\n",
              "          if (!dataTable) return;\n",
              "\n",
              "          const docLinkHtml = 'Like what you see? Visit the ' +\n",
              "            '<a target=\"_blank\" href=https://colab.research.google.com/notebooks/data_table.ipynb>data table notebook</a>'\n",
              "            + ' to learn more about interactive tables.';\n",
              "          element.innerHTML = '';\n",
              "          dataTable['output_type'] = 'display_data';\n",
              "          await google.colab.output.renderOutput(dataTable, element);\n",
              "          const docLink = document.createElement('div');\n",
              "          docLink.innerHTML = docLinkHtml;\n",
              "          element.appendChild(docLink);\n",
              "        }\n",
              "      </script>\n",
              "    </div>\n",
              "  </div>\n",
              "  "
            ]
          },
          "metadata": {},
          "execution_count": 43
        }
      ]
    },
    {
      "cell_type": "markdown",
      "source": [
        "### We can drop the 'text' column since we created a new one with the clean text in it, we can also drop the 'keyword' and 'location' column as well since we will classify based only on the contents of a text."
      ],
      "metadata": {
        "id": "rLUbGPfZwZVc"
      }
    },
    {
      "cell_type": "code",
      "source": [
        "clean_data['label'].value_counts()"
      ],
      "metadata": {
        "execution": {
          "iopub.status.busy": "2022-12-06T08:27:40.790966Z",
          "iopub.execute_input": "2022-12-06T08:27:40.791410Z",
          "iopub.status.idle": "2022-12-06T08:27:40.801469Z",
          "shell.execute_reply.started": "2022-12-06T08:27:40.791375Z",
          "shell.execute_reply": "2022-12-06T08:27:40.800572Z"
        },
        "trusted": true,
        "id": "WlQyG76MwZVc",
        "outputId": "aeef9064-53c3-41eb-937e-56f2092a4ef7",
        "colab": {
          "base_uri": "https://localhost:8080/"
        }
      },
      "execution_count": 44,
      "outputs": [
        {
          "output_type": "execute_result",
          "data": {
            "text/plain": [
              "Homophobia    1185\n",
              "None           813\n",
              "Name: label, dtype: int64"
            ]
          },
          "metadata": {},
          "execution_count": 44
        }
      ]
    },
    {
      "cell_type": "markdown",
      "source": [
        "### Since we don't have a fully balanced dataset, we are going to keep only 800 samples from each category. for the real model, we would need more data, but since I'm using a small dataset I don't have a choice, so 800 will do fine :)      \n",
        "### We then merge each dataframe inside a new dataframe that we will use to build our model."
      ],
      "metadata": {
        "id": "tJzcDTY9wZVc"
      }
    },
    {
      "cell_type": "code",
      "source": [
        "sample_amount = 800\n",
        "\n",
        "target = clean_data[clean_data['label']=='Homophobia'].sample(n=sample_amount)\n",
        "non_target = clean_data[clean_data['label']=='None'].sample(n=sample_amount)"
      ],
      "metadata": {
        "execution": {
          "iopub.status.busy": "2022-12-06T08:27:40.802736Z",
          "iopub.execute_input": "2022-12-06T08:27:40.803457Z",
          "iopub.status.idle": "2022-12-06T08:27:40.813439Z",
          "shell.execute_reply.started": "2022-12-06T08:27:40.803413Z",
          "shell.execute_reply": "2022-12-06T08:27:40.812492Z"
        },
        "trusted": true,
        "id": "O9symCvcwZVc"
      },
      "execution_count": 45,
      "outputs": []
    },
    {
      "cell_type": "code",
      "source": [
        "target.head()"
      ],
      "metadata": {
        "execution": {
          "iopub.status.busy": "2022-12-06T08:27:40.814690Z",
          "iopub.execute_input": "2022-12-06T08:27:40.815310Z",
          "iopub.status.idle": "2022-12-06T08:27:40.827342Z",
          "shell.execute_reply.started": "2022-12-06T08:27:40.815273Z",
          "shell.execute_reply": "2022-12-06T08:27:40.826230Z"
        },
        "trusted": true,
        "id": "IH1G63hewZVc",
        "outputId": "89bc04e5-3340-474e-80d7-50dbd43bdbd8",
        "colab": {
          "base_uri": "https://localhost:8080/",
          "height": 206
        }
      },
      "execution_count": 46,
      "outputs": [
        {
          "output_type": "execute_result",
          "data": {
            "text/plain": [
              "                                                   text       label\n",
              "1041  apkaa__ bouyaaa217 _befootball aime juste fami...  Homophobia\n",
              "967                                 _befootball fort pd  Homophobia\n",
              "1475  j entre maison oncle dit j ai coupe pédé vanil...  Homophobia\n",
              "1906                 _confessfantasm va finir lesbienne  Homophobia\n",
              "415   askip s il change couche aussi c est pd http t...  Homophobia"
            ],
            "text/html": [
              "\n",
              "  <div id=\"df-bb8875ee-7908-413a-9dfb-1ff647054937\">\n",
              "    <div class=\"colab-df-container\">\n",
              "      <div>\n",
              "<style scoped>\n",
              "    .dataframe tbody tr th:only-of-type {\n",
              "        vertical-align: middle;\n",
              "    }\n",
              "\n",
              "    .dataframe tbody tr th {\n",
              "        vertical-align: top;\n",
              "    }\n",
              "\n",
              "    .dataframe thead th {\n",
              "        text-align: right;\n",
              "    }\n",
              "</style>\n",
              "<table border=\"1\" class=\"dataframe\">\n",
              "  <thead>\n",
              "    <tr style=\"text-align: right;\">\n",
              "      <th></th>\n",
              "      <th>text</th>\n",
              "      <th>label</th>\n",
              "    </tr>\n",
              "  </thead>\n",
              "  <tbody>\n",
              "    <tr>\n",
              "      <th>1041</th>\n",
              "      <td>apkaa__ bouyaaa217 _befootball aime juste fami...</td>\n",
              "      <td>Homophobia</td>\n",
              "    </tr>\n",
              "    <tr>\n",
              "      <th>967</th>\n",
              "      <td>_befootball fort pd</td>\n",
              "      <td>Homophobia</td>\n",
              "    </tr>\n",
              "    <tr>\n",
              "      <th>1475</th>\n",
              "      <td>j entre maison oncle dit j ai coupe pédé vanil...</td>\n",
              "      <td>Homophobia</td>\n",
              "    </tr>\n",
              "    <tr>\n",
              "      <th>1906</th>\n",
              "      <td>_confessfantasm va finir lesbienne</td>\n",
              "      <td>Homophobia</td>\n",
              "    </tr>\n",
              "    <tr>\n",
              "      <th>415</th>\n",
              "      <td>askip s il change couche aussi c est pd http t...</td>\n",
              "      <td>Homophobia</td>\n",
              "    </tr>\n",
              "  </tbody>\n",
              "</table>\n",
              "</div>\n",
              "      <button class=\"colab-df-convert\" onclick=\"convertToInteractive('df-bb8875ee-7908-413a-9dfb-1ff647054937')\"\n",
              "              title=\"Convert this dataframe to an interactive table.\"\n",
              "              style=\"display:none;\">\n",
              "        \n",
              "  <svg xmlns=\"http://www.w3.org/2000/svg\" height=\"24px\"viewBox=\"0 0 24 24\"\n",
              "       width=\"24px\">\n",
              "    <path d=\"M0 0h24v24H0V0z\" fill=\"none\"/>\n",
              "    <path d=\"M18.56 5.44l.94 2.06.94-2.06 2.06-.94-2.06-.94-.94-2.06-.94 2.06-2.06.94zm-11 1L8.5 8.5l.94-2.06 2.06-.94-2.06-.94L8.5 2.5l-.94 2.06-2.06.94zm10 10l.94 2.06.94-2.06 2.06-.94-2.06-.94-.94-2.06-.94 2.06-2.06.94z\"/><path d=\"M17.41 7.96l-1.37-1.37c-.4-.4-.92-.59-1.43-.59-.52 0-1.04.2-1.43.59L10.3 9.45l-7.72 7.72c-.78.78-.78 2.05 0 2.83L4 21.41c.39.39.9.59 1.41.59.51 0 1.02-.2 1.41-.59l7.78-7.78 2.81-2.81c.8-.78.8-2.07 0-2.86zM5.41 20L4 18.59l7.72-7.72 1.47 1.35L5.41 20z\"/>\n",
              "  </svg>\n",
              "      </button>\n",
              "      \n",
              "  <style>\n",
              "    .colab-df-container {\n",
              "      display:flex;\n",
              "      flex-wrap:wrap;\n",
              "      gap: 12px;\n",
              "    }\n",
              "\n",
              "    .colab-df-convert {\n",
              "      background-color: #E8F0FE;\n",
              "      border: none;\n",
              "      border-radius: 50%;\n",
              "      cursor: pointer;\n",
              "      display: none;\n",
              "      fill: #1967D2;\n",
              "      height: 32px;\n",
              "      padding: 0 0 0 0;\n",
              "      width: 32px;\n",
              "    }\n",
              "\n",
              "    .colab-df-convert:hover {\n",
              "      background-color: #E2EBFA;\n",
              "      box-shadow: 0px 1px 2px rgba(60, 64, 67, 0.3), 0px 1px 3px 1px rgba(60, 64, 67, 0.15);\n",
              "      fill: #174EA6;\n",
              "    }\n",
              "\n",
              "    [theme=dark] .colab-df-convert {\n",
              "      background-color: #3B4455;\n",
              "      fill: #D2E3FC;\n",
              "    }\n",
              "\n",
              "    [theme=dark] .colab-df-convert:hover {\n",
              "      background-color: #434B5C;\n",
              "      box-shadow: 0px 1px 3px 1px rgba(0, 0, 0, 0.15);\n",
              "      filter: drop-shadow(0px 1px 2px rgba(0, 0, 0, 0.3));\n",
              "      fill: #FFFFFF;\n",
              "    }\n",
              "  </style>\n",
              "\n",
              "      <script>\n",
              "        const buttonEl =\n",
              "          document.querySelector('#df-bb8875ee-7908-413a-9dfb-1ff647054937 button.colab-df-convert');\n",
              "        buttonEl.style.display =\n",
              "          google.colab.kernel.accessAllowed ? 'block' : 'none';\n",
              "\n",
              "        async function convertToInteractive(key) {\n",
              "          const element = document.querySelector('#df-bb8875ee-7908-413a-9dfb-1ff647054937');\n",
              "          const dataTable =\n",
              "            await google.colab.kernel.invokeFunction('convertToInteractive',\n",
              "                                                     [key], {});\n",
              "          if (!dataTable) return;\n",
              "\n",
              "          const docLinkHtml = 'Like what you see? Visit the ' +\n",
              "            '<a target=\"_blank\" href=https://colab.research.google.com/notebooks/data_table.ipynb>data table notebook</a>'\n",
              "            + ' to learn more about interactive tables.';\n",
              "          element.innerHTML = '';\n",
              "          dataTable['output_type'] = 'display_data';\n",
              "          await google.colab.output.renderOutput(dataTable, element);\n",
              "          const docLink = document.createElement('div');\n",
              "          docLink.innerHTML = docLinkHtml;\n",
              "          element.appendChild(docLink);\n",
              "        }\n",
              "      </script>\n",
              "    </div>\n",
              "  </div>\n",
              "  "
            ]
          },
          "metadata": {},
          "execution_count": 46
        }
      ]
    },
    {
      "cell_type": "code",
      "source": [
        "non_target.head()"
      ],
      "metadata": {
        "execution": {
          "iopub.status.busy": "2022-12-06T08:27:40.829282Z",
          "iopub.execute_input": "2022-12-06T08:27:40.829702Z",
          "iopub.status.idle": "2022-12-06T08:27:40.838789Z",
          "shell.execute_reply.started": "2022-12-06T08:27:40.829669Z",
          "shell.execute_reply": "2022-12-06T08:27:40.837710Z"
        },
        "trusted": true,
        "id": "fO7VUPxwwZVc",
        "outputId": "86044b30-eaac-4abd-a5fd-110eb2d6b31a",
        "colab": {
          "base_uri": "https://localhost:8080/",
          "height": 206
        }
      },
      "execution_count": 47,
      "outputs": [
        {
          "output_type": "execute_result",
          "data": {
            "text/plain": [
              "                                                   text label\n",
              "1655  littérature lesbienne déferle librairies trouv...  None\n",
              "116   litteul_kevin heubeu31 papidou07 patrickferstl...  None\n",
              "612                                           lesbienne  None\n",
              "1595        maxime cochard donne envie d être lesbienne  None\n",
              "1529  ew j ai fait connaissance d une fille vacances...  None"
            ],
            "text/html": [
              "\n",
              "  <div id=\"df-e1aedbcb-bafe-425e-a299-9844787614f8\">\n",
              "    <div class=\"colab-df-container\">\n",
              "      <div>\n",
              "<style scoped>\n",
              "    .dataframe tbody tr th:only-of-type {\n",
              "        vertical-align: middle;\n",
              "    }\n",
              "\n",
              "    .dataframe tbody tr th {\n",
              "        vertical-align: top;\n",
              "    }\n",
              "\n",
              "    .dataframe thead th {\n",
              "        text-align: right;\n",
              "    }\n",
              "</style>\n",
              "<table border=\"1\" class=\"dataframe\">\n",
              "  <thead>\n",
              "    <tr style=\"text-align: right;\">\n",
              "      <th></th>\n",
              "      <th>text</th>\n",
              "      <th>label</th>\n",
              "    </tr>\n",
              "  </thead>\n",
              "  <tbody>\n",
              "    <tr>\n",
              "      <th>1655</th>\n",
              "      <td>littérature lesbienne déferle librairies trouv...</td>\n",
              "      <td>None</td>\n",
              "    </tr>\n",
              "    <tr>\n",
              "      <th>116</th>\n",
              "      <td>litteul_kevin heubeu31 papidou07 patrickferstl...</td>\n",
              "      <td>None</td>\n",
              "    </tr>\n",
              "    <tr>\n",
              "      <th>612</th>\n",
              "      <td>lesbienne</td>\n",
              "      <td>None</td>\n",
              "    </tr>\n",
              "    <tr>\n",
              "      <th>1595</th>\n",
              "      <td>maxime cochard donne envie d être lesbienne</td>\n",
              "      <td>None</td>\n",
              "    </tr>\n",
              "    <tr>\n",
              "      <th>1529</th>\n",
              "      <td>ew j ai fait connaissance d une fille vacances...</td>\n",
              "      <td>None</td>\n",
              "    </tr>\n",
              "  </tbody>\n",
              "</table>\n",
              "</div>\n",
              "      <button class=\"colab-df-convert\" onclick=\"convertToInteractive('df-e1aedbcb-bafe-425e-a299-9844787614f8')\"\n",
              "              title=\"Convert this dataframe to an interactive table.\"\n",
              "              style=\"display:none;\">\n",
              "        \n",
              "  <svg xmlns=\"http://www.w3.org/2000/svg\" height=\"24px\"viewBox=\"0 0 24 24\"\n",
              "       width=\"24px\">\n",
              "    <path d=\"M0 0h24v24H0V0z\" fill=\"none\"/>\n",
              "    <path d=\"M18.56 5.44l.94 2.06.94-2.06 2.06-.94-2.06-.94-.94-2.06-.94 2.06-2.06.94zm-11 1L8.5 8.5l.94-2.06 2.06-.94-2.06-.94L8.5 2.5l-.94 2.06-2.06.94zm10 10l.94 2.06.94-2.06 2.06-.94-2.06-.94-.94-2.06-.94 2.06-2.06.94z\"/><path d=\"M17.41 7.96l-1.37-1.37c-.4-.4-.92-.59-1.43-.59-.52 0-1.04.2-1.43.59L10.3 9.45l-7.72 7.72c-.78.78-.78 2.05 0 2.83L4 21.41c.39.39.9.59 1.41.59.51 0 1.02-.2 1.41-.59l7.78-7.78 2.81-2.81c.8-.78.8-2.07 0-2.86zM5.41 20L4 18.59l7.72-7.72 1.47 1.35L5.41 20z\"/>\n",
              "  </svg>\n",
              "      </button>\n",
              "      \n",
              "  <style>\n",
              "    .colab-df-container {\n",
              "      display:flex;\n",
              "      flex-wrap:wrap;\n",
              "      gap: 12px;\n",
              "    }\n",
              "\n",
              "    .colab-df-convert {\n",
              "      background-color: #E8F0FE;\n",
              "      border: none;\n",
              "      border-radius: 50%;\n",
              "      cursor: pointer;\n",
              "      display: none;\n",
              "      fill: #1967D2;\n",
              "      height: 32px;\n",
              "      padding: 0 0 0 0;\n",
              "      width: 32px;\n",
              "    }\n",
              "\n",
              "    .colab-df-convert:hover {\n",
              "      background-color: #E2EBFA;\n",
              "      box-shadow: 0px 1px 2px rgba(60, 64, 67, 0.3), 0px 1px 3px 1px rgba(60, 64, 67, 0.15);\n",
              "      fill: #174EA6;\n",
              "    }\n",
              "\n",
              "    [theme=dark] .colab-df-convert {\n",
              "      background-color: #3B4455;\n",
              "      fill: #D2E3FC;\n",
              "    }\n",
              "\n",
              "    [theme=dark] .colab-df-convert:hover {\n",
              "      background-color: #434B5C;\n",
              "      box-shadow: 0px 1px 3px 1px rgba(0, 0, 0, 0.15);\n",
              "      filter: drop-shadow(0px 1px 2px rgba(0, 0, 0, 0.3));\n",
              "      fill: #FFFFFF;\n",
              "    }\n",
              "  </style>\n",
              "\n",
              "      <script>\n",
              "        const buttonEl =\n",
              "          document.querySelector('#df-e1aedbcb-bafe-425e-a299-9844787614f8 button.colab-df-convert');\n",
              "        buttonEl.style.display =\n",
              "          google.colab.kernel.accessAllowed ? 'block' : 'none';\n",
              "\n",
              "        async function convertToInteractive(key) {\n",
              "          const element = document.querySelector('#df-e1aedbcb-bafe-425e-a299-9844787614f8');\n",
              "          const dataTable =\n",
              "            await google.colab.kernel.invokeFunction('convertToInteractive',\n",
              "                                                     [key], {});\n",
              "          if (!dataTable) return;\n",
              "\n",
              "          const docLinkHtml = 'Like what you see? Visit the ' +\n",
              "            '<a target=\"_blank\" href=https://colab.research.google.com/notebooks/data_table.ipynb>data table notebook</a>'\n",
              "            + ' to learn more about interactive tables.';\n",
              "          element.innerHTML = '';\n",
              "          dataTable['output_type'] = 'display_data';\n",
              "          await google.colab.output.renderOutput(dataTable, element);\n",
              "          const docLink = document.createElement('div');\n",
              "          docLink.innerHTML = docLinkHtml;\n",
              "          element.appendChild(docLink);\n",
              "        }\n",
              "      </script>\n",
              "    </div>\n",
              "  </div>\n",
              "  "
            ]
          },
          "metadata": {},
          "execution_count": 47
        }
      ]
    },
    {
      "cell_type": "code",
      "source": [
        "data = pd.concat([target, non_target])\n",
        "data.reset_index(inplace=True)\n",
        "data.drop(['index'], axis=1, inplace=True)\n",
        "data.head()"
      ],
      "metadata": {
        "execution": {
          "iopub.status.busy": "2022-12-06T08:27:40.840635Z",
          "iopub.execute_input": "2022-12-06T08:27:40.841318Z",
          "iopub.status.idle": "2022-12-06T08:27:40.856159Z",
          "shell.execute_reply.started": "2022-12-06T08:27:40.841284Z",
          "shell.execute_reply": "2022-12-06T08:27:40.855518Z"
        },
        "trusted": true,
        "id": "51JwI14jwZVd",
        "outputId": "14846327-4d12-4eea-d785-d423325ee74c",
        "colab": {
          "base_uri": "https://localhost:8080/",
          "height": 206
        }
      },
      "execution_count": 48,
      "outputs": [
        {
          "output_type": "execute_result",
          "data": {
            "text/plain": [
              "                                                text       label\n",
              "0  apkaa__ bouyaaa217 _befootball aime juste fami...  Homophobia\n",
              "1                                _befootball fort pd  Homophobia\n",
              "2  j entre maison oncle dit j ai coupe pédé vanil...  Homophobia\n",
              "3                 _confessfantasm va finir lesbienne  Homophobia\n",
              "4  askip s il change couche aussi c est pd http t...  Homophobia"
            ],
            "text/html": [
              "\n",
              "  <div id=\"df-f1c860c6-7d79-4d34-9c7e-514ba47d960c\">\n",
              "    <div class=\"colab-df-container\">\n",
              "      <div>\n",
              "<style scoped>\n",
              "    .dataframe tbody tr th:only-of-type {\n",
              "        vertical-align: middle;\n",
              "    }\n",
              "\n",
              "    .dataframe tbody tr th {\n",
              "        vertical-align: top;\n",
              "    }\n",
              "\n",
              "    .dataframe thead th {\n",
              "        text-align: right;\n",
              "    }\n",
              "</style>\n",
              "<table border=\"1\" class=\"dataframe\">\n",
              "  <thead>\n",
              "    <tr style=\"text-align: right;\">\n",
              "      <th></th>\n",
              "      <th>text</th>\n",
              "      <th>label</th>\n",
              "    </tr>\n",
              "  </thead>\n",
              "  <tbody>\n",
              "    <tr>\n",
              "      <th>0</th>\n",
              "      <td>apkaa__ bouyaaa217 _befootball aime juste fami...</td>\n",
              "      <td>Homophobia</td>\n",
              "    </tr>\n",
              "    <tr>\n",
              "      <th>1</th>\n",
              "      <td>_befootball fort pd</td>\n",
              "      <td>Homophobia</td>\n",
              "    </tr>\n",
              "    <tr>\n",
              "      <th>2</th>\n",
              "      <td>j entre maison oncle dit j ai coupe pédé vanil...</td>\n",
              "      <td>Homophobia</td>\n",
              "    </tr>\n",
              "    <tr>\n",
              "      <th>3</th>\n",
              "      <td>_confessfantasm va finir lesbienne</td>\n",
              "      <td>Homophobia</td>\n",
              "    </tr>\n",
              "    <tr>\n",
              "      <th>4</th>\n",
              "      <td>askip s il change couche aussi c est pd http t...</td>\n",
              "      <td>Homophobia</td>\n",
              "    </tr>\n",
              "  </tbody>\n",
              "</table>\n",
              "</div>\n",
              "      <button class=\"colab-df-convert\" onclick=\"convertToInteractive('df-f1c860c6-7d79-4d34-9c7e-514ba47d960c')\"\n",
              "              title=\"Convert this dataframe to an interactive table.\"\n",
              "              style=\"display:none;\">\n",
              "        \n",
              "  <svg xmlns=\"http://www.w3.org/2000/svg\" height=\"24px\"viewBox=\"0 0 24 24\"\n",
              "       width=\"24px\">\n",
              "    <path d=\"M0 0h24v24H0V0z\" fill=\"none\"/>\n",
              "    <path d=\"M18.56 5.44l.94 2.06.94-2.06 2.06-.94-2.06-.94-.94-2.06-.94 2.06-2.06.94zm-11 1L8.5 8.5l.94-2.06 2.06-.94-2.06-.94L8.5 2.5l-.94 2.06-2.06.94zm10 10l.94 2.06.94-2.06 2.06-.94-2.06-.94-.94-2.06-.94 2.06-2.06.94z\"/><path d=\"M17.41 7.96l-1.37-1.37c-.4-.4-.92-.59-1.43-.59-.52 0-1.04.2-1.43.59L10.3 9.45l-7.72 7.72c-.78.78-.78 2.05 0 2.83L4 21.41c.39.39.9.59 1.41.59.51 0 1.02-.2 1.41-.59l7.78-7.78 2.81-2.81c.8-.78.8-2.07 0-2.86zM5.41 20L4 18.59l7.72-7.72 1.47 1.35L5.41 20z\"/>\n",
              "  </svg>\n",
              "      </button>\n",
              "      \n",
              "  <style>\n",
              "    .colab-df-container {\n",
              "      display:flex;\n",
              "      flex-wrap:wrap;\n",
              "      gap: 12px;\n",
              "    }\n",
              "\n",
              "    .colab-df-convert {\n",
              "      background-color: #E8F0FE;\n",
              "      border: none;\n",
              "      border-radius: 50%;\n",
              "      cursor: pointer;\n",
              "      display: none;\n",
              "      fill: #1967D2;\n",
              "      height: 32px;\n",
              "      padding: 0 0 0 0;\n",
              "      width: 32px;\n",
              "    }\n",
              "\n",
              "    .colab-df-convert:hover {\n",
              "      background-color: #E2EBFA;\n",
              "      box-shadow: 0px 1px 2px rgba(60, 64, 67, 0.3), 0px 1px 3px 1px rgba(60, 64, 67, 0.15);\n",
              "      fill: #174EA6;\n",
              "    }\n",
              "\n",
              "    [theme=dark] .colab-df-convert {\n",
              "      background-color: #3B4455;\n",
              "      fill: #D2E3FC;\n",
              "    }\n",
              "\n",
              "    [theme=dark] .colab-df-convert:hover {\n",
              "      background-color: #434B5C;\n",
              "      box-shadow: 0px 1px 3px 1px rgba(0, 0, 0, 0.15);\n",
              "      filter: drop-shadow(0px 1px 2px rgba(0, 0, 0, 0.3));\n",
              "      fill: #FFFFFF;\n",
              "    }\n",
              "  </style>\n",
              "\n",
              "      <script>\n",
              "        const buttonEl =\n",
              "          document.querySelector('#df-f1c860c6-7d79-4d34-9c7e-514ba47d960c button.colab-df-convert');\n",
              "        buttonEl.style.display =\n",
              "          google.colab.kernel.accessAllowed ? 'block' : 'none';\n",
              "\n",
              "        async function convertToInteractive(key) {\n",
              "          const element = document.querySelector('#df-f1c860c6-7d79-4d34-9c7e-514ba47d960c');\n",
              "          const dataTable =\n",
              "            await google.colab.kernel.invokeFunction('convertToInteractive',\n",
              "                                                     [key], {});\n",
              "          if (!dataTable) return;\n",
              "\n",
              "          const docLinkHtml = 'Like what you see? Visit the ' +\n",
              "            '<a target=\"_blank\" href=https://colab.research.google.com/notebooks/data_table.ipynb>data table notebook</a>'\n",
              "            + ' to learn more about interactive tables.';\n",
              "          element.innerHTML = '';\n",
              "          dataTable['output_type'] = 'display_data';\n",
              "          await google.colab.output.renderOutput(dataTable, element);\n",
              "          const docLink = document.createElement('div');\n",
              "          docLink.innerHTML = docLinkHtml;\n",
              "          element.appendChild(docLink);\n",
              "        }\n",
              "      </script>\n",
              "    </div>\n",
              "  </div>\n",
              "  "
            ]
          },
          "metadata": {},
          "execution_count": 48
        }
      ]
    },
    {
      "cell_type": "markdown",
      "source": [
        "### We have our final dataset that we will use to train our model :D "
      ],
      "metadata": {
        "id": "JySfMpuWwZVd"
      }
    },
    {
      "cell_type": "markdown",
      "source": [
        "# PART 4: MODEL BUILDING AND EVALUATION"
      ],
      "metadata": {
        "id": "rQPWAe50wZVd"
      }
    },
    {
      "cell_type": "markdown",
      "source": [
        "### I decided to use a Distilbert model for the following reasons: it's really easy to use and is well optimized, so the training time is quite fast. It is also easily explainable and has a few APIs that makes predictions easy to make and interpret, and finally the wrapper inside ktrain is really convenient. I woudl strongly encourage you to read this from the about Distilbert on the hugging face page: https://huggingface.co/docs/transformers/model_doc/distilbert"
      ],
      "metadata": {
        "id": "0uRRrM-0wZVd"
      }
    },
    {
      "cell_type": "code",
      "source": [
        "target_names = ['None', 'Homophobia']"
      ],
      "metadata": {
        "execution": {
          "iopub.status.busy": "2022-12-06T08:27:40.857170Z",
          "iopub.execute_input": "2022-12-06T08:27:40.858089Z",
          "iopub.status.idle": "2022-12-06T08:27:40.862612Z",
          "shell.execute_reply.started": "2022-12-06T08:27:40.858063Z",
          "shell.execute_reply": "2022-12-06T08:27:40.861612Z"
        },
        "trusted": true,
        "id": "ZlFYj0uTwZVd"
      },
      "execution_count": 49,
      "outputs": []
    },
    {
      "cell_type": "markdown",
      "source": [
        "### We load the model, then do a train/test split. We choose the distilbert processing method"
      ],
      "metadata": {
        "id": "Ic-gMfa-wZVd"
      }
    },
    {
      "cell_type": "code",
      "source": [
        "transformer = text.Transformer('distilbert-base-uncased', \n",
        "                              maxlen=512,\n",
        "                              class_names=target_names)"
      ],
      "metadata": {
        "execution": {
          "iopub.status.busy": "2022-12-06T08:27:40.864368Z",
          "iopub.execute_input": "2022-12-06T08:27:40.864768Z",
          "iopub.status.idle": "2022-12-06T08:27:41.235433Z",
          "shell.execute_reply.started": "2022-12-06T08:27:40.864733Z",
          "shell.execute_reply": "2022-12-06T08:27:41.234516Z"
        },
        "trusted": true,
        "id": "_yV3orlQwZVd"
      },
      "execution_count": 50,
      "outputs": []
    },
    {
      "cell_type": "markdown",
      "source": [
        "### HYPERPARAMETERS: I've chosen to use 200 for the maxfeatures and a maxlen of 512 as it really speeds up the training process while not losing much in accuracy. We then call the model with a batch size of 16 to speed up even more the training process (a bigger batch size in this case led to a decrease in accuracy in the final model)"
      ],
      "metadata": {
        "id": "tTkjxWkuwZVd"
      }
    },
    {
      "cell_type": "code",
      "source": [
        "train, val, preprocess = texts_from_df(data, 'text',\n",
        "                                      label_columns=['label'],\n",
        "                                      val_df=None,\n",
        "                                      max_features=200,\n",
        "                                      maxlen=512,\n",
        "                                      val_pct=0.1,\n",
        "                                      ngram_range=1,\n",
        "                                      preprocess_mode='distilbert',\n",
        "                                      verbose=1)"
      ],
      "metadata": {
        "execution": {
          "iopub.status.busy": "2022-12-06T08:27:41.242115Z",
          "iopub.execute_input": "2022-12-06T08:27:41.243074Z",
          "iopub.status.idle": "2022-12-06T08:27:45.687602Z",
          "shell.execute_reply.started": "2022-12-06T08:27:41.243030Z",
          "shell.execute_reply": "2022-12-06T08:27:45.686688Z"
        },
        "trusted": true,
        "id": "qEl-FCY5wZVd",
        "outputId": "7a92bfa1-f7e8-4dc8-c4b0-3cec59db4cdf",
        "colab": {
          "base_uri": "https://localhost:8080/",
          "height": 485
        }
      },
      "execution_count": 51,
      "outputs": [
        {
          "output_type": "stream",
          "name": "stdout",
          "text": [
            "['Homophobia', 'None']\n",
            "      Homophobia  None\n",
            "1507         0.0   1.0\n",
            "883          0.0   1.0\n",
            "15           1.0   0.0\n",
            "33           1.0   0.0\n",
            "462          1.0   0.0\n",
            "['Homophobia', 'None']\n",
            "      Homophobia  None\n",
            "45           1.0   0.0\n",
            "1541         0.0   1.0\n",
            "404          1.0   0.0\n",
            "562          1.0   0.0\n",
            "1488         0.0   1.0\n",
            "preprocessing train...\n",
            "language: fr\n",
            "train sequence lengths:\n",
            "\tmean : 11\n",
            "\t95percentile : 21\n",
            "\t99percentile : 24\n"
          ]
        },
        {
          "output_type": "display_data",
          "data": {
            "text/plain": [
              "<IPython.core.display.HTML object>"
            ],
            "text/html": [
              "\n",
              "<style>\n",
              "    /* Turns off some styling */\n",
              "    progress {\n",
              "        /* gets rid of default border in Firefox and Opera. */\n",
              "        border: none;\n",
              "        /* Needs to be in here for Safari polyfill so background images work as expected. */\n",
              "        background-size: auto;\n",
              "    }\n",
              "    progress:not([value]), progress:not([value])::-webkit-progress-bar {\n",
              "        background: repeating-linear-gradient(45deg, #7e7e7e, #7e7e7e 10px, #5c5c5c 10px, #5c5c5c 20px);\n",
              "    }\n",
              "    .progress-bar-interrupted, .progress-bar-interrupted::-webkit-progress-bar {\n",
              "        background: #F44336;\n",
              "    }\n",
              "</style>\n"
            ]
          },
          "metadata": {}
        },
        {
          "output_type": "display_data",
          "data": {
            "text/plain": [
              "<IPython.core.display.HTML object>"
            ],
            "text/html": []
          },
          "metadata": {}
        },
        {
          "output_type": "stream",
          "name": "stdout",
          "text": [
            "Is Multi-Label? False\n",
            "preprocessing test...\n",
            "language: fr\n",
            "test sequence lengths:\n",
            "\tmean : 12\n",
            "\t95percentile : 21\n",
            "\t99percentile : 23\n"
          ]
        },
        {
          "output_type": "display_data",
          "data": {
            "text/plain": [
              "<IPython.core.display.HTML object>"
            ],
            "text/html": [
              "\n",
              "<style>\n",
              "    /* Turns off some styling */\n",
              "    progress {\n",
              "        /* gets rid of default border in Firefox and Opera. */\n",
              "        border: none;\n",
              "        /* Needs to be in here for Safari polyfill so background images work as expected. */\n",
              "        background-size: auto;\n",
              "    }\n",
              "    progress:not([value]), progress:not([value])::-webkit-progress-bar {\n",
              "        background: repeating-linear-gradient(45deg, #7e7e7e, #7e7e7e 10px, #5c5c5c 10px, #5c5c5c 20px);\n",
              "    }\n",
              "    .progress-bar-interrupted, .progress-bar-interrupted::-webkit-progress-bar {\n",
              "        background: #F44336;\n",
              "    }\n",
              "</style>\n"
            ]
          },
          "metadata": {}
        },
        {
          "output_type": "display_data",
          "data": {
            "text/plain": [
              "<IPython.core.display.HTML object>"
            ],
            "text/html": []
          },
          "metadata": {}
        }
      ]
    },
    {
      "cell_type": "code",
      "source": [
        "model = preprocess.get_classifier()\n",
        "learner = ktrain.get_learner(model, train_data=train,\n",
        "                            val_data=val, batch_size=16) "
      ],
      "metadata": {
        "execution": {
          "iopub.status.busy": "2022-12-06T08:27:45.688920Z",
          "iopub.execute_input": "2022-12-06T08:27:45.689306Z",
          "iopub.status.idle": "2022-12-06T08:28:09.590318Z",
          "shell.execute_reply.started": "2022-12-06T08:27:45.689269Z",
          "shell.execute_reply": "2022-12-06T08:28:09.589235Z"
        },
        "trusted": true,
        "id": "E_-yR4JWwZVe"
      },
      "execution_count": 52,
      "outputs": []
    },
    {
      "cell_type": "code",
      "source": [
        "learner.lr_find(max_epochs=6)"
      ],
      "metadata": {
        "execution": {
          "iopub.status.busy": "2022-12-06T08:28:09.591874Z",
          "iopub.execute_input": "2022-12-06T08:28:09.592217Z",
          "iopub.status.idle": "2022-12-06T08:52:14.068397Z",
          "shell.execute_reply.started": "2022-12-06T08:28:09.592190Z",
          "shell.execute_reply": "2022-12-06T08:52:14.067252Z"
        },
        "trusted": true,
        "id": "mnuQYgaawZVe",
        "outputId": "c097d6e6-9f53-4184-dcb9-2bd68e57c444",
        "colab": {
          "base_uri": "https://localhost:8080/"
        }
      },
      "execution_count": 53,
      "outputs": [
        {
          "output_type": "stream",
          "name": "stdout",
          "text": [
            "simulating training for different learning rates... this may take a few moments...\n",
            "Epoch 1/6\n",
            "90/90 [==============================] - 93s 957ms/step - loss: 0.6905 - accuracy: 0.5451\n",
            "Epoch 2/6\n",
            "90/90 [==============================] - 86s 956ms/step - loss: 0.5788 - accuracy: 0.7347\n",
            "Epoch 3/6\n",
            "90/90 [==============================] - 86s 953ms/step - loss: 0.5139 - accuracy: 0.7785\n",
            "Epoch 4/6\n",
            "90/90 [==============================] - 86s 951ms/step - loss: 0.7096 - accuracy: 0.5792\n",
            "Epoch 5/6\n",
            "90/90 [==============================] - 63s 697ms/step - loss: 74.6693 - accuracy: 0.4953\n",
            "\n",
            "\n",
            "done.\n",
            "Please invoke the Learner.lr_plot() method to visually inspect the loss plot to help identify the maximal learning rate associated with falling loss.\n"
          ]
        }
      ]
    },
    {
      "cell_type": "code",
      "source": [
        "learner.lr_plot()"
      ],
      "metadata": {
        "execution": {
          "iopub.status.busy": "2022-12-06T08:52:14.069863Z",
          "iopub.execute_input": "2022-12-06T08:52:14.070891Z",
          "iopub.status.idle": "2022-12-06T08:52:14.482278Z",
          "shell.execute_reply.started": "2022-12-06T08:52:14.070849Z",
          "shell.execute_reply": "2022-12-06T08:52:14.481337Z"
        },
        "trusted": true,
        "id": "sVHjQgYDwZVe",
        "outputId": "1b8980c5-ee72-4347-9126-b0f0bf9c1666",
        "colab": {
          "base_uri": "https://localhost:8080/",
          "height": 283
        }
      },
      "execution_count": 54,
      "outputs": [
        {
          "output_type": "display_data",
          "data": {
            "text/plain": [
              "<Figure size 432x288 with 1 Axes>"
            ],
            "image/png": "[encoded data removed]"
          },
          "metadata": {
            "needs_background": "light"
          }
        }
      ]
    },
    {
      "cell_type": "markdown",
      "source": [
        "## early stopping here is used to stop the training if the performance drops, so as to gain time. We will only train the model for 6 epochs, as the goal of this workshop is not to build a full state-of-the art app, but rather just an introduction to NLP classification."
      ],
      "metadata": {
        "id": "u0xeRagMwZVe"
      }
    },
    {
      "cell_type": "code",
      "source": [
        "history=learner.autofit(1e-4,checkpoint_folder='checkpoint',epochs=11, \n",
        "                        early_stopping=True) "
      ],
      "metadata": {
        "execution": {
          "iopub.status.busy": "2022-12-06T08:52:14.483778Z",
          "iopub.execute_input": "2022-12-06T08:52:14.484139Z",
          "iopub.status.idle": "2022-12-06T09:00:45.479051Z",
          "shell.execute_reply.started": "2022-12-06T08:52:14.484102Z",
          "shell.execute_reply": "2022-12-06T09:00:45.477118Z"
        },
        "trusted": true,
        "id": "Gf5znj58wZVe",
        "outputId": "955471f7-e6da-4b97-ac87-e0927a4b59bc",
        "colab": {
          "base_uri": "https://localhost:8080/"
        }
      },
      "execution_count": 55,
      "outputs": [
        {
          "output_type": "stream",
          "name": "stdout",
          "text": [
            "\n",
            "\n",
            "begin training using triangular learning rate policy with max lr of 0.0001...\n",
            "Epoch 1/11\n",
            "90/90 [==============================] - 99s 1s/step - loss: 0.5274 - accuracy: 0.7514 - val_loss: 0.4462 - val_accuracy: 0.8250\n",
            "Epoch 2/11\n",
            "90/90 [==============================] - 89s 986ms/step - loss: 0.3977 - accuracy: 0.8396 - val_loss: 0.4343 - val_accuracy: 0.8250\n",
            "Epoch 3/11\n",
            "90/90 [==============================] - ETA: 0s - loss: 0.3184 - accuracy: 0.8729Restoring model weights from the end of the best epoch: 2.\n",
            "90/90 [==============================] - 89s 984ms/step - loss: 0.3184 - accuracy: 0.8729 - val_loss: 0.4553 - val_accuracy: 0.8438\n",
            "Epoch 3: early stopping\n",
            "Weights from best epoch have been loaded into model.\n"
          ]
        }
      ]
    },
    {
      "cell_type": "code",
      "source": [
        "validation = learner.validate(val_data=val, print_report=True)"
      ],
      "metadata": {
        "execution": {
          "iopub.status.busy": "2022-12-06T09:00:45.480563Z",
          "iopub.execute_input": "2022-12-06T09:00:45.480962Z",
          "iopub.status.idle": "2022-12-06T09:01:47.058067Z",
          "shell.execute_reply.started": "2022-12-06T09:00:45.480924Z",
          "shell.execute_reply": "2022-12-06T09:01:47.056896Z"
        },
        "trusted": true,
        "id": "RDBqQBjZwZVe",
        "outputId": "4aa27a07-f420-4d9f-a576-d991e5b381c1",
        "colab": {
          "base_uri": "https://localhost:8080/"
        }
      },
      "execution_count": 56,
      "outputs": [
        {
          "output_type": "stream",
          "name": "stdout",
          "text": [
            "5/5 [==============================] - 2s 92ms/step\n",
            "              precision    recall  f1-score   support\n",
            "\n",
            "           0       0.86      0.77      0.81        78\n",
            "           1       0.80      0.88      0.84        82\n",
            "\n",
            "    accuracy                           0.82       160\n",
            "   macro avg       0.83      0.82      0.82       160\n",
            "weighted avg       0.83      0.82      0.82       160\n",
            "\n"
          ]
        }
      ]
    },
    {
      "cell_type": "markdown",
      "source": [
        "## From the validation, we can see that we have really good metrics. Our accuracy and f1-score is 80%, which is great considering the relatively small dataset and training time !"
      ],
      "metadata": {
        "id": "Dz8KE53iwZVe"
      }
    },
    {
      "cell_type": "markdown",
      "source": [
        "## After training and validating our model, we get the predictions and create a frame that looks like the one provided."
      ],
      "metadata": {
        "id": "prNIAvZRwZVe"
      }
    },
    {
      "cell_type": "code",
      "source": [
        "predictor = ktrain.get_predictor(learner.model, preproc=preprocess)"
      ],
      "metadata": {
        "execution": {
          "iopub.status.busy": "2022-12-06T09:01:47.059522Z",
          "iopub.execute_input": "2022-12-06T09:01:47.062115Z",
          "iopub.status.idle": "2022-12-06T09:01:47.067092Z",
          "shell.execute_reply.started": "2022-12-06T09:01:47.062072Z",
          "shell.execute_reply": "2022-12-06T09:01:47.066016Z"
        },
        "trusted": true,
        "id": "7p0dhAoRwZVe"
      },
      "execution_count": 57,
      "outputs": []
    },
    {
      "cell_type": "code",
      "source": [
        "test_data = clean_data.head(25)\n",
        "test_data"
      ],
      "metadata": {
        "colab": {
          "base_uri": "https://localhost:8080/",
          "height": 833
        },
        "id": "uep-EuIpFlHu",
        "outputId": "4887b73b-4125-4322-d201-ca901bc09d1c"
      },
      "execution_count": 68,
      "outputs": [
        {
          "output_type": "execute_result",
          "data": {
            "text/plain": [
              "                                                 text       label\n",
              "0   nopsito_off cpastibo mattotf1 ref pr g rien co...  Homophobia\n",
              "1   meuf disent oue came etc wallah très lesbienne...  Homophobia\n",
              "2                       kc667ekip cassent couilles pd  Homophobia\n",
              "3   dorobo_lala evxszn kujantho nai_inno c est vra...  Homophobia\n",
              "4                    lesbienne 1 http t co 5bs7kxqqku  Homophobia\n",
              "5                    lesbienne 2 http t co 57igjlcsvd  Homophobia\n",
              "6   el_you97 tozemouk infosom_ eldebate bah quand ...        None\n",
              "7                         cvmacedog réveillon pede né  Homophobia\n",
              "8   a compte fake gar m ajoute dpuis talheur si jv...  Homophobia\n",
              "9   lilyynelson vui veux quand être lesbienne clea...        None\n",
              "10      pimien_15 mahito_tomura patrickademo bande pd  Homophobia\n",
              "11  peux insulter pd sinon ya galère insulte banal...  Homophobia\n",
              "12          jmapelmael non c est bon j suis lesbienne        None\n",
              "13  wu_tang92 mec ressemble a lesbienne a réussi f...  Homophobia\n",
              "14                 czltrr tout monde lesbienne marina        None\n",
              "15                                   im4nea rigole pd  Homophobia\n",
              "16  annedeuxtroisqu t a légalement droit demandé s...  Homophobia\n",
              "17  célibataire lesbienne féministe hystérique suf...  Homophobia\n",
              "18  vlcnlvt trouve ça pertinent rapport male gaze ...        None\n",
              "19  darwin 15 tirs 0 buts l autre 1 but 1 tir gg n...  Homophobia\n",
              "20  pourqoi lesbienne pourquoi pitieeeee pourquoii...        None\n",
              "21  tout fuis tant grosse lesbienne refoulée http ...        None\n",
              "22  jvais vrm bz tmr lache adresse jour lieu douvr...  Homophobia\n",
              "23  le_chaman nan evidemment c est degueulasse pla...        None\n",
              "24                       tsubasachb10 t e grave pd va  Homophobia"
            ],
            "text/html": [
              "\n",
              "  <div id=\"df-cee7c275-efde-4c97-a36e-e62bbddcf5d3\">\n",
              "    <div class=\"colab-df-container\">\n",
              "      <div>\n",
              "<style scoped>\n",
              "    .dataframe tbody tr th:only-of-type {\n",
              "        vertical-align: middle;\n",
              "    }\n",
              "\n",
              "    .dataframe tbody tr th {\n",
              "        vertical-align: top;\n",
              "    }\n",
              "\n",
              "    .dataframe thead th {\n",
              "        text-align: right;\n",
              "    }\n",
              "</style>\n",
              "<table border=\"1\" class=\"dataframe\">\n",
              "  <thead>\n",
              "    <tr style=\"text-align: right;\">\n",
              "      <th></th>\n",
              "      <th>text</th>\n",
              "      <th>label</th>\n",
              "    </tr>\n",
              "  </thead>\n",
              "  <tbody>\n",
              "    <tr>\n",
              "      <th>0</th>\n",
              "      <td>nopsito_off cpastibo mattotf1 ref pr g rien co...</td>\n",
              "      <td>Homophobia</td>\n",
              "    </tr>\n",
              "    <tr>\n",
              "      <th>1</th>\n",
              "      <td>meuf disent oue came etc wallah très lesbienne...</td>\n",
              "      <td>Homophobia</td>\n",
              "    </tr>\n",
              "    <tr>\n",
              "      <th>2</th>\n",
              "      <td>kc667ekip cassent couilles pd</td>\n",
              "      <td>Homophobia</td>\n",
              "    </tr>\n",
              "    <tr>\n",
              "      <th>3</th>\n",
              "      <td>dorobo_lala evxszn kujantho nai_inno c est vra...</td>\n",
              "      <td>Homophobia</td>\n",
              "    </tr>\n",
              "    <tr>\n",
              "      <th>4</th>\n",
              "      <td>lesbienne 1 http t co 5bs7kxqqku</td>\n",
              "      <td>Homophobia</td>\n",
              "    </tr>\n",
              "    <tr>\n",
              "      <th>5</th>\n",
              "      <td>lesbienne 2 http t co 57igjlcsvd</td>\n",
              "      <td>Homophobia</td>\n",
              "    </tr>\n",
              "    <tr>\n",
              "      <th>6</th>\n",
              "      <td>el_you97 tozemouk infosom_ eldebate bah quand ...</td>\n",
              "      <td>None</td>\n",
              "    </tr>\n",
              "    <tr>\n",
              "      <th>7</th>\n",
              "      <td>cvmacedog réveillon pede né</td>\n",
              "      <td>Homophobia</td>\n",
              "    </tr>\n",
              "    <tr>\n",
              "      <th>8</th>\n",
              "      <td>a compte fake gar m ajoute dpuis talheur si jv...</td>\n",
              "      <td>Homophobia</td>\n",
              "    </tr>\n",
              "    <tr>\n",
              "      <th>9</th>\n",
              "      <td>lilyynelson vui veux quand être lesbienne clea...</td>\n",
              "      <td>None</td>\n",
              "    </tr>\n",
              "    <tr>\n",
              "      <th>10</th>\n",
              "      <td>pimien_15 mahito_tomura patrickademo bande pd</td>\n",
              "      <td>Homophobia</td>\n",
              "    </tr>\n",
              "    <tr>\n",
              "      <th>11</th>\n",
              "      <td>peux insulter pd sinon ya galère insulte banal...</td>\n",
              "      <td>Homophobia</td>\n",
              "    </tr>\n",
              "    <tr>\n",
              "      <th>12</th>\n",
              "      <td>jmapelmael non c est bon j suis lesbienne</td>\n",
              "      <td>None</td>\n",
              "    </tr>\n",
              "    <tr>\n",
              "      <th>13</th>\n",
              "      <td>wu_tang92 mec ressemble a lesbienne a réussi f...</td>\n",
              "      <td>Homophobia</td>\n",
              "    </tr>\n",
              "    <tr>\n",
              "      <th>14</th>\n",
              "      <td>czltrr tout monde lesbienne marina</td>\n",
              "      <td>None</td>\n",
              "    </tr>\n",
              "    <tr>\n",
              "      <th>15</th>\n",
              "      <td>im4nea rigole pd</td>\n",
              "      <td>Homophobia</td>\n",
              "    </tr>\n",
              "    <tr>\n",
              "      <th>16</th>\n",
              "      <td>annedeuxtroisqu t a légalement droit demandé s...</td>\n",
              "      <td>Homophobia</td>\n",
              "    </tr>\n",
              "    <tr>\n",
              "      <th>17</th>\n",
              "      <td>célibataire lesbienne féministe hystérique suf...</td>\n",
              "      <td>Homophobia</td>\n",
              "    </tr>\n",
              "    <tr>\n",
              "      <th>18</th>\n",
              "      <td>vlcnlvt trouve ça pertinent rapport male gaze ...</td>\n",
              "      <td>None</td>\n",
              "    </tr>\n",
              "    <tr>\n",
              "      <th>19</th>\n",
              "      <td>darwin 15 tirs 0 buts l autre 1 but 1 tir gg n...</td>\n",
              "      <td>Homophobia</td>\n",
              "    </tr>\n",
              "    <tr>\n",
              "      <th>20</th>\n",
              "      <td>pourqoi lesbienne pourquoi pitieeeee pourquoii...</td>\n",
              "      <td>None</td>\n",
              "    </tr>\n",
              "    <tr>\n",
              "      <th>21</th>\n",
              "      <td>tout fuis tant grosse lesbienne refoulée http ...</td>\n",
              "      <td>None</td>\n",
              "    </tr>\n",
              "    <tr>\n",
              "      <th>22</th>\n",
              "      <td>jvais vrm bz tmr lache adresse jour lieu douvr...</td>\n",
              "      <td>Homophobia</td>\n",
              "    </tr>\n",
              "    <tr>\n",
              "      <th>23</th>\n",
              "      <td>le_chaman nan evidemment c est degueulasse pla...</td>\n",
              "      <td>None</td>\n",
              "    </tr>\n",
              "    <tr>\n",
              "      <th>24</th>\n",
              "      <td>tsubasachb10 t e grave pd va</td>\n",
              "      <td>Homophobia</td>\n",
              "    </tr>\n",
              "  </tbody>\n",
              "</table>\n",
              "</div>\n",
              "      <button class=\"colab-df-convert\" onclick=\"convertToInteractive('df-cee7c275-efde-4c97-a36e-e62bbddcf5d3')\"\n",
              "              title=\"Convert this dataframe to an interactive table.\"\n",
              "              style=\"display:none;\">\n",
              "        \n",
              "  <svg xmlns=\"http://www.w3.org/2000/svg\" height=\"24px\"viewBox=\"0 0 24 24\"\n",
              "       width=\"24px\">\n",
              "    <path d=\"M0 0h24v24H0V0z\" fill=\"none\"/>\n",
              "    <path d=\"M18.56 5.44l.94 2.06.94-2.06 2.06-.94-2.06-.94-.94-2.06-.94 2.06-2.06.94zm-11 1L8.5 8.5l.94-2.06 2.06-.94-2.06-.94L8.5 2.5l-.94 2.06-2.06.94zm10 10l.94 2.06.94-2.06 2.06-.94-2.06-.94-.94-2.06-.94 2.06-2.06.94z\"/><path d=\"M17.41 7.96l-1.37-1.37c-.4-.4-.92-.59-1.43-.59-.52 0-1.04.2-1.43.59L10.3 9.45l-7.72 7.72c-.78.78-.78 2.05 0 2.83L4 21.41c.39.39.9.59 1.41.59.51 0 1.02-.2 1.41-.59l7.78-7.78 2.81-2.81c.8-.78.8-2.07 0-2.86zM5.41 20L4 18.59l7.72-7.72 1.47 1.35L5.41 20z\"/>\n",
              "  </svg>\n",
              "      </button>\n",
              "      \n",
              "  <style>\n",
              "    .colab-df-container {\n",
              "      display:flex;\n",
              "      flex-wrap:wrap;\n",
              "      gap: 12px;\n",
              "    }\n",
              "\n",
              "    .colab-df-convert {\n",
              "      background-color: #E8F0FE;\n",
              "      border: none;\n",
              "      border-radius: 50%;\n",
              "      cursor: pointer;\n",
              "      display: none;\n",
              "      fill: #1967D2;\n",
              "      height: 32px;\n",
              "      padding: 0 0 0 0;\n",
              "      width: 32px;\n",
              "    }\n",
              "\n",
              "    .colab-df-convert:hover {\n",
              "      background-color: #E2EBFA;\n",
              "      box-shadow: 0px 1px 2px rgba(60, 64, 67, 0.3), 0px 1px 3px 1px rgba(60, 64, 67, 0.15);\n",
              "      fill: #174EA6;\n",
              "    }\n",
              "\n",
              "    [theme=dark] .colab-df-convert {\n",
              "      background-color: #3B4455;\n",
              "      fill: #D2E3FC;\n",
              "    }\n",
              "\n",
              "    [theme=dark] .colab-df-convert:hover {\n",
              "      background-color: #434B5C;\n",
              "      box-shadow: 0px 1px 3px 1px rgba(0, 0, 0, 0.15);\n",
              "      filter: drop-shadow(0px 1px 2px rgba(0, 0, 0, 0.3));\n",
              "      fill: #FFFFFF;\n",
              "    }\n",
              "  </style>\n",
              "\n",
              "      <script>\n",
              "        const buttonEl =\n",
              "          document.querySelector('#df-cee7c275-efde-4c97-a36e-e62bbddcf5d3 button.colab-df-convert');\n",
              "        buttonEl.style.display =\n",
              "          google.colab.kernel.accessAllowed ? 'block' : 'none';\n",
              "\n",
              "        async function convertToInteractive(key) {\n",
              "          const element = document.querySelector('#df-cee7c275-efde-4c97-a36e-e62bbddcf5d3');\n",
              "          const dataTable =\n",
              "            await google.colab.kernel.invokeFunction('convertToInteractive',\n",
              "                                                     [key], {});\n",
              "          if (!dataTable) return;\n",
              "\n",
              "          const docLinkHtml = 'Like what you see? Visit the ' +\n",
              "            '<a target=\"_blank\" href=https://colab.research.google.com/notebooks/data_table.ipynb>data table notebook</a>'\n",
              "            + ' to learn more about interactive tables.';\n",
              "          element.innerHTML = '';\n",
              "          dataTable['output_type'] = 'display_data';\n",
              "          await google.colab.output.renderOutput(dataTable, element);\n",
              "          const docLink = document.createElement('div');\n",
              "          docLink.innerHTML = docLinkHtml;\n",
              "          element.appendChild(docLink);\n",
              "        }\n",
              "      </script>\n",
              "    </div>\n",
              "  </div>\n",
              "  "
            ]
          },
          "metadata": {},
          "execution_count": 68
        }
      ]
    },
    {
      "cell_type": "code",
      "source": [
        "for i in range(len(test_data)):\n",
        "    text = test_data.loc[i]['text']\n",
        "    probs = predictor.predict(text, return_proba = True)\n",
        "    if probs[0] >= 0.5:\n",
        "        test_data.loc[i,'target'] = 'Homophobia'\n",
        "    else:\n",
        "        test_data.loc[i,'target'] = 'None'"
      ],
      "metadata": {
        "execution": {
          "iopub.status.busy": "2022-12-06T09:01:47.081174Z",
          "iopub.execute_input": "2022-12-06T09:01:47.081582Z",
          "iopub.status.idle": "2022-12-06T09:05:54.937635Z",
          "shell.execute_reply.started": "2022-12-06T09:01:47.081546Z",
          "shell.execute_reply": "2022-12-06T09:05:54.936709Z"
        },
        "trusted": true,
        "id": "zB5lTeh1wZVf",
        "colab": {
          "base_uri": "https://localhost:8080/"
        },
        "outputId": "1d6fee4d-06a0-41f8-8a1e-d9acf3355726"
      },
      "execution_count": 69,
      "outputs": [
        {
          "output_type": "stream",
          "name": "stdout",
          "text": [
            "1/1 [==============================] - 0s 66ms/step\n",
            "1/1 [==============================] - 0s 64ms/step\n",
            "1/1 [==============================] - 0s 64ms/step\n",
            "1/1 [==============================] - 0s 64ms/step\n",
            "1/1 [==============================] - 0s 63ms/step\n",
            "1/1 [==============================] - 0s 60ms/step\n",
            "1/1 [==============================] - 0s 68ms/step\n",
            "1/1 [==============================] - 0s 69ms/step\n",
            "1/1 [==============================] - 0s 61ms/step\n",
            "1/1 [==============================] - 0s 61ms/step\n",
            "1/1 [==============================] - 0s 58ms/step\n",
            "1/1 [==============================] - 0s 68ms/step\n",
            "1/1 [==============================] - 0s 56ms/step\n",
            "1/1 [==============================] - 0s 68ms/step\n",
            "1/1 [==============================] - 0s 54ms/step\n",
            "1/1 [==============================] - 0s 63ms/step\n",
            "1/1 [==============================] - 0s 63ms/step\n",
            "1/1 [==============================] - 0s 59ms/step\n",
            "1/1 [==============================] - 0s 61ms/step\n",
            "1/1 [==============================] - 0s 57ms/step\n",
            "1/1 [==============================] - 0s 61ms/step\n",
            "1/1 [==============================] - 0s 66ms/step\n",
            "1/1 [==============================] - 0s 61ms/step\n",
            "1/1 [==============================] - 0s 59ms/step\n",
            "1/1 [==============================] - 0s 64ms/step\n"
          ]
        }
      ]
    },
    {
      "cell_type": "code",
      "source": [
        "test_data"
      ],
      "metadata": {
        "execution": {
          "iopub.status.busy": "2022-12-06T09:05:54.939176Z",
          "iopub.execute_input": "2022-12-06T09:05:54.939528Z",
          "iopub.status.idle": "2022-12-06T09:05:54.953596Z",
          "shell.execute_reply.started": "2022-12-06T09:05:54.939494Z",
          "shell.execute_reply": "2022-12-06T09:05:54.952703Z"
        },
        "trusted": true,
        "id": "sEBAPh8owZVf",
        "outputId": "74adf446-c296-414b-e8a8-b102b1421d15",
        "colab": {
          "base_uri": "https://localhost:8080/",
          "height": 833
        }
      },
      "execution_count": 70,
      "outputs": [
        {
          "output_type": "execute_result",
          "data": {
            "text/plain": [
              "                                                 text       label      target\n",
              "0   nopsito_off cpastibo mattotf1 ref pr g rien co...  Homophobia  Homophobia\n",
              "1   meuf disent oue came etc wallah très lesbienne...  Homophobia        None\n",
              "2                       kc667ekip cassent couilles pd  Homophobia  Homophobia\n",
              "3   dorobo_lala evxszn kujantho nai_inno c est vra...  Homophobia        None\n",
              "4                    lesbienne 1 http t co 5bs7kxqqku  Homophobia        None\n",
              "5                    lesbienne 2 http t co 57igjlcsvd  Homophobia        None\n",
              "6   el_you97 tozemouk infosom_ eldebate bah quand ...        None        None\n",
              "7                         cvmacedog réveillon pede né  Homophobia  Homophobia\n",
              "8   a compte fake gar m ajoute dpuis talheur si jv...  Homophobia  Homophobia\n",
              "9   lilyynelson vui veux quand être lesbienne clea...        None        None\n",
              "10      pimien_15 mahito_tomura patrickademo bande pd  Homophobia  Homophobia\n",
              "11  peux insulter pd sinon ya galère insulte banal...  Homophobia  Homophobia\n",
              "12          jmapelmael non c est bon j suis lesbienne        None        None\n",
              "13  wu_tang92 mec ressemble a lesbienne a réussi f...  Homophobia        None\n",
              "14                 czltrr tout monde lesbienne marina        None        None\n",
              "15                                   im4nea rigole pd  Homophobia  Homophobia\n",
              "16  annedeuxtroisqu t a légalement droit demandé s...  Homophobia  Homophobia\n",
              "17  célibataire lesbienne féministe hystérique suf...  Homophobia        None\n",
              "18  vlcnlvt trouve ça pertinent rapport male gaze ...        None        None\n",
              "19  darwin 15 tirs 0 buts l autre 1 but 1 tir gg n...  Homophobia        None\n",
              "20  pourqoi lesbienne pourquoi pitieeeee pourquoii...        None        None\n",
              "21  tout fuis tant grosse lesbienne refoulée http ...        None        None\n",
              "22  jvais vrm bz tmr lache adresse jour lieu douvr...  Homophobia  Homophobia\n",
              "23  le_chaman nan evidemment c est degueulasse pla...        None        None\n",
              "24                       tsubasachb10 t e grave pd va  Homophobia  Homophobia"
            ],
            "text/html": [
              "\n",
              "  <div id=\"df-f5c6e429-f911-4369-a30a-6c0880c97890\">\n",
              "    <div class=\"colab-df-container\">\n",
              "      <div>\n",
              "<style scoped>\n",
              "    .dataframe tbody tr th:only-of-type {\n",
              "        vertical-align: middle;\n",
              "    }\n",
              "\n",
              "    .dataframe tbody tr th {\n",
              "        vertical-align: top;\n",
              "    }\n",
              "\n",
              "    .dataframe thead th {\n",
              "        text-align: right;\n",
              "    }\n",
              "</style>\n",
              "<table border=\"1\" class=\"dataframe\">\n",
              "  <thead>\n",
              "    <tr style=\"text-align: right;\">\n",
              "      <th></th>\n",
              "      <th>text</th>\n",
              "      <th>label</th>\n",
              "      <th>target</th>\n",
              "    </tr>\n",
              "  </thead>\n",
              "  <tbody>\n",
              "    <tr>\n",
              "      <th>0</th>\n",
              "      <td>nopsito_off cpastibo mattotf1 ref pr g rien co...</td>\n",
              "      <td>Homophobia</td>\n",
              "      <td>Homophobia</td>\n",
              "    </tr>\n",
              "    <tr>\n",
              "      <th>1</th>\n",
              "      <td>meuf disent oue came etc wallah très lesbienne...</td>\n",
              "      <td>Homophobia</td>\n",
              "      <td>None</td>\n",
              "    </tr>\n",
              "    <tr>\n",
              "      <th>2</th>\n",
              "      <td>kc667ekip cassent couilles pd</td>\n",
              "      <td>Homophobia</td>\n",
              "      <td>Homophobia</td>\n",
              "    </tr>\n",
              "    <tr>\n",
              "      <th>3</th>\n",
              "      <td>dorobo_lala evxszn kujantho nai_inno c est vra...</td>\n",
              "      <td>Homophobia</td>\n",
              "      <td>None</td>\n",
              "    </tr>\n",
              "    <tr>\n",
              "      <th>4</th>\n",
              "      <td>lesbienne 1 http t co 5bs7kxqqku</td>\n",
              "      <td>Homophobia</td>\n",
              "      <td>None</td>\n",
              "    </tr>\n",
              "    <tr>\n",
              "      <th>5</th>\n",
              "      <td>lesbienne 2 http t co 57igjlcsvd</td>\n",
              "      <td>Homophobia</td>\n",
              "      <td>None</td>\n",
              "    </tr>\n",
              "    <tr>\n",
              "      <th>6</th>\n",
              "      <td>el_you97 tozemouk infosom_ eldebate bah quand ...</td>\n",
              "      <td>None</td>\n",
              "      <td>None</td>\n",
              "    </tr>\n",
              "    <tr>\n",
              "      <th>7</th>\n",
              "      <td>cvmacedog réveillon pede né</td>\n",
              "      <td>Homophobia</td>\n",
              "      <td>Homophobia</td>\n",
              "    </tr>\n",
              "    <tr>\n",
              "      <th>8</th>\n",
              "      <td>a compte fake gar m ajoute dpuis talheur si jv...</td>\n",
              "      <td>Homophobia</td>\n",
              "      <td>Homophobia</td>\n",
              "    </tr>\n",
              "    <tr>\n",
              "      <th>9</th>\n",
              "      <td>lilyynelson vui veux quand être lesbienne clea...</td>\n",
              "      <td>None</td>\n",
              "      <td>None</td>\n",
              "    </tr>\n",
              "    <tr>\n",
              "      <th>10</th>\n",
              "      <td>pimien_15 mahito_tomura patrickademo bande pd</td>\n",
              "      <td>Homophobia</td>\n",
              "      <td>Homophobia</td>\n",
              "    </tr>\n",
              "    <tr>\n",
              "      <th>11</th>\n",
              "      <td>peux insulter pd sinon ya galère insulte banal...</td>\n",
              "      <td>Homophobia</td>\n",
              "      <td>Homophobia</td>\n",
              "    </tr>\n",
              "    <tr>\n",
              "      <th>12</th>\n",
              "      <td>jmapelmael non c est bon j suis lesbienne</td>\n",
              "      <td>None</td>\n",
              "      <td>None</td>\n",
              "    </tr>\n",
              "    <tr>\n",
              "      <th>13</th>\n",
              "      <td>wu_tang92 mec ressemble a lesbienne a réussi f...</td>\n",
              "      <td>Homophobia</td>\n",
              "      <td>None</td>\n",
              "    </tr>\n",
              "    <tr>\n",
              "      <th>14</th>\n",
              "      <td>czltrr tout monde lesbienne marina</td>\n",
              "      <td>None</td>\n",
              "      <td>None</td>\n",
              "    </tr>\n",
              "    <tr>\n",
              "      <th>15</th>\n",
              "      <td>im4nea rigole pd</td>\n",
              "      <td>Homophobia</td>\n",
              "      <td>Homophobia</td>\n",
              "    </tr>\n",
              "    <tr>\n",
              "      <th>16</th>\n",
              "      <td>annedeuxtroisqu t a légalement droit demandé s...</td>\n",
              "      <td>Homophobia</td>\n",
              "      <td>Homophobia</td>\n",
              "    </tr>\n",
              "    <tr>\n",
              "      <th>17</th>\n",
              "      <td>célibataire lesbienne féministe hystérique suf...</td>\n",
              "      <td>Homophobia</td>\n",
              "      <td>None</td>\n",
              "    </tr>\n",
              "    <tr>\n",
              "      <th>18</th>\n",
              "      <td>vlcnlvt trouve ça pertinent rapport male gaze ...</td>\n",
              "      <td>None</td>\n",
              "      <td>None</td>\n",
              "    </tr>\n",
              "    <tr>\n",
              "      <th>19</th>\n",
              "      <td>darwin 15 tirs 0 buts l autre 1 but 1 tir gg n...</td>\n",
              "      <td>Homophobia</td>\n",
              "      <td>None</td>\n",
              "    </tr>\n",
              "    <tr>\n",
              "      <th>20</th>\n",
              "      <td>pourqoi lesbienne pourquoi pitieeeee pourquoii...</td>\n",
              "      <td>None</td>\n",
              "      <td>None</td>\n",
              "    </tr>\n",
              "    <tr>\n",
              "      <th>21</th>\n",
              "      <td>tout fuis tant grosse lesbienne refoulée http ...</td>\n",
              "      <td>None</td>\n",
              "      <td>None</td>\n",
              "    </tr>\n",
              "    <tr>\n",
              "      <th>22</th>\n",
              "      <td>jvais vrm bz tmr lache adresse jour lieu douvr...</td>\n",
              "      <td>Homophobia</td>\n",
              "      <td>Homophobia</td>\n",
              "    </tr>\n",
              "    <tr>\n",
              "      <th>23</th>\n",
              "      <td>le_chaman nan evidemment c est degueulasse pla...</td>\n",
              "      <td>None</td>\n",
              "      <td>None</td>\n",
              "    </tr>\n",
              "    <tr>\n",
              "      <th>24</th>\n",
              "      <td>tsubasachb10 t e grave pd va</td>\n",
              "      <td>Homophobia</td>\n",
              "      <td>Homophobia</td>\n",
              "    </tr>\n",
              "  </tbody>\n",
              "</table>\n",
              "</div>\n",
              "      <button class=\"colab-df-convert\" onclick=\"convertToInteractive('df-f5c6e429-f911-4369-a30a-6c0880c97890')\"\n",
              "              title=\"Convert this dataframe to an interactive table.\"\n",
              "              style=\"display:none;\">\n",
              "        \n",
              "  <svg xmlns=\"http://www.w3.org/2000/svg\" height=\"24px\"viewBox=\"0 0 24 24\"\n",
              "       width=\"24px\">\n",
              "    <path d=\"M0 0h24v24H0V0z\" fill=\"none\"/>\n",
              "    <path d=\"M18.56 5.44l.94 2.06.94-2.06 2.06-.94-2.06-.94-.94-2.06-.94 2.06-2.06.94zm-11 1L8.5 8.5l.94-2.06 2.06-.94-2.06-.94L8.5 2.5l-.94 2.06-2.06.94zm10 10l.94 2.06.94-2.06 2.06-.94-2.06-.94-.94-2.06-.94 2.06-2.06.94z\"/><path d=\"M17.41 7.96l-1.37-1.37c-.4-.4-.92-.59-1.43-.59-.52 0-1.04.2-1.43.59L10.3 9.45l-7.72 7.72c-.78.78-.78 2.05 0 2.83L4 21.41c.39.39.9.59 1.41.59.51 0 1.02-.2 1.41-.59l7.78-7.78 2.81-2.81c.8-.78.8-2.07 0-2.86zM5.41 20L4 18.59l7.72-7.72 1.47 1.35L5.41 20z\"/>\n",
              "  </svg>\n",
              "      </button>\n",
              "      \n",
              "  <style>\n",
              "    .colab-df-container {\n",
              "      display:flex;\n",
              "      flex-wrap:wrap;\n",
              "      gap: 12px;\n",
              "    }\n",
              "\n",
              "    .colab-df-convert {\n",
              "      background-color: #E8F0FE;\n",
              "      border: none;\n",
              "      border-radius: 50%;\n",
              "      cursor: pointer;\n",
              "      display: none;\n",
              "      fill: #1967D2;\n",
              "      height: 32px;\n",
              "      padding: 0 0 0 0;\n",
              "      width: 32px;\n",
              "    }\n",
              "\n",
              "    .colab-df-convert:hover {\n",
              "      background-color: #E2EBFA;\n",
              "      box-shadow: 0px 1px 2px rgba(60, 64, 67, 0.3), 0px 1px 3px 1px rgba(60, 64, 67, 0.15);\n",
              "      fill: #174EA6;\n",
              "    }\n",
              "\n",
              "    [theme=dark] .colab-df-convert {\n",
              "      background-color: #3B4455;\n",
              "      fill: #D2E3FC;\n",
              "    }\n",
              "\n",
              "    [theme=dark] .colab-df-convert:hover {\n",
              "      background-color: #434B5C;\n",
              "      box-shadow: 0px 1px 3px 1px rgba(0, 0, 0, 0.15);\n",
              "      filter: drop-shadow(0px 1px 2px rgba(0, 0, 0, 0.3));\n",
              "      fill: #FFFFFF;\n",
              "    }\n",
              "  </style>\n",
              "\n",
              "      <script>\n",
              "        const buttonEl =\n",
              "          document.querySelector('#df-f5c6e429-f911-4369-a30a-6c0880c97890 button.colab-df-convert');\n",
              "        buttonEl.style.display =\n",
              "          google.colab.kernel.accessAllowed ? 'block' : 'none';\n",
              "\n",
              "        async function convertToInteractive(key) {\n",
              "          const element = document.querySelector('#df-f5c6e429-f911-4369-a30a-6c0880c97890');\n",
              "          const dataTable =\n",
              "            await google.colab.kernel.invokeFunction('convertToInteractive',\n",
              "                                                     [key], {});\n",
              "          if (!dataTable) return;\n",
              "\n",
              "          const docLinkHtml = 'Like what you see? Visit the ' +\n",
              "            '<a target=\"_blank\" href=https://colab.research.google.com/notebooks/data_table.ipynb>data table notebook</a>'\n",
              "            + ' to learn more about interactive tables.';\n",
              "          element.innerHTML = '';\n",
              "          dataTable['output_type'] = 'display_data';\n",
              "          await google.colab.output.renderOutput(dataTable, element);\n",
              "          const docLink = document.createElement('div');\n",
              "          docLink.innerHTML = docLinkHtml;\n",
              "          element.appendChild(docLink);\n",
              "        }\n",
              "      </script>\n",
              "    </div>\n",
              "  </div>\n",
              "  "
            ]
          },
          "metadata": {},
          "execution_count": 70
        }
      ]
    },
    {
      "cell_type": "markdown",
      "source": [
        "# Reading Materials: \n",
        "\n",
        "## https://medium.com/distributed-computing-with-ray/hyperparameter-optimization-for-transformers-a-guide-c4e32c6c989b \n",
        "## https://amaiya.github.io/ktrain/index.html\n",
        "## https://towardsdatascience.com/transformers-89034557de14"
      ],
      "metadata": {
        "id": "Uo0N4_nqwZVf"
      }
    },
    {
      "cell_type": "code",
      "source": [],
      "metadata": {
        "id": "Acsq4riiG-jx"
      },
      "execution_count": null,
      "outputs": []
    }
  ]
}